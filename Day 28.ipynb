{
 "cells": [
  {
   "cell_type": "markdown",
   "metadata": {
    "ExecuteTime": {
     "end_time": "2019-07-25T16:50:39.439348Z",
     "start_time": "2019-07-25T16:50:39.434356Z"
    }
   },
   "source": [
    "# Federated learning with trusted aggregator"
   ]
  },
  {
   "cell_type": "code",
   "execution_count": 2,
   "metadata": {
    "ExecuteTime": {
     "end_time": "2019-07-25T16:52:52.330694Z",
     "start_time": "2019-07-25T16:51:58.880049Z"
    }
   },
   "outputs": [
    {
     "name": "stderr",
     "output_type": "stream",
     "text": [
      "WARNING:tf_encrypted:Falling back to insecure randomness since the required custom op could not be found for the installed version of TensorFlow. Fix this by compiling custom ops. Missing file was 'C:\\ProgramData\\Anaconda3\\lib\\site-packages\\tf_encrypted-0.5.6-py3.6.egg\\tf_encrypted/operations/secure_random/secure_random_module_tf_1.12.0.so'\n",
      "WARNING:root:Falling back to using int100 tensors due to lack of int64 support. Performance may be improved by installing a version of TensorFlow supporting this (1.13+ or custom build).\n"
     ]
    }
   ],
   "source": [
    "import syft as sy\n",
    "import torch as th\n",
    "hook = sy.TorchHook(th)\n",
    "from torch import nn, optim"
   ]
  },
  {
   "cell_type": "code",
   "execution_count": 3,
   "metadata": {
    "ExecuteTime": {
     "end_time": "2019-07-25T16:54:13.198305Z",
     "start_time": "2019-07-25T16:54:13.194306Z"
    }
   },
   "outputs": [],
   "source": [
    "#create workers\n",
    "viper = sy.VirtualWorker(hook, id = \"viper\")\n",
    "quassi = sy.VirtualWorker(hook, id = \"quassi\")\n",
    "secure_worker = sy.VirtualWorker(hook, id = \"secure_worker\")\n"
   ]
  },
  {
   "cell_type": "code",
   "execution_count": 4,
   "metadata": {
    "ExecuteTime": {
     "end_time": "2019-07-25T16:55:11.105698Z",
     "start_time": "2019-07-25T16:55:11.062724Z"
    }
   },
   "outputs": [
    {
     "name": "stderr",
     "output_type": "stream",
     "text": [
      "WARNING:syft.workers.base:Worker quassi already exists. Replacing old worker which could cause                     unexpected behavior\n",
      "WARNING:syft.workers.base:Worker secure_worker already exists. Replacing old worker which could cause                     unexpected behavior\n",
      "WARNING:syft.workers.base:Worker viper already exists. Replacing old worker which could cause                     unexpected behavior\n",
      "WARNING:syft.workers.base:Worker secure_worker already exists. Replacing old worker which could cause                     unexpected behavior\n",
      "WARNING:syft.workers.base:Worker viper already exists. Replacing old worker which could cause                     unexpected behavior\n",
      "WARNING:syft.workers.base:Worker quassi already exists. Replacing old worker which could cause                     unexpected behavior\n"
     ]
    },
    {
     "data": {
      "text/plain": [
       "<VirtualWorker id:secure_worker #objects:0>"
      ]
     },
     "execution_count": 4,
     "metadata": {},
     "output_type": "execute_result"
    }
   ],
   "source": [
    "# letting each worker know that otherworkers also exists\n",
    "\n",
    "viper.add_workers([quassi, secure_worker])\n",
    "quassi.add_workers([viper, secure_worker])\n",
    "secure_worker.add_workers([viper, quassi])"
   ]
  },
  {
   "cell_type": "code",
   "execution_count": 5,
   "metadata": {
    "ExecuteTime": {
     "end_time": "2019-07-25T16:56:24.650994Z",
     "start_time": "2019-07-25T16:56:24.599935Z"
    }
   },
   "outputs": [],
   "source": [
    "# A Toy Dataset\n",
    "data = th.tensor([[0,0],[0,1],[1,0],[1,1.]], requires_grad=True)\n",
    "target = th.tensor([[0],[0],[1],[1.]], requires_grad=True)"
   ]
  },
  {
   "cell_type": "code",
   "execution_count": 6,
   "metadata": {
    "ExecuteTime": {
     "end_time": "2019-07-25T16:58:35.221455Z",
     "start_time": "2019-07-25T16:58:34.845305Z"
    }
   },
   "outputs": [],
   "source": [
    "#send data to viper and quassi\n",
    "\n",
    "viper_data = data[:2].send(viper)\n",
    "viper_target = target[:2].send(viper)\n",
    "\n",
    "quassi_data = data[2:].send(quassi)\n",
    "quassi_target = target[2:].send(quassi)"
   ]
  },
  {
   "cell_type": "code",
   "execution_count": 7,
   "metadata": {
    "ExecuteTime": {
     "end_time": "2019-07-25T16:59:25.416878Z",
     "start_time": "2019-07-25T16:59:25.205122Z"
    }
   },
   "outputs": [],
   "source": [
    "#create model\n",
    "model = nn.Linear(2, 1)\n"
   ]
  },
  {
   "cell_type": "code",
   "execution_count": 8,
   "metadata": {
    "ExecuteTime": {
     "end_time": "2019-07-25T17:20:31.936441Z",
     "start_time": "2019-07-25T17:20:31.487592Z"
    }
   },
   "outputs": [],
   "source": [
    "# send copy of model to each worker\n",
    "\n",
    "viper_model = model.copy().send(viper)\n",
    "quassi_model = model.copy().send(quassi)"
   ]
  },
  {
   "cell_type": "code",
   "execution_count": 10,
   "metadata": {
    "ExecuteTime": {
     "end_time": "2019-07-25T17:20:59.990921Z",
     "start_time": "2019-07-25T17:20:59.984930Z"
    }
   },
   "outputs": [],
   "source": [
    "# optimizers\n",
    "viper_opt = optim.SGD(params=viper_model.parameters(),lr=0.1)\n",
    "quassi_opt = optim.SGD(params=quassi_model.parameters(),lr=0.1)"
   ]
  },
  {
   "cell_type": "code",
   "execution_count": 14,
   "metadata": {
    "ExecuteTime": {
     "end_time": "2019-07-25T17:27:13.845064Z",
     "start_time": "2019-07-25T17:27:13.489268Z"
    }
   },
   "outputs": [
    {
     "name": "stdout",
     "output_type": "stream",
     "text": [
      "tensor(0.0329)\n",
      "tensor(0.0274)\n",
      "tensor(0.0228)\n",
      "tensor(0.0190)\n",
      "tensor(0.0158)\n",
      "tensor(0.0132)\n",
      "tensor(0.0109)\n",
      "tensor(0.0091)\n",
      "tensor(0.0076)\n",
      "tensor(0.0063)\n"
     ]
    }
   ],
   "source": [
    "#train\n",
    "for i in range(10):\n",
    "    viper_opt.zero_grad()\n",
    "    viper_pred = viper_model(viper_data)\n",
    "    viper_loss = ((viper_pred - viper_target) ** 2).sum()\n",
    "    viper_loss.backward()\n",
    "    viper_opt.step()\n",
    "    viper_loss = viper_loss.get().data\n",
    "    \n",
    "    \n",
    "    quassi_opt.zero_grad()\n",
    "    quassi_pred = quassi_model(quassi_data)\n",
    "    quassi_loss = ((quassi_pred - quassi_target) ** 2).sum()\n",
    "    quassi_loss.backward()\n",
    "    quassi_opt.step()\n",
    "    quassi_loss = quassi_loss.get().data\n",
    "\n",
    "    print(quassi_loss)\n",
    "\n",
    "\n"
   ]
  },
  {
   "cell_type": "code",
   "execution_count": 15,
   "metadata": {
    "ExecuteTime": {
     "end_time": "2019-07-25T17:28:42.220013Z",
     "start_time": "2019-07-25T17:28:42.203020Z"
    }
   },
   "outputs": [],
   "source": [
    "# send model to secure worker\n",
    "viper_model.move(secure_worker)\n",
    "quassi_model.move(secure_worker)"
   ]
  },
  {
   "cell_type": "code",
   "execution_count": 16,
   "metadata": {
    "ExecuteTime": {
     "end_time": "2019-07-25T17:31:20.866297Z",
     "start_time": "2019-07-25T17:31:20.813285Z"
    }
   },
   "outputs": [],
   "source": [
    "#avg the model\n",
    "with th.no_grad():\n",
    "\n",
    "    model.weight.set_(((viper_model.weight.data + quassi_model.weight.data) / 2).get())\n",
    "    model.bias.set_(((viper_model.bias.data + quassi_model.bias.data) / 2).get())"
   ]
  },
  {
   "cell_type": "code",
   "execution_count": 20,
   "metadata": {
    "ExecuteTime": {
     "end_time": "2019-07-25T17:37:43.422255Z",
     "start_time": "2019-07-25T17:37:42.091852Z"
    }
   },
   "outputs": [
    {
     "name": "stdout",
     "output_type": "stream",
     "text": [
      "Viper: 4.452786015463062e-06 \t Quassi: 8.837663756366965e-08\n",
      "Viper: 3.427057208682527e-06 \t Quassi: 6.792845397285419e-08\n",
      "Viper: 2.6375596462457906e-06 \t Quassi: 5.2282292273275743e-08\n",
      "Viper: 2.0299207790230867e-06 \t Quassi: 4.024515831702047e-08\n",
      "Viper: 1.5622615592292277e-06 \t Quassi: 3.095210843184759e-08\n",
      "Viper: 1.2023338058497757e-06 \t Quassi: 2.380204477958614e-08\n",
      "Viper: 9.253211601389921e-07 \t Quassi: 1.833794271988154e-08\n",
      "Viper: 7.121345788618783e-07 \t Quassi: 1.4095792977286692e-08\n",
      "Viper: 5.480611093844345e-07 \t Quassi: 1.0848509646166349e-08\n",
      "Viper: 4.217868081468623e-07 \t Quassi: 8.354078318006941e-09\n"
     ]
    }
   ],
   "source": [
    "iteration = 10\n",
    "worker_iteration = 5\n",
    "\n",
    "for i in range(iteration):\n",
    "    # send copy of model to each worker\n",
    "\n",
    "    viper_model = model.copy().send(viper)\n",
    "    quassi_model = model.copy().send(quassi)\n",
    "    \n",
    "    # optimizers\n",
    "    viper_opt = optim.SGD(params=viper_model.parameters(),lr=0.1)\n",
    "    quassi_opt = optim.SGD(params=quassi_model.parameters(),lr=0.1)\n",
    "\n",
    "    for wi in range(worker_iteration):\n",
    "        viper_opt.zero_grad()\n",
    "        viper_pred = viper_model(viper_data)\n",
    "        viper_loss = ((viper_pred - viper_target) ** 2).sum()\n",
    "        viper_loss.backward()\n",
    "        viper_opt.step()\n",
    "        viper_loss = viper_loss.get().data\n",
    "\n",
    "\n",
    "        quassi_opt.zero_grad()\n",
    "        quassi_pred = quassi_model(quassi_data)\n",
    "        quassi_loss = ((quassi_pred - quassi_target) ** 2).sum()\n",
    "        quassi_loss.backward()\n",
    "        quassi_opt.step()\n",
    "        quassi_loss = quassi_loss.get().data\n",
    "        \n",
    "    # send model to secure worker\n",
    "    viper_model.move(secure_worker)\n",
    "    quassi_model.move(secure_worker)\n",
    "    \n",
    "    #avg the model\n",
    "    with th.no_grad():\n",
    "\n",
    "        model.weight.set_(((viper_model.weight.data + quassi_model.weight.data) / 2).get())\n",
    "        model.bias.set_(((viper_model.bias.data + quassi_model.bias.data) / 2).get())\n",
    "    \n",
    "    print(f\"Viper: {viper_loss} \\t Quassi: {quassi_loss}\")"
   ]
  },
  {
   "cell_type": "code",
   "execution_count": 21,
   "metadata": {
    "ExecuteTime": {
     "end_time": "2019-07-25T17:38:04.201094Z",
     "start_time": "2019-07-25T17:38:04.194101Z"
    }
   },
   "outputs": [],
   "source": [
    "preds = model(data)\n",
    "loss = ((preds - target) ** 2).sum()"
   ]
  },
  {
   "cell_type": "code",
   "execution_count": 22,
   "metadata": {
    "ExecuteTime": {
     "end_time": "2019-07-25T17:38:13.627645Z",
     "start_time": "2019-07-25T17:38:13.607626Z"
    }
   },
   "outputs": [
    {
     "name": "stdout",
     "output_type": "stream",
     "text": [
      "tensor([[0.0018],\n",
      "        [0.0015],\n",
      "        [0.9981],\n",
      "        [0.9978]], grad_fn=<AddmmBackward>)\n",
      "tensor([[0.],\n",
      "        [0.],\n",
      "        [1.],\n",
      "        [1.]], requires_grad=True)\n",
      "tensor(1.3827e-05)\n"
     ]
    }
   ],
   "source": [
    "print(preds)\n",
    "print(target)\n",
    "print(loss.data)"
   ]
  },
  {
   "cell_type": "code",
   "execution_count": null,
   "metadata": {},
   "outputs": [],
   "source": []
  },
  {
   "cell_type": "code",
   "execution_count": null,
   "metadata": {},
   "outputs": [],
   "source": []
  }
 ],
 "metadata": {
  "kernelspec": {
   "display_name": "Python 3",
   "language": "python",
   "name": "python3"
  },
  "language_info": {
   "codemirror_mode": {
    "name": "ipython",
    "version": 3
   },
   "file_extension": ".py",
   "mimetype": "text/x-python",
   "name": "python",
   "nbconvert_exporter": "python",
   "pygments_lexer": "ipython3",
   "version": "3.6.8"
  },
  "latex_envs": {
   "LaTeX_envs_menu_present": true,
   "autoclose": false,
   "autocomplete": true,
   "bibliofile": "biblio.bib",
   "cite_by": "apalike",
   "current_citInitial": 1,
   "eqLabelWithNumbers": true,
   "eqNumInitial": 1,
   "hotkeys": {
    "equation": "Ctrl-E",
    "itemize": "Ctrl-I"
   },
   "labels_anchors": false,
   "latex_user_defs": false,
   "report_style_numbering": false,
   "user_envs_cfg": false
  },
  "varInspector": {
   "cols": {
    "lenName": 16,
    "lenType": 16,
    "lenVar": 40
   },
   "kernels_config": {
    "python": {
     "delete_cmd_postfix": "",
     "delete_cmd_prefix": "del ",
     "library": "var_list.py",
     "varRefreshCmd": "print(var_dic_list())"
    },
    "r": {
     "delete_cmd_postfix": ") ",
     "delete_cmd_prefix": "rm(",
     "library": "var_list.r",
     "varRefreshCmd": "cat(var_dic_list()) "
    }
   },
   "types_to_exclude": [
    "module",
    "function",
    "builtin_function_or_method",
    "instance",
    "_Feature"
   ],
   "window_display": false
  }
 },
 "nbformat": 4,
 "nbformat_minor": 2
}
