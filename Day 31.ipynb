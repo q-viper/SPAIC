{
 "cells": [
  {
   "cell_type": "code",
   "execution_count": 1,
   "metadata": {
    "ExecuteTime": {
     "end_time": "2019-07-28T16:20:56.953776Z",
     "start_time": "2019-07-28T16:19:53.604698Z"
    }
   },
   "outputs": [
    {
     "name": "stderr",
     "output_type": "stream",
     "text": [
      "WARNING:tf_encrypted:Falling back to insecure randomness since the required custom op could not be found for the installed version of TensorFlow. Fix this by compiling custom ops. Missing file was 'C:\\ProgramData\\Anaconda3\\lib\\site-packages\\tf_encrypted-0.5.6-py3.6.egg\\tf_encrypted/operations/secure_random/secure_random_module_tf_1.12.0.so'\n",
      "WARNING:root:Falling back to using int100 tensors due to lack of int64 support. Performance may be improved by installing a version of TensorFlow supporting this (1.13+ or custom build).\n"
     ]
    }
   ],
   "source": [
    "import syft as sy\n",
    "import torch as th\n",
    "hook = sy.TorchHook(th)\n",
    "from torch import nn, optim"
   ]
  },
  {
   "cell_type": "code",
   "execution_count": 2,
   "metadata": {
    "ExecuteTime": {
     "end_time": "2019-07-28T16:20:56.984745Z",
     "start_time": "2019-07-28T16:20:56.978750Z"
    }
   },
   "outputs": [],
   "source": [
    "#create workers\n",
    "viper = sy.VirtualWorker(hook, id = \"viper\")\n",
    "quassi = sy.VirtualWorker(hook, id = \"quassi\")\n",
    "secure_worker = sy.VirtualWorker(hook, id = \"secure_worker\")\n"
   ]
  },
  {
   "cell_type": "code",
   "execution_count": 4,
   "metadata": {
    "ExecuteTime": {
     "end_time": "2019-07-28T16:25:41.287547Z",
     "start_time": "2019-07-28T16:25:41.270558Z"
    }
   },
   "outputs": [
    {
     "data": {
      "text/plain": [
       "<VirtualWorker id:viper #objects:0>"
      ]
     },
     "execution_count": 4,
     "metadata": {},
     "output_type": "execute_result"
    }
   ],
   "source": [
    "viper"
   ]
  },
  {
   "cell_type": "code",
   "execution_count": 5,
   "metadata": {
    "ExecuteTime": {
     "end_time": "2019-07-28T16:26:04.128216Z",
     "start_time": "2019-07-28T16:26:03.857719Z"
    }
   },
   "outputs": [],
   "source": [
    "x = th.Tensor([2, 3, 4, 2, 1])"
   ]
  },
  {
   "cell_type": "code",
   "execution_count": 6,
   "metadata": {
    "ExecuteTime": {
     "end_time": "2019-07-28T16:26:38.495214Z",
     "start_time": "2019-07-28T16:26:38.125481Z"
    }
   },
   "outputs": [],
   "source": [
    "# automatically shares different part of share with different workers\n",
    "x = x.share(viper, quassi, secure_worker)"
   ]
  },
  {
   "cell_type": "code",
   "execution_count": 7,
   "metadata": {
    "ExecuteTime": {
     "end_time": "2019-07-28T16:26:46.888395Z",
     "start_time": "2019-07-28T16:26:46.848415Z"
    }
   },
   "outputs": [
    {
     "data": {
      "text/plain": [
       "{40447923486: tensor([3082449196063846518,  695596669860007867, 1521072908354829467,\n",
       "         2032185646737840659,  192040215750952772])}"
      ]
     },
     "execution_count": 7,
     "metadata": {},
     "output_type": "execute_result"
    }
   ],
   "source": [
    "viper._objects"
   ]
  },
  {
   "cell_type": "code",
   "execution_count": 8,
   "metadata": {
    "ExecuteTime": {
     "end_time": "2019-07-28T16:27:22.968288Z",
     "start_time": "2019-07-28T16:27:22.869646Z"
    }
   },
   "outputs": [],
   "source": [
    "# still does the sum for each share\n",
    "y = x + x"
   ]
  },
  {
   "cell_type": "code",
   "execution_count": 9,
   "metadata": {
    "ExecuteTime": {
     "end_time": "2019-07-28T16:27:28.320909Z",
     "start_time": "2019-07-28T16:27:28.313914Z"
    }
   },
   "outputs": [
    {
     "data": {
      "text/plain": [
       "(Wrapper)>[AdditiveSharingTensor]\n",
       "\t-> (Wrapper)>[PointerTensor | me:30991444469 -> viper:3206294984]\n",
       "\t-> (Wrapper)>[PointerTensor | me:75075543822 -> quassi:48332210731]\n",
       "\t-> (Wrapper)>[PointerTensor | me:45706718280 -> secure_worker:87801975950]\n",
       "\t*crypto provider: me*"
      ]
     },
     "execution_count": 9,
     "metadata": {},
     "output_type": "execute_result"
    }
   ],
   "source": [
    "y"
   ]
  },
  {
   "cell_type": "code",
   "execution_count": 10,
   "metadata": {
    "ExecuteTime": {
     "end_time": "2019-07-28T16:29:31.833896Z",
     "start_time": "2019-07-28T16:29:31.822903Z"
    }
   },
   "outputs": [
    {
     "data": {
      "text/plain": [
       "tensor([4, 6, 8, 4, 2])"
      ]
     },
     "execution_count": 10,
     "metadata": {},
     "output_type": "execute_result"
    }
   ],
   "source": [
    "y.get()"
   ]
  },
  {
   "cell_type": "markdown",
   "metadata": {
    "ExecuteTime": {
     "end_time": "2019-07-28T16:30:03.473973Z",
     "start_time": "2019-07-28T16:30:03.470972Z"
    }
   },
   "source": [
    "# Fixed precision using pysyft"
   ]
  },
  {
   "cell_type": "code",
   "execution_count": 29,
   "metadata": {
    "ExecuteTime": {
     "end_time": "2019-07-28T16:36:11.700615Z",
     "start_time": "2019-07-28T16:36:11.695617Z"
    }
   },
   "outputs": [],
   "source": [
    "x = th.Tensor([0.3, 0.4, 0.5])"
   ]
  },
  {
   "cell_type": "code",
   "execution_count": 19,
   "metadata": {
    "ExecuteTime": {
     "end_time": "2019-07-28T16:35:04.360832Z",
     "start_time": "2019-07-28T16:35:04.349838Z"
    }
   },
   "outputs": [
    {
     "data": {
      "text/plain": [
       "tensor([300, 400, 500])"
      ]
     },
     "execution_count": 19,
     "metadata": {},
     "output_type": "execute_result"
    }
   ],
   "source": [
    "x.fix_prec().child.child"
   ]
  },
  {
   "cell_type": "code",
   "execution_count": 30,
   "metadata": {
    "ExecuteTime": {
     "end_time": "2019-07-28T16:36:23.069575Z",
     "start_time": "2019-07-28T16:36:23.060577Z"
    }
   },
   "outputs": [],
   "source": [
    "x = x.fix_prec().share(viper, quassi, secure_worker)"
   ]
  },
  {
   "cell_type": "code",
   "execution_count": 21,
   "metadata": {
    "ExecuteTime": {
     "end_time": "2019-07-28T16:35:07.504579Z",
     "start_time": "2019-07-28T16:35:07.496584Z"
    }
   },
   "outputs": [
    {
     "data": {
      "text/plain": [
       "(Wrapper)>[AdditiveSharingTensor]\n",
       "\t-> (Wrapper)>[PointerTensor | me:44759721183 -> viper:58326960522]\n",
       "\t-> (Wrapper)>[PointerTensor | me:81973971553 -> quassi:67840854012]\n",
       "\t-> (Wrapper)>[PointerTensor | me:59776710673 -> secure_worker:55206555131]\n",
       "\t*crypto provider: me*"
      ]
     },
     "execution_count": 21,
     "metadata": {},
     "output_type": "execute_result"
    }
   ],
   "source": [
    "x.child.child"
   ]
  },
  {
   "cell_type": "code",
   "execution_count": 31,
   "metadata": {
    "ExecuteTime": {
     "end_time": "2019-07-28T16:36:26.354445Z",
     "start_time": "2019-07-28T16:36:26.347451Z"
    }
   },
   "outputs": [],
   "source": [
    "y = x + x"
   ]
  },
  {
   "cell_type": "code",
   "execution_count": 23,
   "metadata": {
    "ExecuteTime": {
     "end_time": "2019-07-28T16:35:11.059980Z",
     "start_time": "2019-07-28T16:35:11.040987Z"
    }
   },
   "outputs": [
    {
     "data": {
      "text/plain": [
       "(Wrapper)>FixedPrecisionTensor>tensor([ 600,  800, 1000])"
      ]
     },
     "execution_count": 23,
     "metadata": {},
     "output_type": "execute_result"
    }
   ],
   "source": [
    "y.get()"
   ]
  },
  {
   "cell_type": "code",
   "execution_count": 33,
   "metadata": {
    "ExecuteTime": {
     "end_time": "2019-07-28T16:37:03.687616Z",
     "start_time": "2019-07-28T16:37:03.679618Z"
    }
   },
   "outputs": [],
   "source": [
    "y = y.get().float_prec()"
   ]
  },
  {
   "cell_type": "code",
   "execution_count": 34,
   "metadata": {
    "ExecuteTime": {
     "end_time": "2019-07-28T16:37:09.349264Z",
     "start_time": "2019-07-28T16:37:09.340290Z"
    }
   },
   "outputs": [
    {
     "data": {
      "text/plain": [
       "tensor([0.6000, 0.8000, 1.0000])"
      ]
     },
     "execution_count": 34,
     "metadata": {},
     "output_type": "execute_result"
    }
   ],
   "source": [
    "y"
   ]
  },
  {
   "cell_type": "code",
   "execution_count": null,
   "metadata": {},
   "outputs": [],
   "source": []
  }
 ],
 "metadata": {
  "kernelspec": {
   "display_name": "Python 3",
   "language": "python",
   "name": "python3"
  },
  "language_info": {
   "codemirror_mode": {
    "name": "ipython",
    "version": 3
   },
   "file_extension": ".py",
   "mimetype": "text/x-python",
   "name": "python",
   "nbconvert_exporter": "python",
   "pygments_lexer": "ipython3",
   "version": "3.6.8"
  },
  "latex_envs": {
   "LaTeX_envs_menu_present": true,
   "autoclose": false,
   "autocomplete": true,
   "bibliofile": "biblio.bib",
   "cite_by": "apalike",
   "current_citInitial": 1,
   "eqLabelWithNumbers": true,
   "eqNumInitial": 1,
   "hotkeys": {
    "equation": "Ctrl-E",
    "itemize": "Ctrl-I"
   },
   "labels_anchors": false,
   "latex_user_defs": false,
   "report_style_numbering": false,
   "user_envs_cfg": false
  },
  "varInspector": {
   "cols": {
    "lenName": 16,
    "lenType": 16,
    "lenVar": 40
   },
   "kernels_config": {
    "python": {
     "delete_cmd_postfix": "",
     "delete_cmd_prefix": "del ",
     "library": "var_list.py",
     "varRefreshCmd": "print(var_dic_list())"
    },
    "r": {
     "delete_cmd_postfix": ") ",
     "delete_cmd_prefix": "rm(",
     "library": "var_list.r",
     "varRefreshCmd": "cat(var_dic_list()) "
    }
   },
   "types_to_exclude": [
    "module",
    "function",
    "builtin_function_or_method",
    "instance",
    "_Feature"
   ],
   "window_display": false
  }
 },
 "nbformat": 4,
 "nbformat_minor": 2
}
