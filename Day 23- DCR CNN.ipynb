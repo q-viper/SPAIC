{
 "cells": [
  {
   "cell_type": "markdown",
   "metadata": {},
   "source": [
    "> A bit modification to the previous digit classifier. I used log_softmax instead of just softmax. When i used softmax, the accuracy never converged well but while using log_softmax accuracy was going well."
   ]
  },
  {
   "cell_type": "code",
   "execution_count": 1,
   "metadata": {
    "ExecuteTime": {
     "end_time": "2019-07-22T11:53:52.351835Z",
     "start_time": "2019-07-22T11:53:50.762321Z"
    }
   },
   "outputs": [],
   "source": [
    "import numpy as np\n",
    "import matplotlib.pyplot as plt\n",
    "import torch as th\n",
    "import torch.nn.functional as F\n",
    "from torch import nn, optim\n",
    "import torchvision\n",
    "\n",
    "plt.style.use('seaborn-whitegrid')"
   ]
  },
  {
   "cell_type": "code",
   "execution_count": 2,
   "metadata": {
    "ExecuteTime": {
     "end_time": "2019-07-22T11:53:52.366826Z",
     "start_time": "2019-07-22T11:53:52.354833Z"
    }
   },
   "outputs": [],
   "source": [
    "def dataset(file):\n",
    "    current_datafile = open(file, 'r')\n",
    "    current_dataset = current_datafile.readlines()\n",
    "    current_datafile.close()\n",
    "\n",
    "    datasets = np.zeros([len(current_dataset), 1025])\n",
    "    indices = np.linspace(0, len(current_dataset) - 1, len(current_dataset), dtype = np.int64)\n",
    "    np.random.shuffle(indices)\n",
    "    k = 0\n",
    "    for i in indices:\n",
    "        \n",
    "        example = current_dataset[i].split(',')\n",
    "        labels = np.asarray(example[0], dtype = np.float32)\n",
    "        images = np.asarray(example[1:], dtype=np.float32) / 255   \n",
    "        example = np.hstack([labels, images])\n",
    "        \n",
    "        datasets[k] = example\n",
    "        k = k + 1\n",
    "    return datasets\n"
   ]
  },
  {
   "cell_type": "code",
   "execution_count": 3,
   "metadata": {
    "ExecuteTime": {
     "end_time": "2019-07-22T11:54:02.084259Z",
     "start_time": "2019-07-22T11:53:52.371824Z"
    }
   },
   "outputs": [],
   "source": [
    "train_data = dataset('train.csv')\n",
    "test_data = dataset('test.csv')\n",
    "trainloader = th.utils.data.DataLoader(train_data, shuffle = True, batch_size = 32)\n",
    "testloader = th.utils.data.DataLoader(test_data, shuffle = True, batch_size = 32)"
   ]
  },
  {
   "cell_type": "code",
   "execution_count": 4,
   "metadata": {
    "ExecuteTime": {
     "end_time": "2019-07-22T11:54:02.126239Z",
     "start_time": "2019-07-22T11:54:02.087260Z"
    },
    "scrolled": false
   },
   "outputs": [
    {
     "name": "stderr",
     "output_type": "stream",
     "text": [
      "C:\\ProgramData\\Anaconda3\\lib\\site-packages\\ipykernel_launcher.py:21: UserWarning: Implicit dimension choice for log_softmax has been deprecated. Change the call to include dim=X as an argument.\n"
     ]
    },
    {
     "name": "stdout",
     "output_type": "stream",
     "text": [
      "tensor(5., dtype=torch.float64) tensor([[-2.4359, -2.4139, -2.1862, -2.3409, -2.3824, -2.3848, -2.0483, -2.4848,\n",
      "         -2.1125, -2.3356]], grad_fn=<LogSoftmaxBackward>)\n"
     ]
    }
   ],
   "source": [
    "# define the CNN architecture\n",
    "class Net(nn.Module):\n",
    "    def __init__(self):\n",
    "        super(Net, self).__init__()\n",
    "        self.conv1 = nn.Conv2d(1, 32, 3)\n",
    "        self.conv2 = nn.Conv2d(32, 16, 3)\n",
    "        self.conv3 = nn.Conv2d(16, 8, 3)\n",
    "        self.pool = nn.MaxPool2d(2, 2)\n",
    "        self.fc1 = nn.Linear(32, 16)\n",
    "        self.fc2 = nn.Linear(16, 10)\n",
    "#         self.fc1.weight.data = th.ones()\n",
    "        self.drop = nn.Dropout2d(0.2)\n",
    "\n",
    "    def forward(self, x):\n",
    "        x = self.drop(self.pool(F.relu(self.conv1(x))))\n",
    "        x = self.drop(self.pool(F.relu(self.conv2(x))))\n",
    "        x = self.pool(F.relu(self.conv3(x)))\n",
    "#         print(x.shape)\n",
    "        x = x.view(-1, 32)\n",
    "        x = self.fc1(x)\n",
    "        x = F.log_softmax(self.fc2(x))\n",
    "\n",
    "        return x\n",
    "\n",
    "    \n",
    "# Check if model working fine\n",
    "example = next(iter(trainloader))\n",
    "label = example[0][0]\n",
    "example = example[0][1:].float()\n",
    "example = example.reshape(1, 1, 32, 32)\n",
    "    \n",
    "model = Net()\n",
    "\n",
    "print(label, model(example))\n",
    "\n",
    "# print(model.fc1.weight.data, model.fc1.weight.data)\n",
    "\n"
   ]
  },
  {
   "cell_type": "code",
   "execution_count": 5,
   "metadata": {
    "ExecuteTime": {
     "end_time": "2019-07-22T11:54:02.330203Z",
     "start_time": "2019-07-22T11:54:02.132232Z"
    }
   },
   "outputs": [],
   "source": [
    "# optimizer = optim.SGD(model.parameters(), weight_decay=1e-6, lr=0.01, momentum=0.9, nesterov=True)\n",
    "optimizer = optim.Adam(model.parameters(), lr = 0.001)\n",
    "criterion = nn.CrossEntropyLoss()\n"
   ]
  },
  {
   "cell_type": "code",
   "execution_count": 6,
   "metadata": {
    "ExecuteTime": {
     "end_time": "2019-07-22T12:02:30.074899Z",
     "start_time": "2019-07-22T11:54:02.332181Z"
    },
    "scrolled": false
   },
   "outputs": [
    {
     "name": "stderr",
     "output_type": "stream",
     "text": [
      "C:\\ProgramData\\Anaconda3\\lib\\site-packages\\ipykernel_launcher.py:21: UserWarning: Implicit dimension choice for log_softmax has been deprecated. Change the call to include dim=X as an argument.\n"
     ]
    },
    {
     "name": "stdout",
     "output_type": "stream",
     "text": [
      "Epoch: 1/100..  Training Loss: 1.991..  Test Loss: 1.234..  Test Accuracy: 55.319%\n",
      "Epoch: 2/100..  Training Loss: 1.026..  Test Loss: 0.881..  Test Accuracy: 69.149%\n",
      "Epoch: 3/100..  Training Loss: 0.832..  Test Loss: 0.778..  Test Accuracy: 76.596%\n",
      "Epoch: 4/100..  Training Loss: 0.765..  Test Loss: 0.844..  Test Accuracy: 74.468%\n",
      "Epoch: 5/100..  Training Loss: 0.621..  Test Loss: 0.560..  Test Accuracy: 85.106%\n",
      "Epoch: 6/100..  Training Loss: 0.595..  Test Loss: 0.441..  Test Accuracy: 85.106%\n",
      "Epoch: 7/100..  Training Loss: 0.568..  Test Loss: 0.385..  Test Accuracy: 86.170%\n",
      "Epoch: 8/100..  Training Loss: 0.517..  Test Loss: 0.563..  Test Accuracy: 76.596%\n",
      "Epoch: 9/100..  Training Loss: 0.482..  Test Loss: 0.282..  Test Accuracy: 91.489%\n",
      "Epoch: 10/100..  Training Loss: 0.462..  Test Loss: 0.297..  Test Accuracy: 90.426%\n",
      "Epoch: 11/100..  Training Loss: 0.349..  Test Loss: 0.444..  Test Accuracy: 90.426%\n",
      "Epoch: 12/100..  Training Loss: 0.431..  Test Loss: 0.411..  Test Accuracy: 86.170%\n",
      "Epoch: 13/100..  Training Loss: 0.380..  Test Loss: 0.217..  Test Accuracy: 94.681%\n",
      "Epoch: 14/100..  Training Loss: 0.442..  Test Loss: 0.249..  Test Accuracy: 94.681%\n",
      "Epoch: 15/100..  Training Loss: 0.404..  Test Loss: 0.239..  Test Accuracy: 90.426%\n",
      "Epoch: 16/100..  Training Loss: 0.343..  Test Loss: 0.292..  Test Accuracy: 91.489%\n",
      "Epoch: 17/100..  Training Loss: 0.354..  Test Loss: 0.161..  Test Accuracy: 92.553%\n",
      "Epoch: 18/100..  Training Loss: 0.310..  Test Loss: 0.374..  Test Accuracy: 87.234%\n",
      "Epoch: 19/100..  Training Loss: 0.360..  Test Loss: 0.209..  Test Accuracy: 92.553%\n",
      "Epoch: 20/100..  Training Loss: 0.396..  Test Loss: 0.275..  Test Accuracy: 91.489%\n",
      "Epoch: 21/100..  Training Loss: 0.324..  Test Loss: 0.253..  Test Accuracy: 93.617%\n",
      "Epoch: 22/100..  Training Loss: 0.334..  Test Loss: 0.367..  Test Accuracy: 92.553%\n",
      "Epoch: 23/100..  Training Loss: 0.312..  Test Loss: 0.229..  Test Accuracy: 94.681%\n",
      "Epoch: 24/100..  Training Loss: 0.305..  Test Loss: 0.259..  Test Accuracy: 90.426%\n",
      "Epoch: 25/100..  Training Loss: 0.281..  Test Loss: 0.138..  Test Accuracy: 95.745%\n",
      "Epoch: 26/100..  Training Loss: 0.266..  Test Loss: 0.185..  Test Accuracy: 94.681%\n",
      "Epoch: 27/100..  Training Loss: 0.302..  Test Loss: 0.202..  Test Accuracy: 91.489%\n",
      "Epoch: 28/100..  Training Loss: 0.368..  Test Loss: 0.167..  Test Accuracy: 96.809%\n",
      "Epoch: 29/100..  Training Loss: 0.272..  Test Loss: 0.118..  Test Accuracy: 96.809%\n",
      "Epoch: 30/100..  Training Loss: 0.259..  Test Loss: 0.247..  Test Accuracy: 94.681%\n",
      "Epoch: 31/100..  Training Loss: 0.270..  Test Loss: 0.181..  Test Accuracy: 93.617%\n",
      "Epoch: 32/100..  Training Loss: 0.201..  Test Loss: 0.146..  Test Accuracy: 93.617%\n",
      "Epoch: 33/100..  Training Loss: 0.371..  Test Loss: 0.253..  Test Accuracy: 91.489%\n",
      "Epoch: 34/100..  Training Loss: 0.305..  Test Loss: 0.217..  Test Accuracy: 92.553%\n",
      "Epoch: 35/100..  Training Loss: 0.242..  Test Loss: 0.137..  Test Accuracy: 94.681%\n",
      "Epoch: 36/100..  Training Loss: 0.331..  Test Loss: 0.206..  Test Accuracy: 91.489%\n",
      "Epoch: 37/100..  Training Loss: 0.275..  Test Loss: 0.207..  Test Accuracy: 93.617%\n",
      "Epoch: 38/100..  Training Loss: 0.253..  Test Loss: 0.205..  Test Accuracy: 94.681%\n",
      "Epoch: 39/100..  Training Loss: 0.250..  Test Loss: 0.082..  Test Accuracy: 97.872%\n",
      "Epoch: 40/100..  Training Loss: 0.306..  Test Loss: 0.166..  Test Accuracy: 96.809%\n",
      "Epoch: 41/100..  Training Loss: 0.227..  Test Loss: 0.087..  Test Accuracy: 97.872%\n",
      "Epoch: 42/100..  Training Loss: 0.241..  Test Loss: 0.259..  Test Accuracy: 92.553%\n",
      "Epoch: 43/100..  Training Loss: 0.214..  Test Loss: 0.125..  Test Accuracy: 95.745%\n",
      "Epoch: 44/100..  Training Loss: 0.213..  Test Loss: 0.163..  Test Accuracy: 94.681%\n",
      "Epoch: 45/100..  Training Loss: 0.238..  Test Loss: 0.117..  Test Accuracy: 94.681%\n",
      "Epoch: 46/100..  Training Loss: 0.245..  Test Loss: 0.069..  Test Accuracy: 100.000%\n",
      "Epoch: 47/100..  Training Loss: 0.224..  Test Loss: 0.131..  Test Accuracy: 96.809%\n",
      "Epoch: 48/100..  Training Loss: 0.253..  Test Loss: 0.118..  Test Accuracy: 95.745%\n",
      "Epoch: 49/100..  Training Loss: 0.216..  Test Loss: 0.189..  Test Accuracy: 94.681%\n",
      "Epoch: 50/100..  Training Loss: 0.239..  Test Loss: 0.261..  Test Accuracy: 91.489%\n",
      "Epoch: 51/100..  Training Loss: 0.167..  Test Loss: 0.086..  Test Accuracy: 97.872%\n",
      "Epoch: 52/100..  Training Loss: 0.191..  Test Loss: 0.127..  Test Accuracy: 95.745%\n",
      "Epoch: 53/100..  Training Loss: 0.234..  Test Loss: 0.168..  Test Accuracy: 91.489%\n",
      "Epoch: 54/100..  Training Loss: 0.253..  Test Loss: 0.218..  Test Accuracy: 91.489%\n",
      "Epoch: 55/100..  Training Loss: 0.192..  Test Loss: 0.095..  Test Accuracy: 95.745%\n",
      "Epoch: 56/100..  Training Loss: 0.252..  Test Loss: 0.069..  Test Accuracy: 96.809%\n",
      "Epoch: 57/100..  Training Loss: 0.159..  Test Loss: 0.135..  Test Accuracy: 95.745%\n",
      "Epoch: 58/100..  Training Loss: 0.226..  Test Loss: 0.204..  Test Accuracy: 95.745%\n",
      "Epoch: 59/100..  Training Loss: 0.214..  Test Loss: 0.074..  Test Accuracy: 96.809%\n",
      "Epoch: 60/100..  Training Loss: 0.263..  Test Loss: 0.069..  Test Accuracy: 96.809%\n",
      "Epoch: 61/100..  Training Loss: 0.212..  Test Loss: 0.073..  Test Accuracy: 98.936%\n",
      "Epoch: 62/100..  Training Loss: 0.167..  Test Loss: 0.225..  Test Accuracy: 95.745%\n",
      "Epoch: 63/100..  Training Loss: 0.207..  Test Loss: 0.055..  Test Accuracy: 98.936%\n",
      "Epoch: 64/100..  Training Loss: 0.178..  Test Loss: 0.156..  Test Accuracy: 93.617%\n",
      "Epoch: 65/100..  Training Loss: 0.202..  Test Loss: 0.115..  Test Accuracy: 97.872%\n",
      "Epoch: 66/100..  Training Loss: 0.189..  Test Loss: 0.057..  Test Accuracy: 98.936%\n",
      "Epoch: 67/100..  Training Loss: 0.217..  Test Loss: 0.120..  Test Accuracy: 95.745%\n",
      "Epoch: 68/100..  Training Loss: 0.196..  Test Loss: 0.125..  Test Accuracy: 93.617%\n",
      "Epoch: 69/100..  Training Loss: 0.164..  Test Loss: 0.146..  Test Accuracy: 93.617%\n",
      "Epoch: 70/100..  Training Loss: 0.157..  Test Loss: 0.150..  Test Accuracy: 94.681%\n",
      "Epoch: 71/100..  Training Loss: 0.224..  Test Loss: 0.123..  Test Accuracy: 93.617%\n",
      "Epoch: 72/100..  Training Loss: 0.221..  Test Loss: 0.151..  Test Accuracy: 92.553%\n",
      "Epoch: 73/100..  Training Loss: 0.164..  Test Loss: 0.082..  Test Accuracy: 96.809%\n",
      "Epoch: 74/100..  Training Loss: 0.157..  Test Loss: 0.148..  Test Accuracy: 96.809%\n",
      "Epoch: 75/100..  Training Loss: 0.158..  Test Loss: 0.248..  Test Accuracy: 96.809%\n",
      "Epoch: 76/100..  Training Loss: 0.158..  Test Loss: 0.094..  Test Accuracy: 95.745%\n",
      "Epoch: 77/100..  Training Loss: 0.188..  Test Loss: 0.063..  Test Accuracy: 97.872%\n",
      "Epoch: 78/100..  Training Loss: 0.138..  Test Loss: 0.093..  Test Accuracy: 96.809%\n",
      "Epoch: 79/100..  Training Loss: 0.193..  Test Loss: 0.193..  Test Accuracy: 93.617%\n",
      "Epoch: 80/100..  Training Loss: 0.171..  Test Loss: 0.161..  Test Accuracy: 94.681%\n",
      "Epoch: 81/100..  Training Loss: 0.113..  Test Loss: 0.096..  Test Accuracy: 97.872%\n",
      "Epoch: 82/100..  Training Loss: 0.203..  Test Loss: 0.165..  Test Accuracy: 94.681%\n",
      "Epoch: 83/100..  Training Loss: 0.203..  Test Loss: 0.168..  Test Accuracy: 97.872%\n",
      "Epoch: 84/100..  Training Loss: 0.209..  Test Loss: 0.071..  Test Accuracy: 98.936%\n",
      "Epoch: 85/100..  Training Loss: 0.210..  Test Loss: 0.191..  Test Accuracy: 94.681%\n",
      "Epoch: 86/100..  Training Loss: 0.135..  Test Loss: 0.031..  Test Accuracy: 100.000%\n",
      "Epoch: 87/100..  Training Loss: 0.231..  Test Loss: 0.075..  Test Accuracy: 96.809%\n",
      "Epoch: 88/100..  Training Loss: 0.139..  Test Loss: 0.050..  Test Accuracy: 98.936%\n",
      "Epoch: 89/100..  Training Loss: 0.164..  Test Loss: 0.141..  Test Accuracy: 97.872%\n",
      "Epoch: 90/100..  Training Loss: 0.168..  Test Loss: 0.144..  Test Accuracy: 93.617%\n",
      "Epoch: 91/100..  Training Loss: 0.181..  Test Loss: 0.052..  Test Accuracy: 98.936%\n",
      "Epoch: 92/100..  Training Loss: 0.197..  Test Loss: 0.307..  Test Accuracy: 94.681%\n",
      "Epoch: 93/100..  Training Loss: 0.227..  Test Loss: 0.091..  Test Accuracy: 95.745%\n",
      "Epoch: 94/100..  Training Loss: 0.182..  Test Loss: 0.150..  Test Accuracy: 95.745%\n",
      "Epoch: 95/100..  Training Loss: 0.094..  Test Loss: 0.190..  Test Accuracy: 92.553%\n",
      "Epoch: 96/100..  Training Loss: 0.199..  Test Loss: 0.443..  Test Accuracy: 93.617%\n",
      "Epoch: 97/100..  Training Loss: 0.120..  Test Loss: 0.157..  Test Accuracy: 94.681%\n"
     ]
    },
    {
     "name": "stdout",
     "output_type": "stream",
     "text": [
      "Epoch: 98/100..  Training Loss: 0.192..  Test Loss: 0.044..  Test Accuracy: 98.936%\n",
      "Epoch: 99/100..  Training Loss: 0.147..  Test Loss: 0.091..  Test Accuracy: 95.745%\n",
      "Epoch: 100/100..  Training Loss: 0.151..  Test Loss: 0.180..  Test Accuracy: 96.809%\n"
     ]
    }
   ],
   "source": [
    "epochs = 100\n",
    "train_losses, test_losses = [], []\n",
    "train_accuracy = []\n",
    "for epoch in range(epochs):\n",
    "    running_loss = 0\n",
    "    model.train()\n",
    "    for example in trainloader:\n",
    "        optimizer.zero_grad()\n",
    "        \n",
    "#         print(\"1: -->\", model.fc1.weight.data)\n",
    "        label = th.Tensor([example[0][0].float()]).long()\n",
    "        image = th.reshape(example[0][1:].float(), (1, 1, 32, 32))\n",
    "        \n",
    "        logps = model(image).reshape(1, 10)  \n",
    "        loss = criterion(logps, label)\n",
    "        \n",
    "        loss.backward()\n",
    "        optimizer.step()\n",
    "\n",
    "        running_loss += loss.item()\n",
    "#         print(\"2: -->\", model.fc1.weight.data)\n",
    "        \n",
    "    else:\n",
    "        model.eval()\n",
    "        test_loss = 0\n",
    "        accuracy = 0\n",
    "        \n",
    "        with th.no_grad():\n",
    "            for example in testloader:\n",
    "                label = th.Tensor([example[0][0].float()]).long()\n",
    "                image = th.reshape(example[0][1:].float(), (1, 1, 32, 32))\n",
    "                \n",
    "#                 print(\"1: -->\", model.fc1.weight.data, model.fc2.weight.data)\n",
    "                \n",
    "                logps = model(image).reshape(1, 10) \n",
    "                test_loss += criterion(logps, label.long())\n",
    "#                 print(label, logps)\n",
    "                ps = th.exp(logps)\n",
    "                top_p, top_class = ps.topk(1, dim=1)\n",
    "                equals = top_class == label.view(*top_class.shape)\n",
    "                accuracy += th.mean(equals.type(th.FloatTensor))\n",
    "                \n",
    "#                 priant(\"2: -->\", model.fc1.weight.data, model.fc2.weight.data)\n",
    "                \n",
    "            train_losses.append(running_loss/len(trainloader))\n",
    "            test_losses.append(test_loss/len(testloader))\n",
    "            train_accuracy.append(accuracy / len(testloader))\n",
    "            \n",
    "            print(\"Epoch: {}/{}.. \".format(epoch + 1, epochs),\n",
    "                  \"Training Loss: {:.3f}.. \".format(running_loss/len(trainloader)),\n",
    "                  \"Test Loss: {:.3f}.. \".format(test_loss/len(testloader)),\n",
    "                  \"Test Accuracy: {:.3f}%\".format(accuracy/len(testloader) * 100))\n"
   ]
  },
  {
   "cell_type": "code",
   "execution_count": 7,
   "metadata": {
    "ExecuteTime": {
     "end_time": "2019-07-22T12:02:30.532638Z",
     "start_time": "2019-07-22T12:02:30.079896Z"
    }
   },
   "outputs": [
    {
     "data": {
      "image/png": "[encoded data removed]",
      "text/plain": [
       "<Figure size 432x288 with 1 Axes>"
      ]
     },
     "metadata": {
      "needs_background": "light"
     },
     "output_type": "display_data"
    },
    {
     "data": {
      "image/png": "[encoded data removed]",
      "text/plain": [
       "<Figure size 432x288 with 1 Axes>"
      ]
     },
     "metadata": {
      "needs_background": "light"
     },
     "output_type": "display_data"
    }
   ],
   "source": [
    "plt.plot(test_losses)\n",
    "plt.plot(train_losses)\n",
    "\n",
    "plt.ylabel('loss')\n",
    "plt.xlabel('epoch')\n",
    "plt.legend(['train', 'test'], loc='upper left')\n",
    "plt.show()\n",
    "\n",
    "plt.plot(train_accuracy)\n",
    "plt.xlabel('epoch')\n",
    "plt.ylabel('accuracy')\n",
    "plt.show()"
   ]
  },
  {
   "cell_type": "code",
   "execution_count": 8,
   "metadata": {
    "ExecuteTime": {
     "end_time": "2019-07-22T12:02:31.882864Z",
     "start_time": "2019-07-22T12:02:30.535639Z"
    }
   },
   "outputs": [
    {
     "name": "stderr",
     "output_type": "stream",
     "text": [
      "C:\\ProgramData\\Anaconda3\\lib\\site-packages\\ipykernel_launcher.py:21: UserWarning: Implicit dimension choice for log_softmax has been deprecated. Change the call to include dim=X as an argument.\n"
     ]
    },
    {
     "data": {
      "image/png": "[encoded data removed]",
      "text/plain": [
       "<Figure size 432x288 with 1 Axes>"
      ]
     },
     "metadata": {
      "needs_background": "light"
     },
     "output_type": "display_data"
    },
    {
     "data": {
      "image/png": "[encoded data removed]",
      "text/plain": [
       "<Figure size 432x288 with 1 Axes>"
      ]
     },
     "metadata": {
      "needs_background": "light"
     },
     "output_type": "display_data"
    },
    {
     "data": {
      "image/png": "[encoded data removed]",
      "text/plain": [
       "<Figure size 432x288 with 1 Axes>"
      ]
     },
     "metadata": {
      "needs_background": "light"
     },
     "output_type": "display_data"
    },
    {
     "data": {
      "image/png": "[encoded data removed]",
      "text/plain": [
       "<Figure size 432x288 with 1 Axes>"
      ]
     },
     "metadata": {
      "needs_background": "light"
     },
     "output_type": "display_data"
    },
    {
     "data": {
      "image/png": "[encoded data removed]",
      "text/plain": [
       "<Figure size 432x288 with 1 Axes>"
      ]
     },
     "metadata": {
      "needs_background": "light"
     },
     "output_type": "display_data"
    }
   ],
   "source": [
    "for i in range(5):\n",
    "    example = next(iter(testloader))\n",
    "\n",
    "    label = example[0][0]\n",
    "    image = th.reshape(example[0][1:].float(), (1, 1, 32, 32))\n",
    "    # image = image.view(image.shape[0], -1)\n",
    "    prediction = model(image)\n",
    "\n",
    "    pred_label = th.argmax(prediction)\n",
    "\n",
    "    title = f\"Actual: {int(label)} Prediction: {pred_label}\"\n",
    "\n",
    "    plt.imshow(image.reshape(32, 32))\n",
    "    plt.title(title)\n",
    "    plt.show()"
   ]
  },
  {
   "cell_type": "code",
   "execution_count": 9,
   "metadata": {
    "ExecuteTime": {
     "end_time": "2019-07-22T12:02:31.930835Z",
     "start_time": "2019-07-22T12:02:31.885862Z"
    }
   },
   "outputs": [
    {
     "name": "stderr",
     "output_type": "stream",
     "text": [
      "C:\\ProgramData\\Anaconda3\\lib\\site-packages\\torch\\serialization.py:256: UserWarning: Couldn't retrieve source code for container of type Net. It won't be checked for correctness upon loading.\n",
      "  \"type \" + obj.__name__ + \". It won't be checked \"\n"
     ]
    }
   ],
   "source": [
    "th.save(model, 'dcrcnn.ckpt')"
   ]
  },
  {
   "cell_type": "code",
   "execution_count": 10,
   "metadata": {
    "ExecuteTime": {
     "end_time": "2019-07-22T12:02:32.027780Z",
     "start_time": "2019-07-22T12:02:31.933834Z"
    }
   },
   "outputs": [],
   "source": [
    "\n",
    "model = th.load('dcrcnn.ckpt')"
   ]
  },
  {
   "cell_type": "code",
   "execution_count": 11,
   "metadata": {
    "ExecuteTime": {
     "end_time": "2019-07-22T12:02:32.122725Z",
     "start_time": "2019-07-22T12:02:32.033778Z"
    }
   },
   "outputs": [],
   "source": [
    "device = th.device(\"cuda\")"
   ]
  },
  {
   "cell_type": "code",
   "execution_count": null,
   "metadata": {},
   "outputs": [],
   "source": []
  },
  {
   "cell_type": "code",
   "execution_count": null,
   "metadata": {},
   "outputs": [],
   "source": []
  }
 ],
 "metadata": {
  "kernelspec": {
   "display_name": "Python 3",
   "language": "python",
   "name": "python3"
  },
  "language_info": {
   "codemirror_mode": {
    "name": "ipython",
    "version": 3
   },
   "file_extension": ".py",
   "mimetype": "text/x-python",
   "name": "python",
   "nbconvert_exporter": "python",
   "pygments_lexer": "ipython3",
   "version": "3.6.8"
  },
  "latex_envs": {
   "LaTeX_envs_menu_present": true,
   "autoclose": false,
   "autocomplete": true,
   "bibliofile": "biblio.bib",
   "cite_by": "apalike",
   "current_citInitial": 1,
   "eqLabelWithNumbers": true,
   "eqNumInitial": 1,
   "hotkeys": {
    "equation": "Ctrl-E",
    "itemize": "Ctrl-I"
   },
   "labels_anchors": false,
   "latex_user_defs": false,
   "report_style_numbering": false,
   "user_envs_cfg": false
  },
  "varInspector": {
   "cols": {
    "lenName": 16,
    "lenType": 16,
    "lenVar": 40
   },
   "kernels_config": {
    "python": {
     "delete_cmd_postfix": "",
     "delete_cmd_prefix": "del ",
     "library": "var_list.py",
     "varRefreshCmd": "print(var_dic_list())"
    },
    "r": {
     "delete_cmd_postfix": ") ",
     "delete_cmd_prefix": "rm(",
     "library": "var_list.r",
     "varRefreshCmd": "cat(var_dic_list()) "
    }
   },
   "types_to_exclude": [
    "module",
    "function",
    "builtin_function_or_method",
    "instance",
    "_Feature"
   ],
   "window_display": false
  }
 },
 "nbformat": 4,
 "nbformat_minor": 2
}
