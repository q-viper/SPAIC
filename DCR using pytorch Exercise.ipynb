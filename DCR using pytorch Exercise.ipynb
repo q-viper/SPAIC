{
 "cells": [
  {
   "cell_type": "code",
   "execution_count": 1,
   "metadata": {
    "ExecuteTime": {
     "end_time": "2019-07-20T03:26:20.486249Z",
     "start_time": "2019-07-20T03:26:18.982690Z"
    }
   },
   "outputs": [],
   "source": [
    "import numpy as np\n",
    "import matplotlib.pyplot as plt\n",
    "import torch as th\n",
    "import torch.nn.functional as F\n",
    "from torch import nn, optim"
   ]
  },
  {
   "cell_type": "code",
   "execution_count": 2,
   "metadata": {
    "ExecuteTime": {
     "end_time": "2019-07-20T03:26:20.512234Z",
     "start_time": "2019-07-20T03:26:20.491250Z"
    },
    "code_folding": []
   },
   "outputs": [],
   "source": [
    "def current_example(example_number, data_set):\n",
    "    current_datafile = open(data_set + '.csv', 'r')\n",
    "    current_dataset = current_datafile.readlines()\n",
    "    current_datafile.close()\n",
    "    \n",
    "    inputs = np.zeros((len(example_number), 32, 32, 1))\n",
    "    targets = np.zeros((len(example_number), 1))\n",
    "    index = 0\n",
    "    \n",
    "    for each_number in example_number:\n",
    "        each_set = current_dataset[each_number]\n",
    "        all_values = each_set.split(',')\n",
    "\n",
    "        #the first value is the label\n",
    "        correct_label = int(all_values[0])\n",
    "\n",
    "        #Normalize the pixel values in range of 0.01 - 1 \n",
    "        inputs[index] = np.asarray(all_values[1:], dtype = np.float32).reshape(32, 32, 1) / 255 * 0.99 + 0.01 \n",
    "        targets[index] = int(all_values[0])\n",
    "        index += 1\n",
    "            \n",
    "    return(inputs, targets)\n"
   ]
  },
  {
   "cell_type": "code",
   "execution_count": 3,
   "metadata": {
    "ExecuteTime": {
     "end_time": "2019-07-20T03:26:40.638644Z",
     "start_time": "2019-07-20T03:26:20.520232Z"
    }
   },
   "outputs": [],
   "source": [
    "#prepare training and test data\n",
    "#try to get as random as possible\n",
    "\n",
    "seed = np.random.randint(1, 17000)\n",
    "np.random.seed(seed)\n",
    "num_exmp = np.linspace(0, 16999, 17000, dtype = np.int32)\n",
    "np.random.shuffle(num_exmp)\n",
    "(x_train, y_train) = current_example(num_exmp, 'train') \n",
    "\n",
    "num_exmp = np.linspace(0, 2999, 3000, dtype = np.int32)\n",
    "x_test, y_test = current_example(num_exmp, 'test')\n"
   ]
  },
  {
   "cell_type": "code",
   "execution_count": 4,
   "metadata": {
    "ExecuteTime": {
     "end_time": "2019-07-20T03:26:42.512572Z",
     "start_time": "2019-07-20T03:26:40.643643Z"
    }
   },
   "outputs": [
    {
     "data": {
      "image/png": "[encoded data removed]",
      "text/plain": [
       "<Figure size 432x288 with 1 Axes>"
      ]
     },
     "metadata": {
      "needs_background": "light"
     },
     "output_type": "display_data"
    },
    {
     "data": {
      "image/png": "[encoded data removed]",
      "text/plain": [
       "<Figure size 432x288 with 1 Axes>"
      ]
     },
     "metadata": {
      "needs_background": "light"
     },
     "output_type": "display_data"
    },
    {
     "data": {
      "image/png": "[encoded data removed]",
      "text/plain": [
       "<Figure size 432x288 with 1 Axes>"
      ]
     },
     "metadata": {
      "needs_background": "light"
     },
     "output_type": "display_data"
    },
    {
     "data": {
      "image/png": "[encoded data removed]",
      "text/plain": [
       "<Figure size 432x288 with 1 Axes>"
      ]
     },
     "metadata": {
      "needs_background": "light"
     },
     "output_type": "display_data"
    }
   ],
   "source": [
    "#preview some training examples\n",
    "for i in range(4):\n",
    "    plt.imshow(x_train[i].reshape(32, 32))\n",
    "    plt.show()"
   ]
  },
  {
   "cell_type": "code",
   "execution_count": 5,
   "metadata": {
    "ExecuteTime": {
     "end_time": "2019-07-20T03:26:42.549554Z",
     "start_time": "2019-07-20T03:26:42.518569Z"
    }
   },
   "outputs": [],
   "source": [
    "model = nn.Sequential(nn.Linear(1024, 512),\n",
    "                      nn.ReLU(),\n",
    "                      nn.Linear(512, 256),\n",
    "                      nn.ReLU(),\n",
    "                     nn.Linear(256, 46))\n"
   ]
  },
  {
   "cell_type": "code",
   "execution_count": 6,
   "metadata": {
    "ExecuteTime": {
     "end_time": "2019-07-20T03:26:42.701463Z",
     "start_time": "2019-07-20T03:26:42.554548Z"
    }
   },
   "outputs": [],
   "source": [
    "#Get data one example at a time\n",
    "\n",
    "# x_train = x_train.reshape(x_train.shape[0], 1024)\n",
    "# y_train = y_train.reshape(y_train.shape[0])\n",
    "\n",
    "images, labels = next(iter(x_train)), next(iter(y_train))\n",
    "images = th.Tensor(images.reshape(1, 1024))\n",
    "\n",
    "# print(labels)\n",
    "# zeros = np.zeros(46)\n",
    "# zeros[int(labels)] = 1.0\n",
    "# labels = th.Tensor(np.asarray(zeros.reshape(1, 46))).long()"
   ]
  },
  {
   "cell_type": "code",
   "execution_count": 7,
   "metadata": {
    "ExecuteTime": {
     "end_time": "2019-07-20T03:26:42.822394Z",
     "start_time": "2019-07-20T03:26:42.704462Z"
    }
   },
   "outputs": [
    {
     "name": "stdout",
     "output_type": "stream",
     "text": [
      "tensor(3.9392, grad_fn=<NllLossBackward>)\n"
     ]
    }
   ],
   "source": [
    "# Define the loss\n",
    "criterion = nn.CrossEntropyLoss()\n",
    "\n",
    "# Flatten images\n",
    "images = images.view(images.shape[0], -1)\n",
    "\n",
    "# Forward pass, get our log-probabilities\n",
    "logps = model(images)\n",
    "\n",
    "# print(len(logps), len(labels))\n",
    "# labels = labels.view(labels.shape[0], -1)\n",
    "# print(logps.shape, labels.shape)\n",
    "# Calculate the loss with the logps and the labels\n",
    "\n",
    "loss = criterion(logps, th.Tensor(labels).long())\n",
    "\n",
    "print(loss)"
   ]
  },
  {
   "cell_type": "code",
   "execution_count": 8,
   "metadata": {
    "ExecuteTime": {
     "end_time": "2019-07-20T03:26:42.943325Z",
     "start_time": "2019-07-20T03:26:42.828393Z"
    }
   },
   "outputs": [],
   "source": [
    "criterion = nn.NLLLoss()\n",
    "loss = criterion(logps, th.Tensor(labels).long())"
   ]
  },
  {
   "cell_type": "code",
   "execution_count": 9,
   "metadata": {
    "ExecuteTime": {
     "end_time": "2019-07-20T03:26:43.060258Z",
     "start_time": "2019-07-20T03:26:42.949323Z"
    }
   },
   "outputs": [
    {
     "data": {
      "text/plain": [
       "tensor(0.1065, grad_fn=<NllLossBackward>)"
      ]
     },
     "execution_count": 9,
     "metadata": {},
     "output_type": "execute_result"
    }
   ],
   "source": [
    "loss"
   ]
  },
  {
   "cell_type": "code",
   "execution_count": 10,
   "metadata": {
    "ExecuteTime": {
     "end_time": "2019-07-20T03:26:43.180190Z",
     "start_time": "2019-07-20T03:26:43.064258Z"
    }
   },
   "outputs": [],
   "source": [
    "optimizer = optim.SGD(model.parameters(), lr=0.1)"
   ]
  },
  {
   "cell_type": "code",
   "execution_count": 13,
   "metadata": {
    "ExecuteTime": {
     "end_time": "2019-07-20T03:40:24.911565Z",
     "start_time": "2019-07-20T03:29:02.226976Z"
    }
   },
   "outputs": [
    {
     "name": "stdout",
     "output_type": "stream",
     "text": [
      "Iteration 0 Loss: nan\n",
      "Iteration 1 Loss: nan\n",
      "Iteration 2 Loss: nan\n",
      "Iteration 3 Loss: nan\n"
     ]
    },
    {
     "ename": "KeyboardInterrupt",
     "evalue": "",
     "output_type": "error",
     "traceback": [
      "\u001b[1;31m---------------------------------------------------------------------------\u001b[0m",
      "\u001b[1;31mKeyboardInterrupt\u001b[0m                         Traceback (most recent call last)",
      "\u001b[1;32m<ipython-input-13-0bc86b65fa89>\u001b[0m in \u001b[0;36m<module>\u001b[1;34m\u001b[0m\n\u001b[0;32m     21\u001b[0m \u001b[1;31m#         print(logps)\u001b[0m\u001b[1;33m\u001b[0m\u001b[1;33m\u001b[0m\u001b[1;33m\u001b[0m\u001b[0m\n\u001b[0;32m     22\u001b[0m         \u001b[0moptimizer\u001b[0m\u001b[1;33m.\u001b[0m\u001b[0mzero_grad\u001b[0m\u001b[1;33m(\u001b[0m\u001b[1;33m)\u001b[0m\u001b[1;33m\u001b[0m\u001b[1;33m\u001b[0m\u001b[0m\n\u001b[1;32m---> 23\u001b[1;33m         \u001b[0mloss\u001b[0m\u001b[1;33m.\u001b[0m\u001b[0mbackward\u001b[0m\u001b[1;33m(\u001b[0m\u001b[1;33m)\u001b[0m\u001b[1;33m\u001b[0m\u001b[1;33m\u001b[0m\u001b[0m\n\u001b[0m\u001b[0;32m     24\u001b[0m         \u001b[0moptimizer\u001b[0m\u001b[1;33m.\u001b[0m\u001b[0mstep\u001b[0m\u001b[1;33m(\u001b[0m\u001b[1;33m)\u001b[0m\u001b[1;33m\u001b[0m\u001b[1;33m\u001b[0m\u001b[0m\n\u001b[0;32m     25\u001b[0m \u001b[1;33m\u001b[0m\u001b[0m\n",
      "\u001b[1;32mC:\\ProgramData\\Anaconda3\\lib\\site-packages\\torch\\tensor.py\u001b[0m in \u001b[0;36mbackward\u001b[1;34m(self, gradient, retain_graph, create_graph)\u001b[0m\n\u001b[0;32m    105\u001b[0m                 \u001b[0mproducts\u001b[0m\u001b[1;33m.\u001b[0m \u001b[0mDefaults\u001b[0m \u001b[0mto\u001b[0m\u001b[0;31m \u001b[0m\u001b[0;31m`\u001b[0m\u001b[0;31m`\u001b[0m\u001b[1;32mFalse\u001b[0m\u001b[0;31m`\u001b[0m\u001b[0;31m`\u001b[0m\u001b[1;33m.\u001b[0m\u001b[1;33m\u001b[0m\u001b[1;33m\u001b[0m\u001b[0m\n\u001b[0;32m    106\u001b[0m         \"\"\"\n\u001b[1;32m--> 107\u001b[1;33m         \u001b[0mtorch\u001b[0m\u001b[1;33m.\u001b[0m\u001b[0mautograd\u001b[0m\u001b[1;33m.\u001b[0m\u001b[0mbackward\u001b[0m\u001b[1;33m(\u001b[0m\u001b[0mself\u001b[0m\u001b[1;33m,\u001b[0m \u001b[0mgradient\u001b[0m\u001b[1;33m,\u001b[0m \u001b[0mretain_graph\u001b[0m\u001b[1;33m,\u001b[0m \u001b[0mcreate_graph\u001b[0m\u001b[1;33m)\u001b[0m\u001b[1;33m\u001b[0m\u001b[1;33m\u001b[0m\u001b[0m\n\u001b[0m\u001b[0;32m    108\u001b[0m \u001b[1;33m\u001b[0m\u001b[0m\n\u001b[0;32m    109\u001b[0m     \u001b[1;32mdef\u001b[0m \u001b[0mregister_hook\u001b[0m\u001b[1;33m(\u001b[0m\u001b[0mself\u001b[0m\u001b[1;33m,\u001b[0m \u001b[0mhook\u001b[0m\u001b[1;33m)\u001b[0m\u001b[1;33m:\u001b[0m\u001b[1;33m\u001b[0m\u001b[1;33m\u001b[0m\u001b[0m\n",
      "\u001b[1;32mC:\\ProgramData\\Anaconda3\\lib\\site-packages\\torch\\autograd\\__init__.py\u001b[0m in \u001b[0;36mbackward\u001b[1;34m(tensors, grad_tensors, retain_graph, create_graph, grad_variables)\u001b[0m\n\u001b[0;32m     91\u001b[0m     Variable._execution_engine.run_backward(\n\u001b[0;32m     92\u001b[0m         \u001b[0mtensors\u001b[0m\u001b[1;33m,\u001b[0m \u001b[0mgrad_tensors\u001b[0m\u001b[1;33m,\u001b[0m \u001b[0mretain_graph\u001b[0m\u001b[1;33m,\u001b[0m \u001b[0mcreate_graph\u001b[0m\u001b[1;33m,\u001b[0m\u001b[1;33m\u001b[0m\u001b[1;33m\u001b[0m\u001b[0m\n\u001b[1;32m---> 93\u001b[1;33m         allow_unreachable=True)  # allow_unreachable flag\n\u001b[0m\u001b[0;32m     94\u001b[0m \u001b[1;33m\u001b[0m\u001b[0m\n\u001b[0;32m     95\u001b[0m \u001b[1;33m\u001b[0m\u001b[0m\n",
      "\u001b[1;31mKeyboardInterrupt\u001b[0m: "
     ]
    }
   ],
   "source": [
    "criterion = nn.NLLLoss()\n",
    "epochs = 10\n",
    "\n",
    "lossv = []\n",
    "\n",
    "for epoch in range(epochs):\n",
    "    running_loss = 0\n",
    "    for i in range(len(x_train)):\n",
    "\n",
    "        image = th.Tensor(x_train[1].reshape(1, 1024))\n",
    "        image = image.view(image.shape[0], -1)\n",
    "        \n",
    "        label = y_train[i]\n",
    "        logps = model(image) \n",
    "        loss = criterion(logps, th.Tensor(label).long())\n",
    "        \n",
    "        \n",
    "#         print(logps, label)\n",
    "        \n",
    "        \n",
    "#         print(logps)\n",
    "        optimizer.zero_grad()\n",
    "        loss.backward()\n",
    "        optimizer.step()\n",
    "        \n",
    "        running_loss += loss.item()\n",
    "        lossv.append(loss.item())\n",
    "        \n",
    "        \n",
    "    print(f\"Iteration {epoch}\", f\"Loss: {running_loss / len(x_train)}\")\n"
   ]
  },
  {
   "cell_type": "code",
   "execution_count": null,
   "metadata": {
    "ExecuteTime": {
     "end_time": "2019-07-20T03:27:48.322761Z",
     "start_time": "2019-07-20T03:26:19.054Z"
    }
   },
   "outputs": [],
   "source": [
    "logps"
   ]
  },
  {
   "cell_type": "code",
   "execution_count": null,
   "metadata": {
    "ExecuteTime": {
     "end_time": "2019-07-20T03:27:48.322761Z",
     "start_time": "2019-07-20T03:26:19.060Z"
    }
   },
   "outputs": [],
   "source": [
    "#predict\n",
    "\n",
    "for i in range (4):\n",
    "    index = np.random.randint(0, 1000)\n",
    "    \n",
    "    predict = model(th.Tensor(x_train[index].reshape(1, 1024)))\n",
    "    predict = th.argmax(predict.view(predict[0].shape[0], -1))\n",
    "    \n",
    "    plt.imshow(x_train[index].reshape(32, 32))\n",
    "    title = f\"Predicted: {predict} Actual:  {int(y_train[index])}\"\n",
    "    plt.title(title)\n",
    "    plt.show()"
   ]
  },
  {
   "cell_type": "code",
   "execution_count": null,
   "metadata": {
    "ExecuteTime": {
     "end_time": "2019-07-20T03:27:48.322761Z",
     "start_time": "2019-07-20T03:26:19.065Z"
    }
   },
   "outputs": [],
   "source": [
    "#update cuda driver"
   ]
  },
  {
   "cell_type": "code",
   "execution_count": null,
   "metadata": {
    "ExecuteTime": {
     "end_time": "2019-07-18T15:38:24.928133Z",
     "start_time": "2019-07-18T15:38:24.924136Z"
    }
   },
   "outputs": [],
   "source": []
  },
  {
   "cell_type": "code",
   "execution_count": null,
   "metadata": {
    "ExecuteTime": {
     "end_time": "2019-07-20T03:27:48.338386Z",
     "start_time": "2019-07-20T03:26:19.077Z"
    }
   },
   "outputs": [],
   "source": [
    "def dataset(file):\n",
    "    current_datafile = open(file, 'r')\n",
    "    current_dataset = current_datafile.readlines()\n",
    "    current_datafile.close()\n",
    "\n",
    "    datasets = np.zeros([len(current_dataset), 1025])\n",
    "    for i in range(len(current_dataset)):\n",
    "        example = current_dataset[i].split(',')\n",
    "        example = np.asarray(example, dtype=np.float32)\n",
    "        datasets[i] = example\n",
    "    return datasets"
   ]
  },
  {
   "cell_type": "code",
   "execution_count": null,
   "metadata": {
    "ExecuteTime": {
     "end_time": "2019-07-20T03:27:48.338386Z",
     "start_time": "2019-07-20T03:26:19.087Z"
    }
   },
   "outputs": [],
   "source": [
    "trainloader = th.utils.data.DataLoader(dataset('train.csv'), shuffle = True, batch_size = 32)\n",
    "testloader = th.utils.data.DataLoader(dataset('train.csv'), shuffle = True, batch_size = 32)"
   ]
  },
  {
   "cell_type": "code",
   "execution_count": null,
   "metadata": {
    "ExecuteTime": {
     "end_time": "2019-07-20T03:27:48.338386Z",
     "start_time": "2019-07-20T03:26:19.093Z"
    }
   },
   "outputs": [],
   "source": [
    "model = nn.Sequential(nn.Linear(1024, 512),\n",
    "                      nn.ReLU(),\n",
    "                      nn.Linear(512, 256),\n",
    "                      nn.ReLU(),\n",
    "                     nn.Linear(256, 46))\n"
   ]
  },
  {
   "cell_type": "code",
   "execution_count": null,
   "metadata": {
    "ExecuteTime": {
     "end_time": "2019-07-20T03:27:48.338386Z",
     "start_time": "2019-07-20T03:26:19.097Z"
    }
   },
   "outputs": [],
   "source": [
    "optimizer = optim.SGD(model.parameters(), lr=0.01)\n",
    "criterion = nn.CrossEntropyLoss()"
   ]
  },
  {
   "cell_type": "code",
   "execution_count": null,
   "metadata": {
    "ExecuteTime": {
     "end_time": "2019-07-20T03:27:48.338386Z",
     "start_time": "2019-07-20T03:26:19.101Z"
    }
   },
   "outputs": [],
   "source": [
    "for example in imageloader:\n",
    "    label = example[0][0]\n",
    "    image = th.DoubleTensor(example[0][1:])\n",
    "    print(image[0])\n",
    "    \n",
    "    logps = model(image) \n",
    "    loss = criterion(logps, label)\n",
    "\n",
    "\n",
    "#         print(logps, label)\n",
    "\n",
    "\n",
    "    print(logps)\n",
    "    optimizer.zero_grad()\n",
    "    loss.backward()\n",
    "    optimizer.step()\n",
    "\n",
    "    running_loss += loss.item()\n",
    "    lossv.append(loss.item())\n",
    "\n",
    "\n",
    "print(f\"Iteration {epoch}\", f\"Loss: {running_loss / len(x_train)}\")\n",
    "\n"
   ]
  },
  {
   "cell_type": "code",
   "execution_count": null,
   "metadata": {},
   "outputs": [],
   "source": []
  }
 ],
 "metadata": {
  "kernelspec": {
   "display_name": "Python 3",
   "language": "python",
   "name": "python3"
  },
  "language_info": {
   "codemirror_mode": {
    "name": "ipython",
    "version": 3
   },
   "file_extension": ".py",
   "mimetype": "text/x-python",
   "name": "python",
   "nbconvert_exporter": "python",
   "pygments_lexer": "ipython3",
   "version": "3.6.8"
  },
  "latex_envs": {
   "LaTeX_envs_menu_present": true,
   "autoclose": false,
   "autocomplete": true,
   "bibliofile": "biblio.bib",
   "cite_by": "apalike",
   "current_citInitial": 1,
   "eqLabelWithNumbers": true,
   "eqNumInitial": 1,
   "hotkeys": {
    "equation": "Ctrl-E",
    "itemize": "Ctrl-I"
   },
   "labels_anchors": false,
   "latex_user_defs": false,
   "report_style_numbering": false,
   "user_envs_cfg": false
  },
  "varInspector": {
   "cols": {
    "lenName": 16,
    "lenType": 16,
    "lenVar": 40
   },
   "kernels_config": {
    "python": {
     "delete_cmd_postfix": "",
     "delete_cmd_prefix": "del ",
     "library": "var_list.py",
     "varRefreshCmd": "print(var_dic_list())"
    },
    "r": {
     "delete_cmd_postfix": ") ",
     "delete_cmd_prefix": "rm(",
     "library": "var_list.r",
     "varRefreshCmd": "cat(var_dic_list()) "
    }
   },
   "types_to_exclude": [
    "module",
    "function",
    "builtin_function_or_method",
    "instance",
    "_Feature"
   ],
   "window_display": false
  }
 },
 "nbformat": 4,
 "nbformat_minor": 2
}
