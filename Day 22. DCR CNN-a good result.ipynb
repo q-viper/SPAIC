{
 "cells": [
  {
   "cell_type": "markdown",
   "metadata": {
    "ExecuteTime": {
     "end_time": "2019-07-20T03:13:57.022951Z",
     "start_time": "2019-07-20T03:13:57.018953Z"
    }
   },
   "source": [
    "# Day 22. DCR CNN - a good result\n",
    "\n",
    "> I don't know what happend inside these codes. It took hours for me to solve the data input and model input conflicts. And then new problelm came, it was that the accuracy never increased of 12%. Something really must have been messed up. At the end of day i don't know how it solved."
   ]
  },
  {
   "cell_type": "code",
   "execution_count": null,
   "metadata": {
    "ExecuteTime": {
     "start_time": "2019-07-20T03:42:18.608Z"
    }
   },
   "outputs": [],
   "source": [
    "import numpy as np\n",
    "import matplotlib.pyplot as plt\n",
    "import torch as th\n",
    "import torch.nn.functional as F\n",
    "from torch import nn, optim\n",
    "import torchvision\n",
    "\n",
    "plt.style.use('seaborn-whitegrid')"
   ]
  },
  {
   "cell_type": "code",
   "execution_count": null,
   "metadata": {},
   "outputs": [],
   "source": []
  },
  {
   "cell_type": "code",
   "execution_count": 2,
   "metadata": {
    "ExecuteTime": {
     "end_time": "2019-07-19T16:23:33.883482Z",
     "start_time": "2019-07-19T16:23:33.870494Z"
    }
   },
   "outputs": [],
   "source": [
    "def dataset(file):\n",
    "    current_datafile = open(file, 'r')\n",
    "    current_dataset = current_datafile.readlines()\n",
    "    current_datafile.close()\n",
    "\n",
    "    datasets = np.zeros([len(current_dataset), 1025])\n",
    "    indices = np.linspace(0, len(current_dataset) - 1, len(current_dataset), dtype = np.int64)\n",
    "    np.random.shuffle(indices)\n",
    "    for i in indices:\n",
    "        example = current_dataset[i].split(',')\n",
    "        \n",
    "        labels = np.asarray(example[0], dtype = np.float32)\n",
    "        images = np.asarray(example[1:], dtype=np.float32) / 255   \n",
    "        example = np.hstack([labels, images])\n",
    "        \n",
    "        datasets[i] = example\n",
    "    return datasets\n"
   ]
  },
  {
   "cell_type": "code",
   "execution_count": 3,
   "metadata": {
    "ExecuteTime": {
     "end_time": "2019-07-19T16:23:45.192703Z",
     "start_time": "2019-07-19T16:23:33.888481Z"
    }
   },
   "outputs": [],
   "source": [
    "trainloader = th.utils.data.DataLoader(dataset('train.csv'), shuffle = True, batch_size = 32)\n",
    "testloader = th.utils.data.DataLoader(dataset('train.csv'), shuffle = True, batch_size = 32)"
   ]
  },
  {
   "cell_type": "code",
   "execution_count": 4,
   "metadata": {
    "ExecuteTime": {
     "end_time": "2019-07-19T16:23:45.217760Z",
     "start_time": "2019-07-19T16:23:45.192703Z"
    }
   },
   "outputs": [
    {
     "name": "stdout",
     "output_type": "stream",
     "text": [
      "tensor([4.], grad_fn=<SqueezeBackward3>)\n"
     ]
    }
   ],
   "source": [
    "x = th.ones([1, 2])\n",
    "# print(x)\n",
    "a = th.Tensor([2, 2])\n",
    "\n",
    "ff = nn.Linear(2, 1, False)\n",
    "ff.weight.data = x\n",
    "\n",
    "\n",
    "print(ff(a))\n",
    "\n"
   ]
  },
  {
   "cell_type": "code",
   "execution_count": 5,
   "metadata": {
    "ExecuteTime": {
     "end_time": "2019-07-19T16:23:45.404034Z",
     "start_time": "2019-07-19T16:23:45.221758Z"
    },
    "scrolled": false
   },
   "outputs": [
    {
     "name": "stdout",
     "output_type": "stream",
     "text": [
      "tensor(6., dtype=torch.float64) tensor([[0.0000, 0.0000, 0.2042, 0.0372, 0.2840, 0.2119, 0.0000, 0.0000, 0.0000,\n",
      "         0.2220]], grad_fn=<ReluBackward0>)\n"
     ]
    }
   ],
   "source": [
    "# define the CNN architecture\n",
    "class Net(nn.Module):\n",
    "    def __init__(self):\n",
    "        super(Net, self).__init__()\n",
    "        self.conv1 = nn.Conv2d(1, 32, 3)\n",
    "        self.conv2 = nn.Conv2d(32, 16, 3)\n",
    "        self.conv3 = nn.Conv2d(16, 8, 3)\n",
    "        self.pool = nn.MaxPool2d(2, 2)\n",
    "        self.fc1 = nn.Linear(32, 16)\n",
    "        self.fc2 = nn.Linear(16, 10)\n",
    "#         self.fc1.weight.data = th.ones()\n",
    "        self.drop = nn.Dropout(0.2)\n",
    "\n",
    "    def forward(self, x):\n",
    "        x = self.drop(self.pool(F.relu(self.conv1(x))))\n",
    "        x = self.drop(self.pool(F.relu(self.conv2(x))))\n",
    "        x = self.pool(F.relu(self.conv3(x)))\n",
    "#         print(x.shape)\n",
    "        x = x.view(-1, 32)\n",
    "        x = self.fc1(x)\n",
    "        x = F.relu(self.fc2(x))\n",
    "\n",
    "        return x\n",
    "\n",
    "    \n",
    "# Check if model working fine\n",
    "example = next(iter(trainloader))\n",
    "label = example[0][0]\n",
    "example = example[0][1:].float()\n",
    "example = example.reshape(1, 1, 32, 32)\n",
    "    \n",
    "model = Net()\n",
    "\n",
    "print(label, model(example))\n"
   ]
  },
  {
   "cell_type": "code",
   "execution_count": 6,
   "metadata": {
    "ExecuteTime": {
     "end_time": "2019-07-19T16:23:45.461008Z",
     "start_time": "2019-07-19T16:23:45.408031Z"
    }
   },
   "outputs": [],
   "source": [
    "# optimizer = optim.SGD(model.parameters(), weight_decay=1e-6, lr=0.01, momentum=0.9, nesterov=True)\n",
    "optimizer = optim.Adam(model.parameters(), lr = 0.001)\n",
    "criterion = nn.CrossEntropyLoss()\n"
   ]
  },
  {
   "cell_type": "code",
   "execution_count": 7,
   "metadata": {
    "ExecuteTime": {
     "end_time": "2019-07-19T16:32:23.676010Z",
     "start_time": "2019-07-19T16:23:45.464998Z"
    },
    "scrolled": false
   },
   "outputs": [
    {
     "name": "stdout",
     "output_type": "stream",
     "text": [
      "Epoch: 1/100..  Training Loss: 2.281..  Test Loss: 2.166..  Test Accuracy: 25.940%\n",
      "Epoch: 2/100..  Training Loss: 1.539..  Test Loss: 1.109..  Test Accuracy: 64.850%\n",
      "Epoch: 3/100..  Training Loss: 1.048..  Test Loss: 0.920..  Test Accuracy: 71.805%\n",
      "Epoch: 4/100..  Training Loss: 0.833..  Test Loss: 0.748..  Test Accuracy: 75.188%\n",
      "Epoch: 5/100..  Training Loss: 0.786..  Test Loss: 0.725..  Test Accuracy: 73.872%\n",
      "Epoch: 6/100..  Training Loss: 0.809..  Test Loss: 0.628..  Test Accuracy: 78.383%\n",
      "Epoch: 7/100..  Training Loss: 0.719..  Test Loss: 0.546..  Test Accuracy: 81.391%\n",
      "Epoch: 8/100..  Training Loss: 0.570..  Test Loss: 0.377..  Test Accuracy: 88.722%\n",
      "Epoch: 9/100..  Training Loss: 0.365..  Test Loss: 0.338..  Test Accuracy: 90.602%\n",
      "Epoch: 10/100..  Training Loss: 0.430..  Test Loss: 0.288..  Test Accuracy: 91.165%\n",
      "Epoch: 11/100..  Training Loss: 0.288..  Test Loss: 0.329..  Test Accuracy: 89.286%\n",
      "Epoch: 12/100..  Training Loss: 0.309..  Test Loss: 0.282..  Test Accuracy: 91.165%\n",
      "Epoch: 13/100..  Training Loss: 0.249..  Test Loss: 0.238..  Test Accuracy: 92.481%\n",
      "Epoch: 14/100..  Training Loss: 0.303..  Test Loss: 0.262..  Test Accuracy: 91.353%\n",
      "Epoch: 15/100..  Training Loss: 0.232..  Test Loss: 0.256..  Test Accuracy: 92.105%\n",
      "Epoch: 16/100..  Training Loss: 0.294..  Test Loss: 0.309..  Test Accuracy: 90.038%\n",
      "Epoch: 17/100..  Training Loss: 0.223..  Test Loss: 0.162..  Test Accuracy: 94.361%\n",
      "Epoch: 18/100..  Training Loss: 0.250..  Test Loss: 0.194..  Test Accuracy: 94.549%\n",
      "Epoch: 19/100..  Training Loss: 0.225..  Test Loss: 0.216..  Test Accuracy: 93.233%\n",
      "Epoch: 20/100..  Training Loss: 0.238..  Test Loss: 0.191..  Test Accuracy: 93.985%\n",
      "Epoch: 21/100..  Training Loss: 0.251..  Test Loss: 0.270..  Test Accuracy: 90.977%\n",
      "Epoch: 22/100..  Training Loss: 0.193..  Test Loss: 0.195..  Test Accuracy: 93.421%\n",
      "Epoch: 23/100..  Training Loss: 0.182..  Test Loss: 0.162..  Test Accuracy: 95.677%\n",
      "Epoch: 24/100..  Training Loss: 0.221..  Test Loss: 0.234..  Test Accuracy: 94.549%\n",
      "Epoch: 25/100..  Training Loss: 0.207..  Test Loss: 0.226..  Test Accuracy: 93.985%\n",
      "Epoch: 26/100..  Training Loss: 0.209..  Test Loss: 0.184..  Test Accuracy: 93.609%\n",
      "Epoch: 27/100..  Training Loss: 0.211..  Test Loss: 0.181..  Test Accuracy: 94.361%\n",
      "Epoch: 28/100..  Training Loss: 0.239..  Test Loss: 0.187..  Test Accuracy: 93.421%\n",
      "Epoch: 29/100..  Training Loss: 0.168..  Test Loss: 0.181..  Test Accuracy: 93.421%\n",
      "Epoch: 30/100..  Training Loss: 0.205..  Test Loss: 0.125..  Test Accuracy: 96.805%\n",
      "Epoch: 31/100..  Training Loss: 0.154..  Test Loss: 0.189..  Test Accuracy: 93.609%\n",
      "Epoch: 32/100..  Training Loss: 0.192..  Test Loss: 0.170..  Test Accuracy: 94.737%\n",
      "Epoch: 33/100..  Training Loss: 0.184..  Test Loss: 0.154..  Test Accuracy: 95.113%\n",
      "Epoch: 34/100..  Training Loss: 0.145..  Test Loss: 0.244..  Test Accuracy: 93.233%\n",
      "Epoch: 35/100..  Training Loss: 0.144..  Test Loss: 0.193..  Test Accuracy: 94.737%\n",
      "Epoch: 36/100..  Training Loss: 0.140..  Test Loss: 0.193..  Test Accuracy: 92.293%\n",
      "Epoch: 37/100..  Training Loss: 0.149..  Test Loss: 0.180..  Test Accuracy: 94.549%\n",
      "Epoch: 38/100..  Training Loss: 0.200..  Test Loss: 0.129..  Test Accuracy: 96.241%\n",
      "Epoch: 39/100..  Training Loss: 0.133..  Test Loss: 0.147..  Test Accuracy: 94.361%\n",
      "Epoch: 40/100..  Training Loss: 0.117..  Test Loss: 0.158..  Test Accuracy: 94.549%\n",
      "Epoch: 41/100..  Training Loss: 0.131..  Test Loss: 0.146..  Test Accuracy: 95.677%\n",
      "Epoch: 42/100..  Training Loss: 0.125..  Test Loss: 0.113..  Test Accuracy: 96.617%\n",
      "Epoch: 43/100..  Training Loss: 0.146..  Test Loss: 0.173..  Test Accuracy: 93.421%\n",
      "Epoch: 44/100..  Training Loss: 0.118..  Test Loss: 0.134..  Test Accuracy: 96.805%\n",
      "Epoch: 45/100..  Training Loss: 0.165..  Test Loss: 0.138..  Test Accuracy: 95.677%\n",
      "Epoch: 46/100..  Training Loss: 0.160..  Test Loss: 0.099..  Test Accuracy: 96.617%\n",
      "Epoch: 47/100..  Training Loss: 0.133..  Test Loss: 0.073..  Test Accuracy: 98.120%\n",
      "Epoch: 48/100..  Training Loss: 0.110..  Test Loss: 0.091..  Test Accuracy: 97.556%\n",
      "Epoch: 49/100..  Training Loss: 0.198..  Test Loss: 0.124..  Test Accuracy: 95.301%\n",
      "Epoch: 50/100..  Training Loss: 0.149..  Test Loss: 0.112..  Test Accuracy: 96.805%\n",
      "Epoch: 51/100..  Training Loss: 0.098..  Test Loss: 0.138..  Test Accuracy: 95.113%\n",
      "Epoch: 52/100..  Training Loss: 0.085..  Test Loss: 0.141..  Test Accuracy: 95.677%\n",
      "Epoch: 53/100..  Training Loss: 0.096..  Test Loss: 0.067..  Test Accuracy: 98.496%\n",
      "Epoch: 54/100..  Training Loss: 0.126..  Test Loss: 0.238..  Test Accuracy: 93.609%\n",
      "Epoch: 55/100..  Training Loss: 0.161..  Test Loss: 0.109..  Test Accuracy: 96.805%\n",
      "Epoch: 56/100..  Training Loss: 0.049..  Test Loss: 0.083..  Test Accuracy: 97.368%\n",
      "Epoch: 57/100..  Training Loss: 0.099..  Test Loss: 0.087..  Test Accuracy: 97.368%\n",
      "Epoch: 58/100..  Training Loss: 0.116..  Test Loss: 0.105..  Test Accuracy: 97.368%\n",
      "Epoch: 59/100..  Training Loss: 0.154..  Test Loss: 0.077..  Test Accuracy: 96.805%\n",
      "Epoch: 60/100..  Training Loss: 0.155..  Test Loss: 0.143..  Test Accuracy: 94.737%\n",
      "Epoch: 61/100..  Training Loss: 0.078..  Test Loss: 0.092..  Test Accuracy: 96.241%\n",
      "Epoch: 62/100..  Training Loss: 0.077..  Test Loss: 0.111..  Test Accuracy: 95.865%\n",
      "Epoch: 63/100..  Training Loss: 0.122..  Test Loss: 0.225..  Test Accuracy: 92.669%\n",
      "Epoch: 64/100..  Training Loss: 0.088..  Test Loss: 0.087..  Test Accuracy: 96.429%\n",
      "Epoch: 65/100..  Training Loss: 0.130..  Test Loss: 0.107..  Test Accuracy: 97.180%\n",
      "Epoch: 66/100..  Training Loss: 0.119..  Test Loss: 0.053..  Test Accuracy: 98.684%\n",
      "Epoch: 67/100..  Training Loss: 0.101..  Test Loss: 0.099..  Test Accuracy: 97.368%\n",
      "Epoch: 68/100..  Training Loss: 0.099..  Test Loss: 0.055..  Test Accuracy: 98.684%\n",
      "Epoch: 69/100..  Training Loss: 0.107..  Test Loss: 0.181..  Test Accuracy: 93.045%\n",
      "Epoch: 70/100..  Training Loss: 0.081..  Test Loss: 0.085..  Test Accuracy: 97.180%\n",
      "Epoch: 71/100..  Training Loss: 0.121..  Test Loss: 0.101..  Test Accuracy: 97.180%\n",
      "Epoch: 72/100..  Training Loss: 0.088..  Test Loss: 0.132..  Test Accuracy: 95.113%\n",
      "Epoch: 73/100..  Training Loss: 0.120..  Test Loss: 0.086..  Test Accuracy: 96.992%\n",
      "Epoch: 74/100..  Training Loss: 0.140..  Test Loss: 0.107..  Test Accuracy: 96.992%\n",
      "Epoch: 75/100..  Training Loss: 0.095..  Test Loss: 0.157..  Test Accuracy: 95.677%\n",
      "Epoch: 76/100..  Training Loss: 0.127..  Test Loss: 0.067..  Test Accuracy: 98.308%\n",
      "Epoch: 77/100..  Training Loss: 0.140..  Test Loss: 0.080..  Test Accuracy: 97.744%\n",
      "Epoch: 78/100..  Training Loss: 0.170..  Test Loss: 0.072..  Test Accuracy: 98.120%\n",
      "Epoch: 79/100..  Training Loss: 0.061..  Test Loss: 0.101..  Test Accuracy: 96.992%\n",
      "Epoch: 80/100..  Training Loss: 0.140..  Test Loss: 0.108..  Test Accuracy: 97.180%\n",
      "Epoch: 81/100..  Training Loss: 0.077..  Test Loss: 0.049..  Test Accuracy: 97.744%\n",
      "Epoch: 82/100..  Training Loss: 0.098..  Test Loss: 0.072..  Test Accuracy: 97.932%\n",
      "Epoch: 83/100..  Training Loss: 0.095..  Test Loss: 0.135..  Test Accuracy: 96.053%\n",
      "Epoch: 84/100..  Training Loss: 0.090..  Test Loss: 0.120..  Test Accuracy: 95.113%\n",
      "Epoch: 85/100..  Training Loss: 0.098..  Test Loss: 0.100..  Test Accuracy: 96.617%\n",
      "Epoch: 86/100..  Training Loss: 0.122..  Test Loss: 0.102..  Test Accuracy: 96.617%\n",
      "Epoch: 87/100..  Training Loss: 0.109..  Test Loss: 0.067..  Test Accuracy: 97.932%\n",
      "Epoch: 88/100..  Training Loss: 0.059..  Test Loss: 0.069..  Test Accuracy: 97.744%\n",
      "Epoch: 89/100..  Training Loss: 0.100..  Test Loss: 0.081..  Test Accuracy: 97.932%\n",
      "Epoch: 90/100..  Training Loss: 0.137..  Test Loss: 0.094..  Test Accuracy: 96.805%\n",
      "Epoch: 91/100..  Training Loss: 0.102..  Test Loss: 0.115..  Test Accuracy: 96.805%\n",
      "Epoch: 92/100..  Training Loss: 0.127..  Test Loss: 0.087..  Test Accuracy: 96.805%\n",
      "Epoch: 93/100..  Training Loss: 0.067..  Test Loss: 0.090..  Test Accuracy: 97.556%\n",
      "Epoch: 94/100..  Training Loss: 0.082..  Test Loss: 0.064..  Test Accuracy: 98.120%\n",
      "Epoch: 95/100..  Training Loss: 0.067..  Test Loss: 0.074..  Test Accuracy: 97.368%\n",
      "Epoch: 96/100..  Training Loss: 0.102..  Test Loss: 0.054..  Test Accuracy: 97.744%\n",
      "Epoch: 97/100..  Training Loss: 0.107..  Test Loss: 0.097..  Test Accuracy: 96.617%\n",
      "Epoch: 98/100..  Training Loss: 0.090..  Test Loss: 0.084..  Test Accuracy: 97.368%\n",
      "Epoch: 99/100..  Training Loss: 0.074..  Test Loss: 0.065..  Test Accuracy: 97.932%\n",
      "Epoch: 100/100..  Training Loss: 0.092..  Test Loss: 0.064..  Test Accuracy: 97.932%\n"
     ]
    }
   ],
   "source": [
    "epochs = 100\n",
    "train_losses, test_losses = [], []\n",
    "train_accuracy = []\n",
    "for epoch in range(epochs):\n",
    "    running_loss = 0\n",
    "    for example in trainloader:\n",
    "        label = th.Tensor([example[0][0].float()]).long()\n",
    "        image = th.reshape(example[0][1:].float(), (1, 1, 32, 32))\n",
    "        \n",
    "        logps = model(image).reshape(1, 10)  \n",
    "        optimizer.zero_grad()\n",
    "        loss = criterion(logps, label)\n",
    "        loss.backward()\n",
    "        optimizer.step()\n",
    "\n",
    "        running_loss += loss.item()\n",
    "        \n",
    "    else:\n",
    "        model.eval()\n",
    "        test_loss = 0\n",
    "        accuracy = 0\n",
    "        \n",
    "        with th.no_grad():\n",
    "            for example in testloader:\n",
    "                label = th.Tensor([example[0][0].float()]).long()\n",
    "                image = th.reshape(example[0][1:].float(), (1, 1, 32, 32))\n",
    "\n",
    "                logps = model(image).reshape(1, 10) \n",
    "                test_loss += criterion(logps, label.long())\n",
    "#                 print(label, logps)\n",
    "                ps = th.exp(logps)\n",
    "                top_p, top_class = ps.topk(1, dim=1)\n",
    "                equals = top_class == label.view(*top_class.shape)\n",
    "                accuracy += th.mean(equals.type(th.FloatTensor))\n",
    "\n",
    "            train_losses.append(running_loss/len(trainloader))\n",
    "            test_losses.append(test_loss/len(testloader))\n",
    "            train_accuracy.append(accuracy / len(testloader))\n",
    "            \n",
    "            print(\"Epoch: {}/{}.. \".format(epoch + 1, epochs),\n",
    "                  \"Training Loss: {:.3f}.. \".format(running_loss/len(trainloader)),\n",
    "                  \"Test Loss: {:.3f}.. \".format(test_loss/len(testloader)),\n",
    "                  \"Test Accuracy: {:.3f}%\".format(accuracy/len(testloader) * 100))\n"
   ]
  },
  {
   "cell_type": "code",
   "execution_count": 12,
   "metadata": {
    "ExecuteTime": {
     "end_time": "2019-07-19T16:37:21.936380Z",
     "start_time": "2019-07-19T16:37:21.487189Z"
    }
   },
   "outputs": [
    {
     "data": {
      "image/png": "[encoded data removed]",
      "text/plain": [
       "<Figure size 432x288 with 1 Axes>"
      ]
     },
     "metadata": {
      "needs_background": "light"
     },
     "output_type": "display_data"
    },
    {
     "data": {
      "image/png": "[encoded data removed]",
      "text/plain": [
       "<Figure size 432x288 with 1 Axes>"
      ]
     },
     "metadata": {
      "needs_background": "light"
     },
     "output_type": "display_data"
    }
   ],
   "source": [
    "plt.plot(test_losses)\n",
    "plt.plot(train_losses)\n",
    "\n",
    "plt.ylabel('loss')\n",
    "plt.xlabel('epoch')\n",
    "plt.legend(['train', 'test'], loc='upper left')\n",
    "plt.show()\n",
    "\n",
    "plt.plot(train_accuracy)\n",
    "plt.xlabel('epoch')\n",
    "plt.ylabel('accuracy')\n",
    "plt.show()"
   ]
  },
  {
   "cell_type": "code",
   "execution_count": 14,
   "metadata": {
    "ExecuteTime": {
     "end_time": "2019-07-19T16:37:31.145730Z",
     "start_time": "2019-07-19T16:37:30.903568Z"
    }
   },
   "outputs": [
    {
     "data": {
      "image/png": "[encoded data removed]",
      "text/plain": [
       "<Figure size 432x288 with 1 Axes>"
      ]
     },
     "metadata": {
      "needs_background": "light"
     },
     "output_type": "display_data"
    }
   ],
   "source": [
    "example = next(iter(testloader))\n",
    "\n",
    "label = example[0][0]\n",
    "image = th.reshape(example[0][1:].float(), (1, 1, 32, 32))\n",
    "# image = image.view(image.shape[0], -1)\n",
    "prediction = model(image)\n",
    "\n",
    "pred_label = th.argmax(prediction)\n",
    "\n",
    "title = f\"Actual: {int(label)} Prediction: {pred_label}\"\n",
    "\n",
    "plt.imshow(image.reshape(32, 32))\n",
    "plt.title(title)\n",
    "plt.show()"
   ]
  },
  {
   "cell_type": "code",
   "execution_count": 15,
   "metadata": {
    "ExecuteTime": {
     "end_time": "2019-07-19T16:37:33.616297Z",
     "start_time": "2019-07-19T16:37:33.602309Z"
    }
   },
   "outputs": [],
   "source": [
    "th.save(model.state_dict(), 'dcrcnn.pth')"
   ]
  },
  {
   "cell_type": "code",
   "execution_count": 27,
   "metadata": {
    "ExecuteTime": {
     "end_time": "2019-07-19T16:51:17.418928Z",
     "start_time": "2019-07-19T16:51:17.409935Z"
    }
   },
   "outputs": [
    {
     "data": {
      "text/plain": [
       "collections.OrderedDict"
      ]
     },
     "execution_count": 27,
     "metadata": {},
     "output_type": "execute_result"
    }
   ],
   "source": [
    "state_dict = th.load('dcrcnn.pth')\n"
   ]
  },
  {
   "cell_type": "code",
   "execution_count": 26,
   "metadata": {
    "ExecuteTime": {
     "end_time": "2019-07-19T16:44:21.322531Z",
     "start_time": "2019-07-19T16:44:21.314536Z"
    }
   },
   "outputs": [
    {
     "name": "stdout",
     "output_type": "stream",
     "text": [
      "IncompatibleKeys(missing_keys=[], unexpected_keys=[])\n"
     ]
    }
   ],
   "source": []
  },
  {
   "cell_type": "code",
   "execution_count": null,
   "metadata": {},
   "outputs": [],
   "source": []
  },
  {
   "cell_type": "code",
   "execution_count": null,
   "metadata": {},
   "outputs": [],
   "source": []
  },
  {
   "cell_type": "code",
   "execution_count": null,
   "metadata": {},
   "outputs": [],
   "source": []
  }
 ],
 "metadata": {
  "kernelspec": {
   "display_name": "Python 3",
   "language": "python",
   "name": "python3"
  },
  "language_info": {
   "codemirror_mode": {
    "name": "ipython",
    "version": 3
   },
   "file_extension": ".py",
   "mimetype": "text/x-python",
   "name": "python",
   "nbconvert_exporter": "python",
   "pygments_lexer": "ipython3",
   "version": "3.6.8"
  },
  "latex_envs": {
   "LaTeX_envs_menu_present": true,
   "autoclose": false,
   "autocomplete": true,
   "bibliofile": "biblio.bib",
   "cite_by": "apalike",
   "current_citInitial": 1,
   "eqLabelWithNumbers": true,
   "eqNumInitial": 1,
   "hotkeys": {
    "equation": "Ctrl-E",
    "itemize": "Ctrl-I"
   },
   "labels_anchors": false,
   "latex_user_defs": false,
   "report_style_numbering": false,
   "user_envs_cfg": false
  },
  "varInspector": {
   "cols": {
    "lenName": 16,
    "lenType": 16,
    "lenVar": 40
   },
   "kernels_config": {
    "python": {
     "delete_cmd_postfix": "",
     "delete_cmd_prefix": "del ",
     "library": "var_list.py",
     "varRefreshCmd": "print(var_dic_list())"
    },
    "r": {
     "delete_cmd_postfix": ") ",
     "delete_cmd_prefix": "rm(",
     "library": "var_list.r",
     "varRefreshCmd": "cat(var_dic_list()) "
    }
   },
   "types_to_exclude": [
    "module",
    "function",
    "builtin_function_or_method",
    "instance",
    "_Feature"
   ],
   "window_display": false
  }
 },
 "nbformat": 4,
 "nbformat_minor": 2
}
