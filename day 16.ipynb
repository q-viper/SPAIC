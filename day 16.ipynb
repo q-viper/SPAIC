{
 "cells": [
  {
   "cell_type": "markdown",
   "metadata": {
    "ExecuteTime": {
     "end_time": "2019-07-13T17:12:25.489008Z",
     "start_time": "2019-07-13T17:12:25.485010Z"
    }
   },
   "source": [
    "# Advanced Remote tensor execution tools"
   ]
  },
  {
   "cell_type": "code",
   "execution_count": 2,
   "metadata": {
    "ExecuteTime": {
     "end_time": "2019-07-13T17:12:40.852945Z",
     "start_time": "2019-07-13T17:12:35.587928Z"
    }
   },
   "outputs": [],
   "source": [
    "import torch as th\n",
    "from torch import optim, nn"
   ]
  },
  {
   "cell_type": "code",
   "execution_count": 3,
   "metadata": {
    "ExecuteTime": {
     "end_time": "2019-07-13T17:12:40.864461Z",
     "start_time": "2019-07-13T17:12:40.852945Z"
    }
   },
   "outputs": [],
   "source": [
    "# toy dataset\n",
    "data = th.tensor([[1., 1], [0, 1], [1, 0], [0, 0]], requires_grad=True)\n",
    "target = th.tensor([[1.], [1], [0], [0]], requires_grad=True)"
   ]
  },
  {
   "cell_type": "code",
   "execution_count": 4,
   "metadata": {
    "ExecuteTime": {
     "end_time": "2019-07-13T17:12:40.986021Z",
     "start_time": "2019-07-13T17:12:40.871455Z"
    }
   },
   "outputs": [],
   "source": [
    "#Simple linear model\n",
    "model = nn.Linear(2, 1)"
   ]
  },
  {
   "cell_type": "code",
   "execution_count": 5,
   "metadata": {
    "ExecuteTime": {
     "end_time": "2019-07-13T17:12:41.125636Z",
     "start_time": "2019-07-13T17:12:40.991001Z"
    }
   },
   "outputs": [],
   "source": [
    "#create optimizer\n",
    "\n",
    "opt = optim.SGD(params=model.parameters(), lr = 0.01)"
   ]
  },
  {
   "cell_type": "code",
   "execution_count": 6,
   "metadata": {
    "ExecuteTime": {
     "end_time": "2019-07-13T17:12:41.239301Z",
     "start_time": "2019-07-13T17:12:41.127636Z"
    }
   },
   "outputs": [],
   "source": [
    "opt.zero_grad()"
   ]
  },
  {
   "cell_type": "code",
   "execution_count": 7,
   "metadata": {
    "ExecuteTime": {
     "end_time": "2019-07-13T17:12:41.349462Z",
     "start_time": "2019-07-13T17:12:41.241310Z"
    }
   },
   "outputs": [],
   "source": [
    "pred = model(data)"
   ]
  },
  {
   "cell_type": "code",
   "execution_count": 8,
   "metadata": {
    "ExecuteTime": {
     "end_time": "2019-07-13T17:12:41.510477Z",
     "start_time": "2019-07-13T17:12:41.355441Z"
    }
   },
   "outputs": [],
   "source": [
    "loss = ((pred - target) ** 2).sum()"
   ]
  },
  {
   "cell_type": "code",
   "execution_count": 9,
   "metadata": {
    "ExecuteTime": {
     "end_time": "2019-07-13T17:12:41.635264Z",
     "start_time": "2019-07-13T17:12:41.515477Z"
    }
   },
   "outputs": [],
   "source": [
    "loss.backward()"
   ]
  },
  {
   "cell_type": "code",
   "execution_count": 10,
   "metadata": {
    "ExecuteTime": {
     "end_time": "2019-07-13T17:12:41.727450Z",
     "start_time": "2019-07-13T17:12:41.639245Z"
    }
   },
   "outputs": [],
   "source": [
    "opt.step()"
   ]
  },
  {
   "cell_type": "code",
   "execution_count": 11,
   "metadata": {
    "ExecuteTime": {
     "end_time": "2019-07-13T17:12:41.837293Z",
     "start_time": "2019-07-13T17:12:41.729433Z"
    }
   },
   "outputs": [
    {
     "data": {
      "text/plain": [
       "tensor(3.3706)"
      ]
     },
     "execution_count": 11,
     "metadata": {},
     "output_type": "execute_result"
    }
   ],
   "source": [
    "loss.data"
   ]
  },
  {
   "cell_type": "code",
   "execution_count": 12,
   "metadata": {
    "ExecuteTime": {
     "end_time": "2019-07-13T17:12:41.947492Z",
     "start_time": "2019-07-13T17:12:41.840293Z"
    }
   },
   "outputs": [],
   "source": [
    "#create method to learn the model\n",
    "\n",
    "def train(iteration = 20):\n",
    "    for i in range(iteration):\n",
    "        opt.zero_grad()\n",
    "        pred = model(data)\n",
    "        loss = ((pred - target) ** 2).sum()\n",
    "        loss.backward()\n",
    "        opt.step()\n",
    "        print(\"In %i loss:\"%i, \"%f\" %loss.data)\n",
    "        "
   ]
  },
  {
   "cell_type": "code",
   "execution_count": 13,
   "metadata": {
    "ExecuteTime": {
     "end_time": "2019-07-13T17:12:42.273942Z",
     "start_time": "2019-07-13T17:12:41.952490Z"
    }
   },
   "outputs": [
    {
     "name": "stdout",
     "output_type": "stream",
     "text": [
      "In 0 loss: 2.902265\n",
      "In 1 loss: 2.534071\n",
      "In 2 loss: 2.242548\n",
      "In 3 loss: 2.009802\n",
      "In 4 loss: 1.822193\n",
      "In 5 loss: 1.669321\n",
      "In 6 loss: 1.543257\n",
      "In 7 loss: 1.437948\n",
      "In 8 loss: 1.348774\n",
      "In 9 loss: 1.272206\n",
      "In 10 loss: 1.205544\n",
      "In 11 loss: 1.146722\n",
      "In 12 loss: 1.094156\n",
      "In 13 loss: 1.046629\n",
      "In 14 loss: 1.003204\n",
      "In 15 loss: 0.963159\n",
      "In 16 loss: 0.925934\n",
      "In 17 loss: 0.891093\n",
      "In 18 loss: 0.858298\n",
      "In 19 loss: 0.827281\n"
     ]
    }
   ],
   "source": [
    "train()"
   ]
  },
  {
   "cell_type": "code",
   "execution_count": 14,
   "metadata": {
    "ExecuteTime": {
     "end_time": "2019-07-13T17:13:16.320674Z",
     "start_time": "2019-07-13T17:12:42.278939Z"
    }
   },
   "outputs": [
    {
     "name": "stderr",
     "output_type": "stream",
     "text": [
      "WARNING:tf_encrypted:Falling back to insecure randomness since the required custom op could not be found for the installed version of TensorFlow. Fix this by compiling custom ops. Missing file was 'C:\\ProgramData\\Anaconda3\\lib\\site-packages\\tf_encrypted-0.5.6-py3.6.egg\\tf_encrypted/operations/secure_random/secure_random_module_tf_1.12.0.so'\n",
      "WARNING:root:Falling back to using int100 tensors due to lack of int64 support. Performance may be improved by installing a version of TensorFlow supporting this (1.13+ or custom build).\n"
     ]
    }
   ],
   "source": [
    "# Use two virtual workers and send half datasets to each\n",
    "import syft as sy\n",
    "\n",
    "hook = sy.TorchHook(th)\n",
    "viper = sy.VirtualWorker(hook, id = \"viper\")\n",
    "quassi = sy.VirtualWorker(hook, id = \"quassi\")"
   ]
  },
  {
   "cell_type": "code",
   "execution_count": 15,
   "metadata": {
    "ExecuteTime": {
     "end_time": "2019-07-13T17:13:16.434922Z",
     "start_time": "2019-07-13T17:13:16.320674Z"
    }
   },
   "outputs": [],
   "source": [
    "data_viper = data[:2].send(viper)\n",
    "target_viper = target[:2].send(viper)\n",
    "\n",
    "data_quassi = data[2:].send(quassi)\n",
    "target_quassi = target[2:].send(quassi)"
   ]
  },
  {
   "cell_type": "code",
   "execution_count": 16,
   "metadata": {
    "ExecuteTime": {
     "end_time": "2019-07-13T17:13:16.544062Z",
     "start_time": "2019-07-13T17:13:16.438917Z"
    }
   },
   "outputs": [],
   "source": [
    "datasets = [(data_viper, target_viper), (data_quassi, target_quassi)]"
   ]
  },
  {
   "cell_type": "code",
   "execution_count": 17,
   "metadata": {
    "ExecuteTime": {
     "end_time": "2019-07-13T17:13:16.695601Z",
     "start_time": "2019-07-13T17:13:16.544062Z"
    }
   },
   "outputs": [],
   "source": [
    "model = nn.Linear(2, 1)"
   ]
  },
  {
   "cell_type": "code",
   "execution_count": 18,
   "metadata": {
    "ExecuteTime": {
     "end_time": "2019-07-13T17:13:16.783180Z",
     "start_time": "2019-07-13T17:13:16.700615Z"
    }
   },
   "outputs": [],
   "source": [
    "opt = optim.SGD(params = model.parameters(), lr = 0.01)"
   ]
  },
  {
   "cell_type": "code",
   "execution_count": 19,
   "metadata": {
    "ExecuteTime": {
     "end_time": "2019-07-13T17:13:17.027714Z",
     "start_time": "2019-07-13T17:13:16.783180Z"
    }
   },
   "outputs": [],
   "source": [
    "_data, _target = datasets[0]\n",
    "model = model.send(_data.location)"
   ]
  },
  {
   "cell_type": "code",
   "execution_count": 20,
   "metadata": {
    "ExecuteTime": {
     "end_time": "2019-07-13T17:13:17.045304Z",
     "start_time": "2019-07-13T17:13:17.027714Z"
    }
   },
   "outputs": [],
   "source": [
    "def train(iterations=20):\n",
    "\n",
    "    model = nn.Linear(2,1)\n",
    "    opt = optim.SGD(params=model.parameters(), lr=0.1)\n",
    "    \n",
    "    for iter in range(iterations):\n",
    "\n",
    "        for _data, _target in datasets:\n",
    "\n",
    "            # send model to the data\n",
    "            model = model.send(_data.location)\n",
    "\n",
    "            # do normal training\n",
    "            opt.zero_grad()\n",
    "            pred = model(_data)\n",
    "            loss = ((pred - _target)**2).sum()\n",
    "            loss.backward()\n",
    "            opt.step()\n",
    "\n",
    "            # get smarter model back\n",
    "            model = model.get()\n",
    "\n",
    "            print(loss.get())"
   ]
  },
  {
   "cell_type": "code",
   "execution_count": 21,
   "metadata": {
    "ExecuteTime": {
     "end_time": "2019-07-13T17:13:18.572683Z",
     "start_time": "2019-07-13T17:13:17.048301Z"
    }
   },
   "outputs": [
    {
     "name": "stdout",
     "output_type": "stream",
     "text": [
      "tensor(1.5514, requires_grad=True)\n",
      "tensor(0.0497, requires_grad=True)\n",
      "tensor(0.0698, requires_grad=True)\n",
      "tensor(0.0426, requires_grad=True)\n",
      "tensor(0.0337, requires_grad=True)\n",
      "tensor(0.0265, requires_grad=True)\n",
      "tensor(0.0210, requires_grad=True)\n",
      "tensor(0.0164, requires_grad=True)\n",
      "tensor(0.0134, requires_grad=True)\n",
      "tensor(0.0103, requires_grad=True)\n",
      "tensor(0.0087, requires_grad=True)\n",
      "tensor(0.0067, requires_grad=True)\n",
      "tensor(0.0057, requires_grad=True)\n",
      "tensor(0.0044, requires_grad=True)\n",
      "tensor(0.0038, requires_grad=True)\n",
      "tensor(0.0030, requires_grad=True)\n",
      "tensor(0.0026, requires_grad=True)\n",
      "tensor(0.0021, requires_grad=True)\n",
      "tensor(0.0018, requires_grad=True)\n",
      "tensor(0.0015, requires_grad=True)\n",
      "tensor(0.0012, requires_grad=True)\n",
      "tensor(0.0010, requires_grad=True)\n",
      "tensor(0.0009, requires_grad=True)\n",
      "tensor(0.0008, requires_grad=True)\n",
      "tensor(0.0006, requires_grad=True)\n",
      "tensor(0.0006, requires_grad=True)\n",
      "tensor(0.0004, requires_grad=True)\n",
      "tensor(0.0004, requires_grad=True)\n",
      "tensor(0.0003, requires_grad=True)\n",
      "tensor(0.0003, requires_grad=True)\n",
      "tensor(0.0002, requires_grad=True)\n",
      "tensor(0.0002, requires_grad=True)\n",
      "tensor(0.0002, requires_grad=True)\n",
      "tensor(0.0002, requires_grad=True)\n",
      "tensor(0.0001, requires_grad=True)\n",
      "tensor(0.0001, requires_grad=True)\n",
      "tensor(9.1440e-05, requires_grad=True)\n",
      "tensor(0.0001, requires_grad=True)\n",
      "tensor(6.7514e-05, requires_grad=True)\n",
      "tensor(7.5481e-05, requires_grad=True)\n"
     ]
    }
   ],
   "source": [
    "train()"
   ]
  },
  {
   "cell_type": "code",
   "execution_count": 46,
   "metadata": {
    "ExecuteTime": {
     "end_time": "2019-07-13T17:21:10.865272Z",
     "start_time": "2019-07-13T17:21:10.859276Z"
    }
   },
   "outputs": [
    {
     "data": {
      "text/plain": [
       "<VirtualWorker id:viper #objects:0>"
      ]
     },
     "execution_count": 46,
     "metadata": {},
     "output_type": "execute_result"
    }
   ],
   "source": [
    "viper.clear_objects()"
   ]
  },
  {
   "cell_type": "code",
   "execution_count": 47,
   "metadata": {
    "ExecuteTime": {
     "end_time": "2019-07-13T17:21:11.345642Z",
     "start_time": "2019-07-13T17:21:11.338646Z"
    }
   },
   "outputs": [
    {
     "data": {
      "text/plain": [
       "<VirtualWorker id:quassi #objects:0>"
      ]
     },
     "execution_count": 47,
     "metadata": {},
     "output_type": "execute_result"
    }
   ],
   "source": [
    "quassi.clear_objects()"
   ]
  },
  {
   "cell_type": "code",
   "execution_count": null,
   "metadata": {
    "ExecuteTime": {
     "end_time": "2019-07-13T17:14:48.472652Z",
     "start_time": "2019-07-13T17:14:48.464658Z"
    }
   },
   "outputs": [],
   "source": []
  },
  {
   "cell_type": "code",
   "execution_count": 48,
   "metadata": {
    "ExecuteTime": {
     "end_time": "2019-07-13T17:21:12.322541Z",
     "start_time": "2019-07-13T17:21:12.315545Z"
    }
   },
   "outputs": [
    {
     "data": {
      "text/plain": [
       "{}"
      ]
     },
     "execution_count": 48,
     "metadata": {},
     "output_type": "execute_result"
    }
   ],
   "source": [
    "viper._objects"
   ]
  },
  {
   "cell_type": "code",
   "execution_count": 49,
   "metadata": {
    "ExecuteTime": {
     "end_time": "2019-07-13T17:21:12.829794Z",
     "start_time": "2019-07-13T17:21:12.822796Z"
    }
   },
   "outputs": [],
   "source": [
    "x = th.tensor([1, 2, 3, 4]).send(viper)  # x is pointer here"
   ]
  },
  {
   "cell_type": "code",
   "execution_count": 50,
   "metadata": {
    "ExecuteTime": {
     "end_time": "2019-07-13T17:21:13.366018Z",
     "start_time": "2019-07-13T17:21:13.360018Z"
    }
   },
   "outputs": [],
   "source": [
    "x = x.send(quassi) # x is pointer addressing to pointer"
   ]
  },
  {
   "cell_type": "code",
   "execution_count": 51,
   "metadata": {
    "ExecuteTime": {
     "end_time": "2019-07-13T17:21:14.210764Z",
     "start_time": "2019-07-13T17:21:14.204748Z"
    }
   },
   "outputs": [
    {
     "data": {
      "text/plain": [
       "{19071640047: (Wrapper)>[PointerTensor | quassi:19071640047 -> viper:31595827496]}"
      ]
     },
     "execution_count": 51,
     "metadata": {},
     "output_type": "execute_result"
    }
   ],
   "source": [
    "quassi._objects"
   ]
  },
  {
   "cell_type": "code",
   "execution_count": 52,
   "metadata": {
    "ExecuteTime": {
     "end_time": "2019-07-13T17:21:14.943047Z",
     "start_time": "2019-07-13T17:21:14.938049Z"
    }
   },
   "outputs": [
    {
     "data": {
      "text/plain": [
       "(Wrapper)>[PointerTensor | me:65761226050 -> quassi:19071640047]"
      ]
     },
     "execution_count": 52,
     "metadata": {},
     "output_type": "execute_result"
    }
   ],
   "source": [
    "x #now x points to quassi"
   ]
  },
  {
   "cell_type": "code",
   "execution_count": 53,
   "metadata": {
    "ExecuteTime": {
     "end_time": "2019-07-13T17:21:15.699183Z",
     "start_time": "2019-07-13T17:21:15.692187Z"
    }
   },
   "outputs": [],
   "source": [
    "y = x + x"
   ]
  },
  {
   "cell_type": "code",
   "execution_count": 54,
   "metadata": {
    "ExecuteTime": {
     "end_time": "2019-07-13T17:21:23.697875Z",
     "start_time": "2019-07-13T17:21:23.690880Z"
    }
   },
   "outputs": [
    {
     "data": {
      "text/plain": [
       "(Wrapper)>[PointerTensor | me:72110475577 -> quassi:88660062268]"
      ]
     },
     "execution_count": 54,
     "metadata": {},
     "output_type": "execute_result"
    }
   ],
   "source": [
    "y #still pointing to quassi, as it first executes to it"
   ]
  },
  {
   "cell_type": "code",
   "execution_count": 55,
   "metadata": {
    "ExecuteTime": {
     "end_time": "2019-07-13T17:23:05.305044Z",
     "start_time": "2019-07-13T17:23:05.297055Z"
    }
   },
   "outputs": [
    {
     "data": {
      "text/plain": [
       "{31595827496: tensor([1, 2, 3, 4]), 74437627574: tensor([2, 4, 6, 8])}"
      ]
     },
     "execution_count": 55,
     "metadata": {},
     "output_type": "execute_result"
    }
   ],
   "source": [
    "viper._objects #contains 2 pointers"
   ]
  },
  {
   "cell_type": "code",
   "execution_count": 56,
   "metadata": {
    "ExecuteTime": {
     "end_time": "2019-07-13T17:23:29.128591Z",
     "start_time": "2019-07-13T17:23:29.122598Z"
    }
   },
   "outputs": [
    {
     "data": {
      "text/plain": [
       "{19071640047: (Wrapper)>[PointerTensor | quassi:19071640047 -> viper:31595827496],\n",
       " 88660062268: (Wrapper)>[PointerTensor | quassi:88660062268 -> viper:74437627574]}"
      ]
     },
     "execution_count": 56,
     "metadata": {},
     "output_type": "execute_result"
    }
   ],
   "source": [
    "quassi._objects"
   ]
  },
  {
   "cell_type": "code",
   "execution_count": 57,
   "metadata": {
    "ExecuteTime": {
     "end_time": "2019-07-13T17:29:07.511252Z",
     "start_time": "2019-07-13T17:29:07.504259Z"
    }
   },
   "outputs": [
    {
     "data": {
      "text/plain": [
       "<VirtualWorker id:quassi #objects:0>"
      ]
     },
     "execution_count": 57,
     "metadata": {},
     "output_type": "execute_result"
    }
   ],
   "source": [
    "viper.clear_objects()\n",
    "quassi.clear_objects()"
   ]
  },
  {
   "cell_type": "code",
   "execution_count": 58,
   "metadata": {
    "ExecuteTime": {
     "end_time": "2019-07-13T17:29:38.976274Z",
     "start_time": "2019-07-13T17:29:38.968278Z"
    }
   },
   "outputs": [],
   "source": [
    "#send pointer of x to viper and its pointer to quassi\n",
    "x = th.tensor([1, 2, 3, 4]).send(viper).send(quassi)"
   ]
  },
  {
   "cell_type": "code",
   "execution_count": 60,
   "metadata": {
    "ExecuteTime": {
     "end_time": "2019-07-13T17:31:11.264760Z",
     "start_time": "2019-07-13T17:31:11.257765Z"
    }
   },
   "outputs": [
    {
     "data": {
      "text/plain": [
       "{62053936875: (Wrapper)>[PointerTensor | quassi:62053936875 -> viper:10501984931]}"
      ]
     },
     "execution_count": 60,
     "metadata": {},
     "output_type": "execute_result"
    }
   ],
   "source": [
    "quassi._objects #see the pointers pointing to "
   ]
  },
  {
   "cell_type": "code",
   "execution_count": 61,
   "metadata": {
    "ExecuteTime": {
     "end_time": "2019-07-13T17:31:24.476610Z",
     "start_time": "2019-07-13T17:31:24.469600Z"
    }
   },
   "outputs": [],
   "source": [
    "x = x.get(quassi)"
   ]
  },
  {
   "cell_type": "code",
   "execution_count": 62,
   "metadata": {
    "ExecuteTime": {
     "end_time": "2019-07-13T17:31:29.904184Z",
     "start_time": "2019-07-13T17:31:29.896189Z"
    }
   },
   "outputs": [
    {
     "data": {
      "text/plain": [
       "(Wrapper)>[PointerTensor | me:62053936875 -> viper:10501984931]"
      ]
     },
     "execution_count": 62,
     "metadata": {},
     "output_type": "execute_result"
    }
   ],
   "source": [
    "x"
   ]
  },
  {
   "cell_type": "code",
   "execution_count": 63,
   "metadata": {
    "ExecuteTime": {
     "end_time": "2019-07-13T17:32:30.439342Z",
     "start_time": "2019-07-13T17:32:30.433348Z"
    }
   },
   "outputs": [
    {
     "data": {
      "text/plain": [
       "{}"
      ]
     },
     "execution_count": 63,
     "metadata": {},
     "output_type": "execute_result"
    }
   ],
   "source": [
    "# now see objects of quassi\n",
    "quassi._objects"
   ]
  },
  {
   "cell_type": "code",
   "execution_count": 64,
   "metadata": {
    "ExecuteTime": {
     "end_time": "2019-07-13T17:33:59.955667Z",
     "start_time": "2019-07-13T17:33:59.947675Z"
    }
   },
   "outputs": [
    {
     "data": {
      "text/plain": [
       "{10501984931: tensor([1, 2, 3, 4])}"
      ]
     },
     "execution_count": 64,
     "metadata": {},
     "output_type": "execute_result"
    }
   ],
   "source": [
    "viper._objects"
   ]
  },
  {
   "cell_type": "markdown",
   "metadata": {},
   "source": [
    "> ## This is because of automatic garbage collection feature of pysyft. But there is still viper has data. We need to delete the original pointer to automatically delete all pointers pointing towards actual data."
   ]
  },
  {
   "cell_type": "code",
   "execution_count": 73,
   "metadata": {
    "ExecuteTime": {
     "end_time": "2019-07-13T17:38:54.886804Z",
     "start_time": "2019-07-13T17:38:54.877808Z"
    }
   },
   "outputs": [],
   "source": [
    "viper.clear_objects()\n",
    "quassi.clear_objects()\n",
    "\n",
    "#send pointer of x to viper and its pointer to quassi\n",
    "x = th.tensor([1, 2, 3, 4]).send(viper).send(quassi)\n",
    "\n"
   ]
  },
  {
   "cell_type": "code",
   "execution_count": 74,
   "metadata": {
    "ExecuteTime": {
     "end_time": "2019-07-13T17:38:55.766548Z",
     "start_time": "2019-07-13T17:38:55.760550Z"
    }
   },
   "outputs": [
    {
     "data": {
      "text/plain": [
       "{59845145184: tensor([1, 2, 3, 4])}"
      ]
     },
     "execution_count": 74,
     "metadata": {},
     "output_type": "execute_result"
    }
   ],
   "source": [
    "viper._objects"
   ]
  },
  {
   "cell_type": "code",
   "execution_count": 75,
   "metadata": {
    "ExecuteTime": {
     "end_time": "2019-07-13T17:38:56.908215Z",
     "start_time": "2019-07-13T17:38:56.900220Z"
    }
   },
   "outputs": [
    {
     "data": {
      "text/plain": [
       "{97118002576: (Wrapper)>[PointerTensor | quassi:97118002576 -> viper:59845145184]}"
      ]
     },
     "execution_count": 75,
     "metadata": {},
     "output_type": "execute_result"
    }
   ],
   "source": [
    "quassi._objects"
   ]
  },
  {
   "cell_type": "code",
   "execution_count": 76,
   "metadata": {
    "ExecuteTime": {
     "end_time": "2019-07-13T17:38:57.782645Z",
     "start_time": "2019-07-13T17:38:57.778646Z"
    }
   },
   "outputs": [],
   "source": [
    "del x"
   ]
  },
  {
   "cell_type": "code",
   "execution_count": 78,
   "metadata": {
    "ExecuteTime": {
     "end_time": "2019-07-13T17:39:02.703960Z",
     "start_time": "2019-07-13T17:39:02.697961Z"
    }
   },
   "outputs": [
    {
     "data": {
      "text/plain": [
       "{}"
      ]
     },
     "execution_count": 78,
     "metadata": {},
     "output_type": "execute_result"
    }
   ],
   "source": [
    "viper._objects"
   ]
  },
  {
   "cell_type": "code",
   "execution_count": 79,
   "metadata": {
    "ExecuteTime": {
     "end_time": "2019-07-13T17:39:12.900624Z",
     "start_time": "2019-07-13T17:39:12.894629Z"
    }
   },
   "outputs": [
    {
     "data": {
      "text/plain": [
       "{}"
      ]
     },
     "execution_count": 79,
     "metadata": {},
     "output_type": "execute_result"
    }
   ],
   "source": [
    "quassi._objects"
   ]
  },
  {
   "cell_type": "markdown",
   "metadata": {},
   "source": [
    "> < Now automatically collected all garbages."
   ]
  },
  {
   "cell_type": "code",
   "execution_count": null,
   "metadata": {},
   "outputs": [],
   "source": []
  }
 ],
 "metadata": {
  "kernelspec": {
   "display_name": "Python 3",
   "language": "python",
   "name": "python3"
  },
  "language_info": {
   "codemirror_mode": {
    "name": "ipython",
    "version": 3
   },
   "file_extension": ".py",
   "mimetype": "text/x-python",
   "name": "python",
   "nbconvert_exporter": "python",
   "pygments_lexer": "ipython3",
   "version": "3.6.8"
  },
  "varInspector": {
   "cols": {
    "lenName": 16,
    "lenType": 16,
    "lenVar": 40
   },
   "kernels_config": {
    "python": {
     "delete_cmd_postfix": "",
     "delete_cmd_prefix": "del ",
     "library": "var_list.py",
     "varRefreshCmd": "print(var_dic_list())"
    },
    "r": {
     "delete_cmd_postfix": ") ",
     "delete_cmd_prefix": "rm(",
     "library": "var_list.r",
     "varRefreshCmd": "cat(var_dic_list()) "
    }
   },
   "types_to_exclude": [
    "module",
    "function",
    "builtin_function_or_method",
    "instance",
    "_Feature"
   ],
   "window_display": false
  }
 },
 "nbformat": 4,
 "nbformat_minor": 2
}
