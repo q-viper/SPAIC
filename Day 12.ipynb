{
 "cells": [
  {
   "cell_type": "code",
   "execution_count": 1,
   "metadata": {
    "ExecuteTime": {
     "end_time": "2019-07-10T16:19:11.614382Z",
     "start_time": "2019-07-10T16:18:12.707756Z"
    }
   },
   "outputs": [
    {
     "name": "stderr",
     "output_type": "stream",
     "text": [
      "WARNING:tf_encrypted:Falling back to insecure randomness since the required custom op could not be found for the installed version of TensorFlow. Fix this by compiling custom ops. Missing file was 'C:\\ProgramData\\Anaconda3\\lib\\site-packages\\tf_encrypted-0.5.6-py3.6.egg\\tf_encrypted/operations/secure_random/secure_random_module_tf_1.12.0.so'\n",
      "WARNING:root:Falling back to using int100 tensors due to lack of int64 support. Performance may be improved by installing a version of TensorFlow supporting this (1.13+ or custom build).\n"
     ]
    }
   ],
   "source": [
    "import torch as th\n",
    "import syft as sy"
   ]
  },
  {
   "cell_type": "code",
   "execution_count": 2,
   "metadata": {
    "ExecuteTime": {
     "end_time": "2019-07-10T16:19:12.256056Z",
     "start_time": "2019-07-10T16:19:11.614382Z"
    }
   },
   "outputs": [],
   "source": [
    "hook = sy.TorchHook(th)"
   ]
  },
  {
   "cell_type": "markdown",
   "metadata": {
    "cell_style": "center"
   },
   "source": [
    "Federated learning allows us to run/train model parallelly and locally. \n",
    "Create virtualworker. It is the collection of object."
   ]
  },
  {
   "cell_type": "code",
   "execution_count": 3,
   "metadata": {
    "ExecuteTime": {
     "end_time": "2019-07-10T16:19:12.271681Z",
     "start_time": "2019-07-10T16:19:12.256056Z"
    }
   },
   "outputs": [],
   "source": [
    "viper = sy.VirtualWorker(hook, id = \"viper\") #viper is virtual worker "
   ]
  },
  {
   "cell_type": "code",
   "execution_count": 4,
   "metadata": {
    "ExecuteTime": {
     "end_time": "2019-07-10T16:19:12.396731Z",
     "start_time": "2019-07-10T16:19:12.271681Z"
    }
   },
   "outputs": [
    {
     "data": {
      "text/plain": [
       "{}"
      ]
     },
     "execution_count": 4,
     "metadata": {},
     "output_type": "execute_result"
    }
   ],
   "source": [
    "viper._objects #check the collection of objs."
   ]
  },
  {
   "cell_type": "code",
   "execution_count": 5,
   "metadata": {
    "ExecuteTime": {
     "end_time": "2019-07-10T16:19:12.552981Z",
     "start_time": "2019-07-10T16:19:12.396731Z"
    }
   },
   "outputs": [],
   "source": [
    "x = th.Tensor([1, 2, 4, 5, 2, 3])"
   ]
  },
  {
   "cell_type": "code",
   "execution_count": 6,
   "metadata": {
    "ExecuteTime": {
     "end_time": "2019-07-10T16:19:12.787275Z",
     "start_time": "2019-07-10T16:19:12.552981Z"
    }
   },
   "outputs": [],
   "source": [
    "x = x.send(viper) #send the tensor to worker "
   ]
  },
  {
   "cell_type": "code",
   "execution_count": 7,
   "metadata": {
    "ExecuteTime": {
     "end_time": "2019-07-10T16:19:13.053135Z",
     "start_time": "2019-07-10T16:19:12.787275Z"
    }
   },
   "outputs": [
    {
     "data": {
      "text/plain": [
       "{76657095732: tensor([1., 2., 4., 5., 2., 3.])}"
      ]
     },
     "execution_count": 7,
     "metadata": {},
     "output_type": "execute_result"
    }
   ],
   "source": [
    "viper._objects "
   ]
  },
  {
   "cell_type": "code",
   "execution_count": 8,
   "metadata": {
    "ExecuteTime": {
     "end_time": "2019-07-10T16:19:13.084350Z",
     "start_time": "2019-07-10T16:19:13.053135Z"
    }
   },
   "outputs": [
    {
     "data": {
      "text/plain": [
       "<VirtualWorker id:viper #objects:1>"
      ]
     },
     "execution_count": 8,
     "metadata": {},
     "output_type": "execute_result"
    }
   ],
   "source": [
    "x.location"
   ]
  },
  {
   "cell_type": "code",
   "execution_count": 9,
   "metadata": {
    "ExecuteTime": {
     "end_time": "2019-07-10T16:19:13.178092Z",
     "start_time": "2019-07-10T16:19:13.084350Z"
    }
   },
   "outputs": [
    {
     "data": {
      "text/plain": [
       "71529294703"
      ]
     },
     "execution_count": 9,
     "metadata": {},
     "output_type": "execute_result"
    }
   ],
   "source": [
    "x.id\n"
   ]
  },
  {
   "cell_type": "code",
   "execution_count": 10,
   "metadata": {
    "ExecuteTime": {
     "end_time": "2019-07-10T16:19:13.303167Z",
     "start_time": "2019-07-10T16:19:13.178092Z"
    }
   },
   "outputs": [
    {
     "data": {
      "text/plain": [
       "76657095732"
      ]
     },
     "execution_count": 10,
     "metadata": {},
     "output_type": "execute_result"
    }
   ],
   "source": [
    "x.id_at_location"
   ]
  },
  {
   "cell_type": "code",
   "execution_count": 11,
   "metadata": {
    "ExecuteTime": {
     "end_time": "2019-07-10T16:19:13.443730Z",
     "start_time": "2019-07-10T16:19:13.303167Z"
    }
   },
   "outputs": [
    {
     "data": {
      "text/plain": [
       "<VirtualWorker id:me #objects:0>"
      ]
     },
     "execution_count": 11,
     "metadata": {},
     "output_type": "execute_result"
    }
   ],
   "source": [
    "x.owner"
   ]
  },
  {
   "cell_type": "code",
   "execution_count": 12,
   "metadata": {
    "ExecuteTime": {
     "end_time": "2019-07-10T16:19:13.588815Z",
     "start_time": "2019-07-10T16:19:13.443730Z"
    }
   },
   "outputs": [
    {
     "data": {
      "text/plain": [
       "<VirtualWorker id:me #objects:0>"
      ]
     },
     "execution_count": 12,
     "metadata": {},
     "output_type": "execute_result"
    }
   ],
   "source": [
    "hook.local_worker"
   ]
  },
  {
   "cell_type": "code",
   "execution_count": 13,
   "metadata": {
    "ExecuteTime": {
     "end_time": "2019-07-10T16:19:13.713858Z",
     "start_time": "2019-07-10T16:19:13.588815Z"
    }
   },
   "outputs": [
    {
     "data": {
      "text/plain": [
       "(Wrapper)>[PointerTensor | me:71529294703 -> viper:76657095732]"
      ]
     },
     "execution_count": 13,
     "metadata": {},
     "output_type": "execute_result"
    }
   ],
   "source": [
    "x"
   ]
  },
  {
   "cell_type": "code",
   "execution_count": 14,
   "metadata": {
    "ExecuteTime": {
     "end_time": "2019-07-10T16:19:13.848239Z",
     "start_time": "2019-07-10T16:19:13.713858Z"
    }
   },
   "outputs": [],
   "source": [
    "x = x.get()"
   ]
  },
  {
   "cell_type": "code",
   "execution_count": 15,
   "metadata": {
    "ExecuteTime": {
     "end_time": "2019-07-10T16:19:14.100969Z",
     "start_time": "2019-07-10T16:19:13.856233Z"
    }
   },
   "outputs": [
    {
     "data": {
      "text/plain": [
       "tensor([1., 2., 4., 5., 2., 3.])"
      ]
     },
     "execution_count": 15,
     "metadata": {},
     "output_type": "execute_result"
    }
   ],
   "source": [
    "x"
   ]
  },
  {
   "cell_type": "code",
   "execution_count": 16,
   "metadata": {
    "ExecuteTime": {
     "end_time": "2019-07-10T16:19:14.212733Z",
     "start_time": "2019-07-10T16:19:14.100969Z"
    }
   },
   "outputs": [
    {
     "data": {
      "text/plain": [
       "{}"
      ]
     },
     "execution_count": 16,
     "metadata": {},
     "output_type": "execute_result"
    }
   ],
   "source": [
    "viper._objects #sent so shows empty"
   ]
  },
  {
   "cell_type": "markdown",
   "metadata": {},
   "source": [
    "# Using two workers"
   ]
  },
  {
   "cell_type": "code",
   "execution_count": 17,
   "metadata": {
    "ExecuteTime": {
     "end_time": "2019-07-10T16:19:14.322035Z",
     "start_time": "2019-07-10T16:19:14.212733Z"
    }
   },
   "outputs": [],
   "source": [
    "viper = sy.VirtualWorker(hook, id = \"viper\")\n",
    "quassi = sy.VirtualWorker(hook, id = \"quassi\")"
   ]
  },
  {
   "cell_type": "code",
   "execution_count": 19,
   "metadata": {
    "ExecuteTime": {
     "end_time": "2019-07-10T16:19:39.737137Z",
     "start_time": "2019-07-10T16:19:39.680169Z"
    }
   },
   "outputs": [],
   "source": [
    "vdata = th.tensor([1, 4, 3, 5])\n",
    "vdata = vdata.send(viper)"
   ]
  },
  {
   "cell_type": "code",
   "execution_count": 20,
   "metadata": {
    "ExecuteTime": {
     "end_time": "2019-07-10T16:19:52.420297Z",
     "start_time": "2019-07-10T16:19:52.412302Z"
    }
   },
   "outputs": [],
   "source": [
    "qdata = th.tensor([7, 6, 5, 4])\n",
    "qdata = qdata.send(quassi)"
   ]
  },
  {
   "cell_type": "code",
   "execution_count": 25,
   "metadata": {
    "ExecuteTime": {
     "end_time": "2019-07-10T16:22:05.980751Z",
     "start_time": "2019-07-10T16:22:05.764807Z"
    }
   },
   "outputs": [],
   "source": [
    "qr = th.tensor([1, 2, 3, 4])\n",
    "qr = qr.send(viper, quassi)\n"
   ]
  },
  {
   "cell_type": "code",
   "execution_count": 26,
   "metadata": {
    "ExecuteTime": {
     "end_time": "2019-07-10T16:22:56.515722Z",
     "start_time": "2019-07-10T16:22:56.397125Z"
    }
   },
   "outputs": [
    {
     "data": {
      "text/plain": [
       "tensor([2, 4, 6, 8])"
      ]
     },
     "execution_count": 26,
     "metadata": {},
     "output_type": "execute_result"
    }
   ],
   "source": [
    "qr.get(sum_results = True)"
   ]
  },
  {
   "cell_type": "code",
   "execution_count": null,
   "metadata": {},
   "outputs": [],
   "source": []
  }
 ],
 "metadata": {
  "kernelspec": {
   "display_name": "Python 3",
   "language": "python",
   "name": "python3"
  },
  "language_info": {
   "codemirror_mode": {
    "name": "ipython",
    "version": 3
   },
   "file_extension": ".py",
   "mimetype": "text/x-python",
   "name": "python",
   "nbconvert_exporter": "python",
   "pygments_lexer": "ipython3",
   "version": "3.6.8"
  },
  "varInspector": {
   "cols": {
    "lenName": 16,
    "lenType": 16,
    "lenVar": 40
   },
   "kernels_config": {
    "python": {
     "delete_cmd_postfix": "",
     "delete_cmd_prefix": "del ",
     "library": "var_list.py",
     "varRefreshCmd": "print(var_dic_list())"
    },
    "r": {
     "delete_cmd_postfix": ") ",
     "delete_cmd_prefix": "rm(",
     "library": "var_list.r",
     "varRefreshCmd": "cat(var_dic_list()) "
    }
   },
   "types_to_exclude": [
    "module",
    "function",
    "builtin_function_or_method",
    "instance",
    "_Feature"
   ],
   "window_display": false
  }
 },
 "nbformat": 4,
 "nbformat_minor": 2
}
