{
 "cells": [
  {
   "cell_type": "code",
   "execution_count": 1,
   "metadata": {
    "ExecuteTime": {
     "end_time": "2019-07-20T03:49:26.871055Z",
     "start_time": "2019-07-20T03:49:25.639612Z"
    }
   },
   "outputs": [],
   "source": [
    "import numpy as np\n",
    "import matplotlib.pyplot as plt\n",
    "import torch as th\n",
    "import torch.nn.functional as F\n",
    "from torch import nn, optim\n",
    "import torchvision\n",
    "\n",
    "plt.style.use('seaborn-whitegrid')"
   ]
  },
  {
   "cell_type": "code",
   "execution_count": 2,
   "metadata": {
    "ExecuteTime": {
     "end_time": "2019-07-20T03:49:26.884003Z",
     "start_time": "2019-07-20T03:49:26.873009Z"
    }
   },
   "outputs": [],
   "source": [
    "def dataset(file):\n",
    "    current_datafile = open(file, 'r')\n",
    "    current_dataset = current_datafile.readlines()\n",
    "    current_datafile.close()\n",
    "\n",
    "    datasets = np.zeros([len(current_dataset), 1025])\n",
    "    indices = np.linspace(0, len(current_dataset) - 1, len(current_dataset), dtype = np.int64)\n",
    "    np.random.shuffle(indices)\n",
    "    for i in indices:\n",
    "#         print(i)\n",
    "        example = current_dataset[i].split(',')\n",
    "        \n",
    "        labels = np.asarray(example[0], dtype = np.float32)\n",
    "        images = np.asarray(example[1:], dtype=np.float32) / 255   \n",
    "        example = np.hstack([labels, images])\n",
    "        \n",
    "        datasets[i] = example\n",
    "    return datasets\n"
   ]
  },
  {
   "cell_type": "code",
   "execution_count": 3,
   "metadata": {
    "ExecuteTime": {
     "end_time": "2019-07-20T03:49:37.525150Z",
     "start_time": "2019-07-20T03:49:26.890999Z"
    }
   },
   "outputs": [],
   "source": [
    "trainloader = th.utils.data.DataLoader(dataset('train.csv'), shuffle = True, batch_size = 32)\n",
    "testloader = th.utils.data.DataLoader(dataset('train.csv'), shuffle = True, batch_size = 32)"
   ]
  },
  {
   "cell_type": "code",
   "execution_count": 4,
   "metadata": {
    "ExecuteTime": {
     "end_time": "2019-07-20T03:49:37.548034Z",
     "start_time": "2019-07-20T03:49:37.525150Z"
    }
   },
   "outputs": [
    {
     "name": "stdout",
     "output_type": "stream",
     "text": [
      "tensor([4.], grad_fn=<SqueezeBackward3>)\n"
     ]
    }
   ],
   "source": [
    "x = th.ones([1, 2])\n",
    "# print(x)\n",
    "a = th.Tensor([2, 2])\n",
    "\n",
    "ff = nn.Linear(2, 1, False)\n",
    "ff.weight.data = x\n",
    "\n",
    "\n",
    "print(ff(a))\n",
    "\n"
   ]
  },
  {
   "cell_type": "code",
   "execution_count": 5,
   "metadata": {
    "ExecuteTime": {
     "end_time": "2019-07-20T03:49:37.732110Z",
     "start_time": "2019-07-20T03:49:37.553032Z"
    },
    "scrolled": false
   },
   "outputs": [
    {
     "name": "stdout",
     "output_type": "stream",
     "text": [
      "tensor(2., dtype=torch.float64) tensor([[0.0000, 0.0000, 0.1856, 0.1332, 0.1429, 0.0000, 0.0000, 0.0000, 0.0000,\n",
      "         0.2262]], grad_fn=<ReluBackward0>)\n"
     ]
    }
   ],
   "source": [
    "# define the CNN architecture\n",
    "class Net(nn.Module):\n",
    "    def __init__(self):\n",
    "        super(Net, self).__init__()\n",
    "        self.conv1 = nn.Conv2d(1, 32, 3)\n",
    "        self.conv2 = nn.Conv2d(32, 16, 3)\n",
    "        self.conv3 = nn.Conv2d(16, 8, 3)\n",
    "        self.pool = nn.MaxPool2d(2, 2)\n",
    "        self.fc1 = nn.Linear(32, 16)\n",
    "        self.fc2 = nn.Linear(16, 10)\n",
    "#         self.fc1.weight.data = th.ones()\n",
    "        self.drop = nn.Dropout(0.1)\n",
    "\n",
    "    def forward(self, x):\n",
    "        x = self.drop(self.pool(F.relu(self.conv1(x))))\n",
    "        x = self.drop(self.pool(F.relu(self.conv2(x))))\n",
    "        x = self.pool(F.relu(self.conv3(x)))\n",
    "#         print(x.shape)\n",
    "        x = x.view(-1, 32)\n",
    "        x = self.fc1(x)\n",
    "        x = F.relu(self.fc2(x))\n",
    "\n",
    "        return x\n",
    "\n",
    "example = next(iter(trainloader))\n",
    "label = example[0][0]\n",
    "example = example[0][1:].float()\n",
    "example = example.reshape(1, 1, 32, 32)\n",
    "    \n",
    "model = Net()\n",
    "\n",
    "print(label, model(example))\n"
   ]
  },
  {
   "cell_type": "code",
   "execution_count": 6,
   "metadata": {
    "ExecuteTime": {
     "end_time": "2019-07-20T03:49:37.801067Z",
     "start_time": "2019-07-20T03:49:37.736105Z"
    }
   },
   "outputs": [],
   "source": [
    "optimizer = optim.SGD(model.parameters(), weight_decay=1e-6, lr=0.01, momentum=0.9, nesterov=True)\n",
    "# optimizer = optim.Adam(model.parameters(), lr = 0.001)\n",
    "criterion = nn.CrossEntropyLoss()\n"
   ]
  },
  {
   "cell_type": "code",
   "execution_count": 7,
   "metadata": {
    "ExecuteTime": {
     "end_time": "2019-07-20T03:51:51.108984Z",
     "start_time": "2019-07-20T03:49:37.804065Z"
    },
    "scrolled": false
   },
   "outputs": [
    {
     "name": "stdout",
     "output_type": "stream",
     "text": [
      "Epoch: 1/30..  Training Loss: 2.277..  Test Loss: 2.303..  Test Accuracy: 9.398%\n",
      "Epoch: 2/30..  Training Loss: 2.303..  Test Loss: 2.303..  Test Accuracy: 11.090%\n",
      "Epoch: 3/30..  Training Loss: 2.303..  Test Loss: 2.303..  Test Accuracy: 9.586%\n",
      "Epoch: 4/30..  Training Loss: 2.303..  Test Loss: 2.303..  Test Accuracy: 10.150%\n",
      "Epoch: 5/30..  Training Loss: 2.303..  Test Loss: 2.303..  Test Accuracy: 8.271%\n",
      "Epoch: 6/30..  Training Loss: 2.303..  Test Loss: 2.303..  Test Accuracy: 13.158%\n",
      "Epoch: 7/30..  Training Loss: 2.303..  Test Loss: 2.303..  Test Accuracy: 9.211%\n",
      "Epoch: 8/30..  Training Loss: 2.303..  Test Loss: 2.303..  Test Accuracy: 11.278%\n",
      "Epoch: 9/30..  Training Loss: 2.303..  Test Loss: 2.303..  Test Accuracy: 10.338%\n",
      "Epoch: 10/30..  Training Loss: 2.303..  Test Loss: 2.303..  Test Accuracy: 8.271%\n",
      "Epoch: 11/30..  Training Loss: 2.303..  Test Loss: 2.303..  Test Accuracy: 9.586%\n",
      "Epoch: 12/30..  Training Loss: 2.303..  Test Loss: 2.303..  Test Accuracy: 7.331%\n",
      "Epoch: 13/30..  Training Loss: 2.303..  Test Loss: 2.303..  Test Accuracy: 10.150%\n",
      "Epoch: 14/30..  Training Loss: 2.303..  Test Loss: 2.303..  Test Accuracy: 11.090%\n",
      "Epoch: 15/30..  Training Loss: 2.303..  Test Loss: 2.303..  Test Accuracy: 9.586%\n",
      "Epoch: 16/30..  Training Loss: 2.303..  Test Loss: 2.303..  Test Accuracy: 6.955%\n",
      "Epoch: 17/30..  Training Loss: 2.303..  Test Loss: 2.303..  Test Accuracy: 8.083%\n",
      "Epoch: 18/30..  Training Loss: 2.303..  Test Loss: 2.303..  Test Accuracy: 8.647%\n",
      "Epoch: 19/30..  Training Loss: 2.303..  Test Loss: 2.303..  Test Accuracy: 9.586%\n",
      "Epoch: 20/30..  Training Loss: 2.303..  Test Loss: 2.303..  Test Accuracy: 10.526%\n",
      "Epoch: 21/30..  Training Loss: 2.303..  Test Loss: 2.303..  Test Accuracy: 11.654%\n",
      "Epoch: 22/30..  Training Loss: 2.303..  Test Loss: 2.303..  Test Accuracy: 10.526%\n",
      "Epoch: 23/30..  Training Loss: 2.303..  Test Loss: 2.303..  Test Accuracy: 10.150%\n",
      "Epoch: 24/30..  Training Loss: 2.303..  Test Loss: 2.303..  Test Accuracy: 9.211%\n",
      "Epoch: 25/30..  Training Loss: 2.303..  Test Loss: 2.303..  Test Accuracy: 11.090%\n",
      "Epoch: 26/30..  Training Loss: 2.303..  Test Loss: 2.303..  Test Accuracy: 11.090%\n",
      "Epoch: 27/30..  Training Loss: 2.303..  Test Loss: 2.303..  Test Accuracy: 10.150%\n",
      "Epoch: 28/30..  Training Loss: 2.303..  Test Loss: 2.303..  Test Accuracy: 8.271%\n",
      "Epoch: 29/30..  Training Loss: 2.303..  Test Loss: 2.303..  Test Accuracy: 10.150%\n",
      "Epoch: 30/30..  Training Loss: 2.303..  Test Loss: 2.303..  Test Accuracy: 11.090%\n"
     ]
    }
   ],
   "source": [
    "epochs = 30\n",
    "train_losses, test_losses = [], []\n",
    "train_accuracy = []\n",
    "for epoch in range(epochs):\n",
    "    running_loss = 0\n",
    "    for example in trainloader:\n",
    "        label = th.Tensor([example[0][0].float()]).long()\n",
    "        image = th.reshape(example[0][1:].float(), (1, 1, 32, 32))\n",
    "        \n",
    "        logps = model(image).reshape(1, 10)  \n",
    "        optimizer.zero_grad()\n",
    "        loss = criterion(logps, label)\n",
    "        loss.backward()\n",
    "        optimizer.step()\n",
    "\n",
    "        running_loss += loss.item()\n",
    "        \n",
    "    else:\n",
    "        model.eval()\n",
    "        test_loss = 0\n",
    "        accuracy = 0\n",
    "\n",
    "        with th.no_grad():\n",
    "            for example in testloader:\n",
    "                label = th.Tensor([example[0][0].float()]).long()\n",
    "                image = th.reshape(example[0][1:].float(), (1, 1, 32, 32))\n",
    "\n",
    "                logps = model(image).reshape(1, 10) \n",
    "                test_loss += criterion(logps, label.long())\n",
    "    #                 print(label, logps)\n",
    "                ps = th.exp(logps)\n",
    "                top_p, top_class = ps.topk(1, dim=1)\n",
    "                equals = top_class == label.view(*top_class.shape)\n",
    "                accuracy += th.mean(equals.type(th.FloatTensor))\n",
    "\n",
    "            train_losses.append(running_loss/len(trainloader))\n",
    "            test_losses.append(test_loss/len(testloader))\n",
    "            train_accuracy.append(accuracy / len(testloader))\n",
    "\n",
    "            print(\"Epoch: {}/{}.. \".format(epoch + 1, epochs),\n",
    "                  \"Training Loss: {:.3f}.. \".format(running_loss/len(trainloader)),\n",
    "                  \"Test Loss: {:.3f}.. \".format(test_loss/len(testloader)),\n",
    "                  \"Test Accuracy: {:.3f}%\".format(accuracy/len(testloader) * 100))\n"
   ]
  },
  {
   "cell_type": "code",
   "execution_count": 8,
   "metadata": {
    "ExecuteTime": {
     "end_time": "2019-07-20T03:51:51.510466Z",
     "start_time": "2019-07-20T03:51:51.112981Z"
    }
   },
   "outputs": [
    {
     "data": {
      "image/png": "[encoded data removed]",
      "text/plain": [
       "<Figure size 432x288 with 1 Axes>"
      ]
     },
     "metadata": {
      "needs_background": "light"
     },
     "output_type": "display_data"
    },
    {
     "data": {
      "image/png": "[encoded data removed]",
      "text/plain": [
       "<Figure size 432x288 with 1 Axes>"
      ]
     },
     "metadata": {
      "needs_background": "light"
     },
     "output_type": "display_data"
    }
   ],
   "source": [
    "plt.plot(test_losses)\n",
    "plt.plot(train_losses)\n",
    "\n",
    "plt.ylabel('loss')\n",
    "plt.xlabel('epoch')\n",
    "plt.legend(['train', 'test'], loc='upper left')\n",
    "plt.show()\n",
    "\n",
    "plt.plot(train_accuracy)\n",
    "plt.xlabel('epoch')\n",
    "plt.ylabel('accuracy')\n",
    "plt.show()"
   ]
  },
  {
   "cell_type": "code",
   "execution_count": 9,
   "metadata": {
    "ExecuteTime": {
     "end_time": "2019-07-20T03:51:51.754401Z",
     "start_time": "2019-07-20T03:51:51.514469Z"
    }
   },
   "outputs": [
    {
     "data": {
      "image/png": "[encoded data removed]",
      "text/plain": [
       "<Figure size 432x288 with 1 Axes>"
      ]
     },
     "metadata": {
      "needs_background": "light"
     },
     "output_type": "display_data"
    }
   ],
   "source": [
    "example = next(iter(testloader))\n",
    "\n",
    "label = example[0][0]\n",
    "image = th.reshape(example[0][1:].float(), (1, 1, 32, 32))\n",
    "# image = image.view(image.shape[0], -1)\n",
    "prediction = model(image)\n",
    "\n",
    "pred_label = th.argmax(prediction)\n",
    "\n",
    "title = f\"Actual: {int(label)} Prediction: {pred_label}\"\n",
    "\n",
    "plt.imshow(image.reshape(32, 32))\n",
    "plt.title(title)\n",
    "plt.show()"
   ]
  },
  {
   "cell_type": "code",
   "execution_count": 10,
   "metadata": {
    "ExecuteTime": {
     "end_time": "2019-07-20T03:51:51.786219Z",
     "start_time": "2019-07-20T03:51:51.754401Z"
    }
   },
   "outputs": [
    {
     "name": "stderr",
     "output_type": "stream",
     "text": [
      "C:\\ProgramData\\Anaconda3\\lib\\site-packages\\torch\\serialization.py:256: UserWarning: Couldn't retrieve source code for container of type Net. It won't be checked for correctness upon loading.\n",
      "  \"type \" + obj.__name__ + \". It won't be checked \"\n"
     ]
    }
   ],
   "source": [
    "th.save(model, 'dcr.pth')"
   ]
  },
  {
   "cell_type": "code",
   "execution_count": 11,
   "metadata": {
    "ExecuteTime": {
     "end_time": "2019-07-20T03:51:51.850385Z",
     "start_time": "2019-07-20T03:51:51.786219Z"
    }
   },
   "outputs": [],
   "source": [
    "model = th.load('dcr.pth')\n"
   ]
  },
  {
   "cell_type": "code",
   "execution_count": 12,
   "metadata": {
    "ExecuteTime": {
     "end_time": "2019-07-20T03:51:52.155608Z",
     "start_time": "2019-07-20T03:51:51.850385Z"
    }
   },
   "outputs": [
    {
     "name": "stdout",
     "output_type": "stream",
     "text": [
      "tensor([9])\n"
     ]
    },
    {
     "data": {
      "text/plain": [
       "<matplotlib.image.AxesImage at 0x1a0fdb15710>"
      ]
     },
     "execution_count": 12,
     "metadata": {},
     "output_type": "execute_result"
    },
    {
     "data": {
      "image/png": "[encoded data removed]",
      "text/plain": [
       "<Figure size 432x288 with 1 Axes>"
      ]
     },
     "metadata": {
      "needs_background": "light"
     },
     "output_type": "display_data"
    }
   ],
   "source": [
    "print(th.argmax(model(image), 1))\n",
    "plt.imshow(image.reshape(32, 32))"
   ]
  },
  {
   "cell_type": "code",
   "execution_count": null,
   "metadata": {},
   "outputs": [],
   "source": []
  },
  {
   "cell_type": "code",
   "execution_count": null,
   "metadata": {},
   "outputs": [],
   "source": []
  },
  {
   "cell_type": "code",
   "execution_count": null,
   "metadata": {},
   "outputs": [],
   "source": []
  }
 ],
 "metadata": {
  "kernelspec": {
   "display_name": "Python 3",
   "language": "python",
   "name": "python3"
  },
  "language_info": {
   "codemirror_mode": {
    "name": "ipython",
    "version": 3
   },
   "file_extension": ".py",
   "mimetype": "text/x-python",
   "name": "python",
   "nbconvert_exporter": "python",
   "pygments_lexer": "ipython3",
   "version": "3.6.8"
  },
  "latex_envs": {
   "LaTeX_envs_menu_present": true,
   "autoclose": false,
   "autocomplete": true,
   "bibliofile": "biblio.bib",
   "cite_by": "apalike",
   "current_citInitial": 1,
   "eqLabelWithNumbers": true,
   "eqNumInitial": 1,
   "hotkeys": {
    "equation": "Ctrl-E",
    "itemize": "Ctrl-I"
   },
   "labels_anchors": false,
   "latex_user_defs": false,
   "report_style_numbering": false,
   "user_envs_cfg": false
  },
  "varInspector": {
   "cols": {
    "lenName": 16,
    "lenType": 16,
    "lenVar": 40
   },
   "kernels_config": {
    "python": {
     "delete_cmd_postfix": "",
     "delete_cmd_prefix": "del ",
     "library": "var_list.py",
     "varRefreshCmd": "print(var_dic_list())"
    },
    "r": {
     "delete_cmd_postfix": ") ",
     "delete_cmd_prefix": "rm(",
     "library": "var_list.r",
     "varRefreshCmd": "cat(var_dic_list()) "
    }
   },
   "types_to_exclude": [
    "module",
    "function",
    "builtin_function_or_method",
    "instance",
    "_Feature"
   ],
   "window_display": false
  }
 },
 "nbformat": 4,
 "nbformat_minor": 2
}
