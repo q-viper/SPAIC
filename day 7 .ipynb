{
 "cells": [
  {
   "cell_type": "markdown",
   "metadata": {},
   "source": [
    "## Day 7"
   ]
  },
  {
   "cell_type": "code",
   "execution_count": 30,
   "metadata": {
    "ExecuteTime": {
     "end_time": "2019-07-04T16:57:45.946076Z",
     "start_time": "2019-07-04T16:57:45.940078Z"
    },
    "cell_style": "center",
    "collapsed": true,
    "lang": "en"
   },
   "outputs": [],
   "source": [
    "import numpy as np\n",
    "import torch\n"
   ]
  },
  {
   "cell_type": "code",
   "execution_count": 31,
   "metadata": {
    "ExecuteTime": {
     "end_time": "2019-07-04T16:57:46.072002Z",
     "start_time": "2019-07-04T16:57:45.949074Z"
    },
    "collapsed": true
   },
   "outputs": [],
   "source": [
    "def parallel_db(db, remove_entry):\n",
    "    return torch.cat((db[:remove_entry], db[remove_entry + 1:]))\n",
    "    "
   ]
  },
  {
   "cell_type": "code",
   "execution_count": 32,
   "metadata": {
    "ExecuteTime": {
     "end_time": "2019-07-04T16:57:46.220217Z",
     "start_time": "2019-07-04T16:57:46.075002Z"
    },
    "collapsed": true
   },
   "outputs": [],
   "source": [
    "# parallel_db(db, remove_entry).shape"
   ]
  },
  {
   "cell_type": "code",
   "execution_count": 33,
   "metadata": {
    "ExecuteTime": {
     "end_time": "2019-07-04T16:57:46.328534Z",
     "start_time": "2019-07-04T16:57:46.224214Z"
    },
    "collapsed": true
   },
   "outputs": [],
   "source": [
    "def get_parallel_dbs(db):\n",
    "    \n",
    "    parallel_dbs = []\n",
    "\n",
    "    for i in range(len(db)):\n",
    "        parallel_dbs.append((parallel_db(db, i)))\n",
    "        \n",
    "    return parallel_dbs"
   ]
  },
  {
   "cell_type": "code",
   "execution_count": 34,
   "metadata": {
    "ExecuteTime": {
     "end_time": "2019-07-04T16:57:46.425660Z",
     "start_time": "2019-07-04T16:57:46.334498Z"
    },
    "collapsed": true
   },
   "outputs": [],
   "source": [
    " def create_db_and_parallel(num_entries):\n",
    "#         num_entries = 5000\n",
    "        db = torch.randn(num_entries) > 0.5\n",
    "        \n",
    "        pdbs = get_parallel_dbs(db)\n",
    "        \n",
    "        return db, pdbs\n",
    "    "
   ]
  },
  {
   "cell_type": "code",
   "execution_count": 35,
   "metadata": {
    "ExecuteTime": {
     "end_time": "2019-07-04T16:57:46.513262Z",
     "start_time": "2019-07-04T16:57:46.428659Z"
    },
    "collapsed": true
   },
   "outputs": [],
   "source": [
    "def query(db):\n",
    "#     return db.sum()\n",
    "    return db.float().mean() #Gives emperical sensitivity"
   ]
  },
  {
   "cell_type": "markdown",
   "metadata": {},
   "source": [
    "> Find difference between db.sum() and sum(db)"
   ]
  },
  {
   "cell_type": "code",
   "execution_count": 36,
   "metadata": {
    "ExecuteTime": {
     "end_time": "2019-07-04T16:57:46.602596Z",
     "start_time": "2019-07-04T16:57:46.516253Z"
    },
    "collapsed": true
   },
   "outputs": [],
   "source": [
    "def sensitivity_fn(query, num_entries = 500):\n",
    "    \n",
    "    db, pdbs = create_db_and_parallel(num_entries)\n",
    "    \n",
    "    full_db_result = query(db)\n",
    "    print(full_db_result)\n",
    "    \n",
    "    sensitivity = 0\n",
    "\n",
    "    for pdb in pdbs:\n",
    "        pdb_result = query(pdb)\n",
    "        db_distance = torch.abs(pdb_result - full_db_result)\n",
    "\n",
    "        if (db_distance > sensitivity):\n",
    "            sensitivity = db_distance\n",
    "            \n",
    "    return sensitivity"
   ]
  },
  {
   "cell_type": "code",
   "execution_count": 37,
   "metadata": {
    "ExecuteTime": {
     "end_time": "2019-07-04T16:57:46.777341Z",
     "start_time": "2019-07-04T16:57:46.605599Z"
    }
   },
   "outputs": [
    {
     "name": "stdout",
     "output_type": "stream",
     "text": [
      "tensor(0.2860)\n"
     ]
    },
    {
     "data": {
      "text/plain": [
       "tensor(0.0014)"
      ]
     },
     "execution_count": 37,
     "metadata": {},
     "output_type": "execute_result"
    }
   ],
   "source": [
    "sensitivity_fn(query)"
   ]
  },
  {
   "cell_type": "code",
   "execution_count": 38,
   "metadata": {
    "ExecuteTime": {
     "end_time": "2019-07-04T16:57:46.857907Z",
     "start_time": "2019-07-04T16:57:46.781337Z"
    },
    "collapsed": true
   },
   "outputs": [],
   "source": [
    "# while removing/ calculating parallel db, each entry corresponds to the unique person... "
   ]
  },
  {
   "cell_type": "code",
   "execution_count": 39,
   "metadata": {
    "ExecuteTime": {
     "end_time": "2019-07-04T16:57:47.009536Z",
     "start_time": "2019-07-04T16:57:46.860906Z"
    },
    "collapsed": true
   },
   "outputs": [],
   "source": [
    "def query(db, threshold=5):\n",
    "    return (db.sum() > threshold).float() #L1 sensitivity"
   ]
  },
  {
   "cell_type": "code",
   "execution_count": 40,
   "metadata": {
    "ExecuteTime": {
     "end_time": "2019-07-04T16:57:47.201670Z",
     "start_time": "2019-07-04T16:57:47.014534Z"
    }
   },
   "outputs": [
    {
     "name": "stdout",
     "output_type": "stream",
     "text": [
      "tensor(0.) tensor(1)\n"
     ]
    }
   ],
   "source": [
    "db, queries = create_db_and_parallel(10)\n",
    "print(query(db), db.sum())"
   ]
  },
  {
   "cell_type": "code",
   "execution_count": 41,
   "metadata": {
    "ExecuteTime": {
     "end_time": "2019-07-04T16:57:47.638507Z",
     "start_time": "2019-07-04T16:57:47.206665Z"
    }
   },
   "outputs": [
    {
     "name": "stdout",
     "output_type": "stream",
     "text": [
      "tensor(1.)\n",
      "0\n",
      "tensor(1.)\n",
      "0\n",
      "tensor(1.)\n",
      "0\n",
      "tensor(1.)\n",
      "0\n",
      "tensor(1.)\n",
      "0\n",
      "tensor(1.)\n",
      "0\n",
      "tensor(1.)\n",
      "0\n",
      "tensor(1.)\n",
      "0\n",
      "tensor(1.)\n",
      "0\n",
      "tensor(1.)\n",
      "0\n"
     ]
    }
   ],
   "source": [
    "for i in range(10):\n",
    "    sens_f = sensitivity_fn(query, num_entries = 100)\n",
    "    print(sens_f)"
   ]
  },
  {
   "cell_type": "markdown",
   "metadata": {},
   "source": [
    "# perform defferencing attack on row 10"
   ]
  },
  {
   "cell_type": "code",
   "execution_count": 42,
   "metadata": {
    "ExecuteTime": {
     "end_time": "2019-07-04T16:57:47.668489Z",
     "start_time": "2019-07-04T16:57:47.642527Z"
    }
   },
   "outputs": [
    {
     "name": "stdout",
     "output_type": "stream",
     "text": [
      "tensor([0, 0, 1, 1, 0, 0, 1, 0, 1, 1, 0, 0, 0, 0, 1, 0, 1, 0, 0, 1, 0, 0, 0, 0,\n",
      "        0, 0, 0, 0, 1, 0, 0, 1, 0, 1, 0, 0, 0, 0, 0, 0, 1, 0, 0, 1, 0, 1, 1, 0,\n",
      "        0, 0, 1, 1, 0, 0, 0, 0, 1, 0, 0, 1, 0, 0, 1, 0, 0, 0, 0, 0, 1, 0, 1, 0,\n",
      "        0, 1, 1, 0, 0, 0, 0, 0, 0, 1, 0, 1, 0, 1, 1, 1, 1, 0, 1, 1, 1, 0, 1, 0,\n",
      "        0, 0, 0, 0], dtype=torch.uint8) tensor(0, dtype=torch.uint8)\n"
     ]
    }
   ],
   "source": [
    "db, _ = create_db_and_parallel(100)\n",
    "print(db, db[10])"
   ]
  },
  {
   "cell_type": "code",
   "execution_count": 43,
   "metadata": {
    "ExecuteTime": {
     "end_time": "2019-07-04T16:57:47.764571Z",
     "start_time": "2019-07-04T16:57:47.673493Z"
    },
    "collapsed": true
   },
   "outputs": [],
   "source": [
    "pdb = parallel_db(db, 10)"
   ]
  },
  {
   "cell_type": "code",
   "execution_count": 44,
   "metadata": {
    "ExecuteTime": {
     "end_time": "2019-07-04T16:57:47.872916Z",
     "start_time": "2019-07-04T16:57:47.768549Z"
    }
   },
   "outputs": [
    {
     "data": {
      "text/plain": [
       "tensor(0, dtype=torch.uint8)"
      ]
     },
     "execution_count": 44,
     "metadata": {},
     "output_type": "execute_result"
    }
   ],
   "source": [
    "db[10]"
   ]
  },
  {
   "cell_type": "code",
   "execution_count": 45,
   "metadata": {
    "ExecuteTime": {
     "end_time": "2019-07-04T16:57:47.976921Z",
     "start_time": "2019-07-04T16:57:47.876916Z"
    }
   },
   "outputs": [
    {
     "data": {
      "text/plain": [
       "tensor(0)"
      ]
     },
     "execution_count": 45,
     "metadata": {},
     "output_type": "execute_result"
    }
   ],
   "source": [
    "#differencing attack using sum\n",
    "db.sum() - pdb.sum()"
   ]
  },
  {
   "cell_type": "code",
   "execution_count": 46,
   "metadata": {
    "ExecuteTime": {
     "end_time": "2019-07-04T16:57:48.099466Z",
     "start_time": "2019-07-04T16:57:47.980899Z"
    }
   },
   "outputs": [
    {
     "data": {
      "text/plain": [
       "tensor(-0.0034)"
      ]
     },
     "execution_count": 46,
     "metadata": {},
     "output_type": "execute_result"
    }
   ],
   "source": [
    "#differencing attack using mean\n",
    "\n",
    "(sum(db).float() / len(db)) - (sum(pdb).float() / len(pdb))"
   ]
  },
  {
   "cell_type": "markdown",
   "metadata": {
    "collapsed": true
   },
   "source": [
    "# local differential privacy adds noise to input of query function and global adds noise to output of query function"
   ]
  },
  {
   "cell_type": "code",
   "execution_count": 47,
   "metadata": {
    "ExecuteTime": {
     "end_time": "2019-07-04T16:57:48.207532Z",
     "start_time": "2019-07-04T16:57:48.105439Z"
    },
    "collapsed": true
   },
   "outputs": [],
   "source": [
    "def query(db, noise = 2):\n",
    "\n",
    "    true_result = torch.mean(db.float())\n",
    "    \n",
    "    first_coin_flip = (torch.rand(len(db)) > 0.5).float()\n",
    "    second_coin_flip = (torch.rand(len(db)) > 0.5).float()\n",
    "\n",
    "    augmented_database = db.float() * first_coin_flip + (1 - first_coin_flip) * second_coin_flip\n",
    "\n",
    "    db_result = torch.mean(augmented_database.float()) * noise - 0.5\n",
    "    \n",
    "    return db_result, true_result"
   ]
  },
  {
   "cell_type": "code",
   "execution_count": 48,
   "metadata": {
    "ExecuteTime": {
     "end_time": "2019-07-04T16:57:48.317360Z",
     "start_time": "2019-07-04T16:57:48.210526Z"
    }
   },
   "outputs": [
    {
     "name": "stdout",
     "output_type": "stream",
     "text": [
      "With Noise:tensor(0.5000)\n",
      "Without Noise:tensor(0.2000)\n"
     ]
    }
   ],
   "source": [
    "db, pdbs = create_db_and_parallel(10)\n",
    "private_result, true_result = query(db, 2.5)\n",
    "print(\"With Noise:\" + str(private_result))\n",
    "print(\"Without Noise:\" + str(true_result))"
   ]
  },
  {
   "cell_type": "code",
   "execution_count": 49,
   "metadata": {
    "ExecuteTime": {
     "end_time": "2019-07-04T16:57:48.417653Z",
     "start_time": "2019-07-04T16:57:48.321355Z"
    }
   },
   "outputs": [
    {
     "name": "stdout",
     "output_type": "stream",
     "text": [
      "With Noise:tensor(0.1600)\n",
      "Without Noise:tensor(0.2800)\n"
     ]
    }
   ],
   "source": [
    "db, pdbs = create_db_and_parallel(100)\n",
    "private_result, true_result = query(db)\n",
    "print(\"With Noise:\" + str(private_result))\n",
    "print(\"Without Noise:\" + str(true_result))"
   ]
  },
  {
   "cell_type": "code",
   "execution_count": 50,
   "metadata": {
    "ExecuteTime": {
     "end_time": "2019-07-04T16:57:48.610559Z",
     "start_time": "2019-07-04T16:57:48.421652Z"
    }
   },
   "outputs": [
    {
     "name": "stdout",
     "output_type": "stream",
     "text": [
      "With Noise:tensor(0.3096)\n",
      "Without Noise:tensor(0.3178)\n"
     ]
    }
   ],
   "source": [
    "db, pdbs = create_db_and_parallel(5000)\n",
    "private_result, true_result = query(db)\n",
    "print(\"With Noise:\" + str(private_result))\n",
    "print(\"Without Noise:\" + str(true_result))"
   ]
  },
  {
   "cell_type": "code",
   "execution_count": 51,
   "metadata": {
    "ExecuteTime": {
     "end_time": "2019-07-04T16:57:49.417123Z",
     "start_time": "2019-07-04T16:57:48.614541Z"
    }
   },
   "outputs": [
    {
     "name": "stdout",
     "output_type": "stream",
     "text": [
      "With Noise:tensor(0.2985)\n",
      "Without Noise:tensor(0.3076)\n"
     ]
    }
   ],
   "source": [
    "db, pdbs = create_db_and_parallel(20000)\n",
    "private_result, true_result = query(db)\n",
    "print(\"With Noise:\" + str(private_result))\n",
    "print(\"Without Noise:\" + str(true_result))"
   ]
  },
  {
   "cell_type": "code",
   "execution_count": 52,
   "metadata": {
    "ExecuteTime": {
     "end_time": "2019-07-04T16:57:49.448104Z",
     "start_time": "2019-07-04T16:57:49.422117Z"
    },
    "collapsed": true
   },
   "outputs": [],
   "source": [
    "#varying the amount of noise\n",
    "def query(db, noise = 0.2):\n",
    "\n",
    "    true_result = torch.mean(db.float())\n",
    "    \n",
    "    first_coin_flip = (torch.rand(len(db)) > noise).float()\n",
    "    second_coin_flip = (torch.rand(len(db)) > 0.5).float()\n",
    "\n",
    "    augmented_database = db.float() * first_coin_flip + (1 - first_coin_flip) * second_coin_flip\n",
    "\n",
    "    db_result = torch.mean(augmented_database.float()) * noise - 0.5\n",
    "    \n",
    "    return db_result, true_result"
   ]
  },
  {
   "cell_type": "code",
   "execution_count": 53,
   "metadata": {
    "ExecuteTime": {
     "end_time": "2019-07-04T16:57:49.579384Z",
     "start_time": "2019-07-04T16:57:49.452101Z"
    },
    "collapsed": true
   },
   "outputs": [],
   "source": [
    "def query(db, noise=0.2):\n",
    "    \n",
    "    true_result = torch.mean(db.float())\n",
    "\n",
    "    first_coin_flip = (torch.rand(len(db)) < noise).float()\n",
    "    second_coin_flip = (torch.rand(len(db)) < 0.5).float()\n",
    "\n",
    "    augmented_database = db.float() * first_coin_flip + (1 - first_coin_flip) * second_coin_flip\n",
    "\n",
    "    sk_result = augmented_database.float().mean()\n",
    "\n",
    "    private_result = ((sk_result / noise) - 0.5) * noise / (1 - noise)\n",
    "\n",
    "    return private_result, true_result"
   ]
  },
  {
   "cell_type": "code",
   "execution_count": 54,
   "metadata": {
    "ExecuteTime": {
     "end_time": "2019-07-04T16:57:49.856587Z",
     "start_time": "2019-07-04T16:57:49.583381Z"
    }
   },
   "outputs": [
    {
     "name": "stdout",
     "output_type": "stream",
     "text": [
      "With Noise:tensor(0.4333)\n",
      "Without Noise:tensor(0.2600)\n"
     ]
    }
   ],
   "source": [
    "db, pdbs = create_db_and_parallel(100)\n",
    "private_result, true_result = query(db, .1)\n",
    "print(\"With Noise:\" + str(private_result))\n",
    "print(\"Without Noise:\" + str(true_result))"
   ]
  },
  {
   "cell_type": "code",
   "execution_count": 55,
   "metadata": {
    "ExecuteTime": {
     "end_time": "2019-07-04T16:57:49.885567Z",
     "start_time": "2019-07-04T16:57:49.861585Z"
    }
   },
   "outputs": [
    {
     "name": "stdout",
     "output_type": "stream",
     "text": [
      "With Noise:tensor(0.4333)\n",
      "Without Noise:tensor(0.3500)\n"
     ]
    }
   ],
   "source": [
    "db, pdbs = create_db_and_parallel(100)\n",
    "private_result, true_result = query(db, .4)\n",
    "print(\"With Noise:\" + str(private_result))\n",
    "print(\"Without Noise:\" + str(true_result))"
   ]
  },
  {
   "cell_type": "code",
   "execution_count": 56,
   "metadata": {
    "ExecuteTime": {
     "end_time": "2019-07-04T16:57:50.093425Z",
     "start_time": "2019-07-04T16:57:49.889569Z"
    }
   },
   "outputs": [
    {
     "name": "stdout",
     "output_type": "stream",
     "text": [
      "With Noise:tensor(-0.2000)\n",
      "Without Noise:tensor(0.3120)\n",
      "With Noise:tensor(-0.3950)\n",
      "Without Noise:tensor(0.2670)\n",
      "With Noise:tensor(-0.2400)\n",
      "Without Noise:tensor(0.3040)\n"
     ]
    }
   ],
   "source": [
    "for i in range(3):\n",
    "    db, pdbs = create_db_and_parallel(1000)\n",
    "    private_result, true_result = query(db, 0.8)\n",
    "    print(\"With Noise:\" + str(private_result))\n",
    "    print(\"Without Noise:\" + str(true_result))"
   ]
  },
  {
   "cell_type": "code",
   "execution_count": 57,
   "metadata": {
    "ExecuteTime": {
     "end_time": "2019-07-04T16:57:50.105419Z",
     "start_time": "2019-07-04T16:57:50.097420Z"
    },
    "collapsed": true
   },
   "outputs": [],
   "source": [
    "#larger the data more the chance of privacy preserve"
   ]
  },
  {
   "cell_type": "code",
   "execution_count": 66,
   "metadata": {
    "ExecuteTime": {
     "end_time": "2019-07-04T17:02:47.283619Z",
     "start_time": "2019-07-04T17:02:47.278606Z"
    }
   },
   "outputs": [],
   "source": [
    "epsilon = 0.0001"
   ]
  },
  {
   "cell_type": "code",
   "execution_count": 71,
   "metadata": {
    "ExecuteTime": {
     "end_time": "2019-07-04T17:04:21.265035Z",
     "start_time": "2019-07-04T17:04:21.239027Z"
    },
    "collapsed": true
   },
   "outputs": [],
   "source": [
    "db, pdbs = create_db_and_parallel(1000)"
   ]
  },
  {
   "cell_type": "code",
   "execution_count": 72,
   "metadata": {
    "ExecuteTime": {
     "end_time": "2019-07-04T17:04:39.046252Z",
     "start_time": "2019-07-04T17:04:39.040252Z"
    },
    "collapsed": true
   },
   "outputs": [],
   "source": [
    "def sum_query(db):\n",
    "    return db.sum()"
   ]
  },
  {
   "cell_type": "code",
   "execution_count": 73,
   "metadata": {
    "ExecuteTime": {
     "end_time": "2019-07-04T17:04:55.208578Z",
     "start_time": "2019-07-04T17:04:55.198584Z"
    },
    "collapsed": true
   },
   "outputs": [],
   "source": [
    "def laplacian_mechanism(db, query, sensitivity):\n",
    "    \n",
    "    beta = sensitivity / epsilon\n",
    "    noise = torch.tensor(np.random.laplace(0, beta, 1))\n",
    "    \n",
    "    return query(db) + noise"
   ]
  },
  {
   "cell_type": "code",
   "execution_count": 74,
   "metadata": {
    "ExecuteTime": {
     "end_time": "2019-07-04T17:05:11.265057Z",
     "start_time": "2019-07-04T17:05:11.253053Z"
    },
    "collapsed": true
   },
   "outputs": [],
   "source": [
    "def mean_query(db):\n",
    "    return torch.mean(db.float())"
   ]
  },
  {
   "cell_type": "code",
   "execution_count": 77,
   "metadata": {
    "ExecuteTime": {
     "end_time": "2019-07-04T17:06:49.692566Z",
     "start_time": "2019-07-04T17:06:49.683571Z"
    }
   },
   "outputs": [
    {
     "data": {
      "text/plain": [
       "tensor([14275.2942], dtype=torch.float64)"
      ]
     },
     "execution_count": 77,
     "metadata": {},
     "output_type": "execute_result"
    }
   ],
   "source": [
    "laplacian_mechanism(db, sum_query, 1)"
   ]
  },
  {
   "cell_type": "code",
   "execution_count": 78,
   "metadata": {
    "ExecuteTime": {
     "end_time": "2019-07-04T17:07:06.451821Z",
     "start_time": "2019-07-04T17:07:06.436830Z"
    }
   },
   "outputs": [
    {
     "data": {
      "text/plain": [
       "tensor([-23.4976], dtype=torch.float64)"
      ]
     },
     "execution_count": 78,
     "metadata": {},
     "output_type": "execute_result"
    }
   ],
   "source": [
    "laplacian_mechanism(db, mean_query, 1/100)"
   ]
  },
  {
   "cell_type": "code",
   "execution_count": 79,
   "metadata": {
    "ExecuteTime": {
     "end_time": "2019-07-04T17:08:05.170625Z",
     "start_time": "2019-07-04T17:08:05.148481Z"
    }
   },
   "outputs": [
    {
     "ename": "ModuleNotFoundError",
     "evalue": "No module named 'syft'",
     "output_type": "error",
     "traceback": [
      "\u001b[1;31m---------------------------------------------------------------------------\u001b[0m",
      "\u001b[1;31mModuleNotFoundError\u001b[0m                       Traceback (most recent call last)",
      "\u001b[1;32m<ipython-input-79-f75685ed5759>\u001b[0m in \u001b[0;36m<module>\u001b[1;34m()\u001b[0m\n\u001b[1;32m----> 1\u001b[1;33m \u001b[1;32mimport\u001b[0m \u001b[0msyft\u001b[0m\u001b[1;33m\u001b[0m\u001b[0m\n\u001b[0m",
      "\u001b[1;31mModuleNotFoundError\u001b[0m: No module named 'syft'"
     ]
    }
   ],
   "source": []
  },
  {
   "cell_type": "code",
   "execution_count": null,
   "metadata": {
    "collapsed": true
   },
   "outputs": [],
   "source": []
  }
 ],
 "metadata": {
  "kernelspec": {
   "display_name": "Python 3",
   "language": "python",
   "name": "python3"
  },
  "language_info": {
   "codemirror_mode": {
    "name": "ipython",
    "version": 3
   },
   "file_extension": ".py",
   "mimetype": "text/x-python",
   "name": "python",
   "nbconvert_exporter": "python",
   "pygments_lexer": "ipython3",
   "version": "3.6.8"
  },
  "nbTranslate": {
   "displayLangs": [
    "*"
   ],
   "hotkey": "alt-t",
   "langInMainMenu": true,
   "sourceLang": "en",
   "targetLang": "fr",
   "useGoogleTranslate": true
  },
  "toc": {
   "base_numbering": 1,
   "nav_menu": {},
   "number_sections": true,
   "sideBar": true,
   "skip_h1_title": false,
   "title_cell": "Table of Contents",
   "title_sidebar": "Contents",
   "toc_cell": false,
   "toc_position": {},
   "toc_section_display": true,
   "toc_window_display": false
  },
  "varInspector": {
   "cols": {
    "lenName": 16,
    "lenType": 16,
    "lenVar": 40
   },
   "kernels_config": {
    "python": {
     "delete_cmd_postfix": "",
     "delete_cmd_prefix": "del ",
     "library": "var_list.py",
     "varRefreshCmd": "print(var_dic_list())"
    },
    "r": {
     "delete_cmd_postfix": ") ",
     "delete_cmd_prefix": "rm(",
     "library": "var_list.r",
     "varRefreshCmd": "cat(var_dic_list()) "
    }
   },
   "types_to_exclude": [
    "module",
    "function",
    "builtin_function_or_method",
    "instance",
    "_Feature"
   ],
   "window_display": false
  }
 },
 "nbformat": 4,
 "nbformat_minor": 2
}
