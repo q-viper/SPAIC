{
 "cells": [
  {
   "cell_type": "markdown",
   "metadata": {},
   "source": [
    "# Day 20 A Simple FFNN using pytorch"
   ]
  },
  {
   "cell_type": "markdown",
   "metadata": {},
   "source": [
    "> Something is wrong in this notebook with model. FInd out."
   ]
  },
  {
   "cell_type": "code",
   "execution_count": 1,
   "metadata": {
    "ExecuteTime": {
     "end_time": "2019-07-20T03:09:28.193816Z",
     "start_time": "2019-07-20T03:09:26.108057Z"
    }
   },
   "outputs": [],
   "source": [
    "import numpy as np\n",
    "import matplotlib.pyplot as plt\n",
    "import torch as th\n",
    "import torch.nn.functional as F\n",
    "from torch import nn, optim\n",
    "import torchvision\n",
    "\n",
    "plt.style.use('seaborn-whitegrid')"
   ]
  },
  {
   "cell_type": "code",
   "execution_count": 2,
   "metadata": {
    "ExecuteTime": {
     "end_time": "2019-07-20T03:09:28.211807Z",
     "start_time": "2019-07-20T03:09:28.197815Z"
    }
   },
   "outputs": [],
   "source": [
    "def dataset(file):\n",
    "    current_datafile = open(file, 'r')\n",
    "    current_dataset = current_datafile.readlines()\n",
    "    current_datafile.close()\n",
    "\n",
    "    datasets = np.zeros([len(current_dataset), 1025])\n",
    "    for i in range(len(current_dataset)):\n",
    "        example = current_dataset[i].split(',')\n",
    "        \n",
    "        labels = np.asarray(example[0], dtype = np.float32)\n",
    "        images = np.asarray(example[1:], dtype=np.float32) / 255 * 0.01 + 0.99\n",
    "        \n",
    "        example = np.hstack([labels, images])\n",
    "        datasets[i] = example\n",
    "    return datasets"
   ]
  },
  {
   "cell_type": "code",
   "execution_count": 3,
   "metadata": {
    "ExecuteTime": {
     "end_time": "2019-07-20T03:09:57.019514Z",
     "start_time": "2019-07-20T03:09:28.216802Z"
    }
   },
   "outputs": [],
   "source": [
    "trainloader = th.utils.data.DataLoader(dataset('train.csv'), shuffle = True, batch_size = 32)\n",
    "testloader = th.utils.data.DataLoader(dataset('train.csv'), shuffle = True, batch_size = 32)"
   ]
  },
  {
   "cell_type": "code",
   "execution_count": 4,
   "metadata": {
    "ExecuteTime": {
     "end_time": "2019-07-20T03:09:57.059492Z",
     "start_time": "2019-07-20T03:09:57.025511Z"
    }
   },
   "outputs": [],
   "source": [
    "model = nn.Sequential(nn.Linear(1024, 512),\n",
    "                      nn.Sigmoid(),\n",
    "                      nn.Dropout(),\n",
    "                      nn.Linear(512, 256),\n",
    "                      nn.Sigmoid(),\n",
    "                      nn.Dropout(),\n",
    "                      nn.Linear(256, 128),\n",
    "                      nn.Sigmoid(),\n",
    "                      nn.Dropout(),\n",
    "                     nn.Linear(128, 10),\n",
    "                     nn.Dropout(),\n",
    "                     nn.Softmax(-1))\n"
   ]
  },
  {
   "cell_type": "code",
   "execution_count": 5,
   "metadata": {
    "ExecuteTime": {
     "end_time": "2019-07-20T03:09:57.182427Z",
     "start_time": "2019-07-20T03:09:57.063491Z"
    }
   },
   "outputs": [],
   "source": [
    "optimizer = optim.SGD(model.parameters(), lr=0.01)\n",
    "criterion = nn.CrossEntropyLoss()"
   ]
  },
  {
   "cell_type": "code",
   "execution_count": 6,
   "metadata": {
    "ExecuteTime": {
     "end_time": "2019-07-20T03:09:57.302352Z",
     "start_time": "2019-07-20T03:09:57.185419Z"
    }
   },
   "outputs": [
    {
     "name": "stdout",
     "output_type": "stream",
     "text": [
      "tensor([0.0750, 0.1712, 0.0936, 0.0872, 0.0872, 0.0872, 0.0488, 0.0872, 0.0872,\n",
      "        0.1754], grad_fn=<SoftmaxBackward>)\n"
     ]
    }
   ],
   "source": [
    "#check the model if its fine working\n",
    "\n",
    "example = next(iter(trainloader))\n",
    "out = model(example[0][1:].float())\n",
    "print(out)"
   ]
  },
  {
   "cell_type": "code",
   "execution_count": 7,
   "metadata": {
    "ExecuteTime": {
     "end_time": "2019-07-20T03:13:30.183867Z",
     "start_time": "2019-07-20T03:09:57.307350Z"
    }
   },
   "outputs": [
    {
     "name": "stdout",
     "output_type": "stream",
     "text": [
      "Epoch: 1/30..  Training Loss: 2.302..  Test Loss: 2.308..  Test Accuracy: 0.092\n",
      "Epoch: 2/30..  Training Loss: 2.305..  Test Loss: 2.304..  Test Accuracy: 0.102\n",
      "Epoch: 3/30..  Training Loss: 2.302..  Test Loss: 2.305..  Test Accuracy: 0.100\n",
      "Epoch: 4/30..  Training Loss: 2.304..  Test Loss: 2.302..  Test Accuracy: 0.118\n",
      "Epoch: 5/30..  Training Loss: 2.306..  Test Loss: 2.304..  Test Accuracy: 0.103\n",
      "Epoch: 6/30..  Training Loss: 2.303..  Test Loss: 2.308..  Test Accuracy: 0.085\n",
      "Epoch: 7/30..  Training Loss: 2.307..  Test Loss: 2.301..  Test Accuracy: 0.111\n",
      "Epoch: 8/30..  Training Loss: 2.307..  Test Loss: 2.303..  Test Accuracy: 0.085\n",
      "Epoch: 9/30..  Training Loss: 2.303..  Test Loss: 2.303..  Test Accuracy: 0.109\n",
      "Epoch: 10/30..  Training Loss: 2.301..  Test Loss: 2.304..  Test Accuracy: 0.120\n",
      "Epoch: 11/30..  Training Loss: 2.307..  Test Loss: 2.302..  Test Accuracy: 0.124\n",
      "Epoch: 12/30..  Training Loss: 2.305..  Test Loss: 2.304..  Test Accuracy: 0.096\n",
      "Epoch: 13/30..  Training Loss: 2.304..  Test Loss: 2.307..  Test Accuracy: 0.103\n",
      "Epoch: 14/30..  Training Loss: 2.305..  Test Loss: 2.305..  Test Accuracy: 0.109\n",
      "Epoch: 15/30..  Training Loss: 2.305..  Test Loss: 2.303..  Test Accuracy: 0.107\n",
      "Epoch: 16/30..  Training Loss: 2.309..  Test Loss: 2.303..  Test Accuracy: 0.113\n",
      "Epoch: 17/30..  Training Loss: 2.303..  Test Loss: 2.300..  Test Accuracy: 0.107\n",
      "Epoch: 18/30..  Training Loss: 2.302..  Test Loss: 2.306..  Test Accuracy: 0.094\n",
      "Epoch: 19/30..  Training Loss: 2.302..  Test Loss: 2.306..  Test Accuracy: 0.098\n",
      "Epoch: 20/30..  Training Loss: 2.302..  Test Loss: 2.305..  Test Accuracy: 0.118\n",
      "Epoch: 21/30..  Training Loss: 2.306..  Test Loss: 2.303..  Test Accuracy: 0.088\n",
      "Epoch: 22/30..  Training Loss: 2.301..  Test Loss: 2.308..  Test Accuracy: 0.096\n",
      "Epoch: 23/30..  Training Loss: 2.306..  Test Loss: 2.306..  Test Accuracy: 0.081\n",
      "Epoch: 24/30..  Training Loss: 2.301..  Test Loss: 2.305..  Test Accuracy: 0.079\n",
      "Epoch: 25/30..  Training Loss: 2.302..  Test Loss: 2.301..  Test Accuracy: 0.086\n",
      "Epoch: 26/30..  Training Loss: 2.303..  Test Loss: 2.312..  Test Accuracy: 0.068\n",
      "Epoch: 27/30..  Training Loss: 2.309..  Test Loss: 2.305..  Test Accuracy: 0.111\n",
      "Epoch: 28/30..  Training Loss: 2.305..  Test Loss: 2.302..  Test Accuracy: 0.118\n",
      "Epoch: 29/30..  Training Loss: 2.305..  Test Loss: 2.302..  Test Accuracy: 0.109\n",
      "Epoch: 30/30..  Training Loss: 2.305..  Test Loss: 2.304..  Test Accuracy: 0.098\n"
     ]
    }
   ],
   "source": [
    "epochs = 30\n",
    "train_losses, test_losses = [], []\n",
    "train_accuracy = []\n",
    "for epoch in range(epochs):\n",
    "    running_loss = 0\n",
    "    for example in trainloader:\n",
    "        label = th.Tensor([example[0][0].float()]).long()\n",
    "        image = th.reshape(example[0][1:], (1, 1024))\n",
    "\n",
    "        image = image.view(image.shape[0], -1).float()\n",
    "    #     print(label)\n",
    "\n",
    "        logps = model(image) \n",
    "#         print(logps.shape)\n",
    "        loss = criterion(logps, label)\n",
    "\n",
    "\n",
    "    #         print(logps, label)\n",
    "\n",
    "\n",
    "#         print(logps)\n",
    "        \n",
    "        optimizer.zero_grad()\n",
    "        loss.backward()\n",
    "        optimizer.step()\n",
    "\n",
    "        running_loss += loss.item()\n",
    "        \n",
    "    else:\n",
    "        test_loss = 0\n",
    "        accuracy = 0\n",
    "        \n",
    "#         with th.no_grad():\n",
    "        for example in testloader:\n",
    "         \n",
    "            label = th.Tensor([example[0][0].float()]).long()\n",
    "            image = th.reshape(example[0][1:], (1, 1024))\n",
    "\n",
    "            image = image.view(image.shape[0], -1).float()\n",
    "        #     print(label)\n",
    "\n",
    "            logps = model(image) \n",
    "            test_loss += criterion(logps, label.long())\n",
    "\n",
    "            ps = th.exp(logps)\n",
    "            top_p, top_class = ps.topk(1, dim=1)\n",
    "            equals = top_class == label.view(*top_class.shape)\n",
    "            accuracy += th.mean(equals.type(th.FloatTensor))\n",
    "\n",
    "        train_losses.append(running_loss/len(trainloader))\n",
    "        test_losses.append(test_loss/len(testloader))\n",
    "        train_accuracy.append(accuracy / len(testloader))\n",
    "\n",
    "        print(\"Epoch: {}/{}.. \".format(epoch + 1, epochs),\n",
    "              \"Training Loss: {:.3f}.. \".format(running_loss/len(trainloader)),\n",
    "              \"Test Loss: {:.3f}.. \".format(test_loss/len(testloader)),\n",
    "              \"Test Accuracy: {:.3f}\".format(accuracy/len(testloader)))\n"
   ]
  },
  {
   "cell_type": "code",
   "execution_count": 8,
   "metadata": {
    "ExecuteTime": {
     "end_time": "2019-07-20T03:13:31.162570Z",
     "start_time": "2019-07-20T03:13:30.191859Z"
    }
   },
   "outputs": [
    {
     "data": {
      "image/png": "[encoded data removed]",
      "text/plain": [
       "<Figure size 432x288 with 1 Axes>"
      ]
     },
     "metadata": {
      "needs_background": "light"
     },
     "output_type": "display_data"
    },
    {
     "data": {
      "image/png": "[encoded data removed]",
      "text/plain": [
       "<Figure size 432x288 with 1 Axes>"
      ]
     },
     "metadata": {
      "needs_background": "light"
     },
     "output_type": "display_data"
    }
   ],
   "source": [
    "plt.plot(test_losses)\n",
    "plt.plot(train_losses)\n",
    "\n",
    "plt.ylabel('loss')\n",
    "plt.xlabel('epoch')\n",
    "plt.legend(['train', 'test'], loc='upper left')\n",
    "plt.show()\n",
    "\n",
    "plt.plot(train_accuracy)\n",
    "plt.xlabel('epoch')\n",
    "plt.ylabel('accuracy')\n",
    "plt.show()"
   ]
  },
  {
   "cell_type": "code",
   "execution_count": 9,
   "metadata": {
    "ExecuteTime": {
     "end_time": "2019-07-20T03:13:31.601320Z",
     "start_time": "2019-07-20T03:13:31.168567Z"
    }
   },
   "outputs": [
    {
     "data": {
      "image/png": "[encoded data removed]",
      "text/plain": [
       "<Figure size 432x288 with 1 Axes>"
      ]
     },
     "metadata": {
      "needs_background": "light"
     },
     "output_type": "display_data"
    }
   ],
   "source": [
    "example = next(iter(testloader))\n",
    "\n",
    "label = example[0][0]\n",
    "image = th.reshape(example[0][1:], (1, 1024))\n",
    "image = image.view(image.shape[0], -1).float()\n",
    "prediction = model(image)\n",
    "\n",
    "pred_label = th.argmax(prediction)\n",
    "\n",
    "title = f\"Actual: {int(label)} Prediction: {pred_label}\"\n",
    "\n",
    "plt.imshow(image.reshape(32, 32))\n",
    "plt.title(title)\n",
    "plt.show()"
   ]
  },
  {
   "cell_type": "code",
   "execution_count": 10,
   "metadata": {
    "ExecuteTime": {
     "end_time": "2019-07-20T03:13:31.626304Z",
     "start_time": "2019-07-20T03:13:31.605318Z"
    }
   },
   "outputs": [],
   "source": [
    "th.save(model.state_dict(), 'dcr.pth')"
   ]
  },
  {
   "cell_type": "code",
   "execution_count": 11,
   "metadata": {
    "ExecuteTime": {
     "end_time": "2019-07-20T03:13:32.280838Z",
     "start_time": "2019-07-20T03:13:31.630303Z"
    }
   },
   "outputs": [
    {
     "ename": "NameError",
     "evalue": "name 'load_state_dict' is not defined",
     "output_type": "error",
     "traceback": [
      "\u001b[1;31m---------------------------------------------------------------------------\u001b[0m",
      "\u001b[1;31mNameError\u001b[0m                                 Traceback (most recent call last)",
      "\u001b[1;32m<ipython-input-11-5d91be3c41d7>\u001b[0m in \u001b[0;36m<module>\u001b[1;34m\u001b[0m\n\u001b[0;32m      1\u001b[0m \u001b[0mstate_dict\u001b[0m \u001b[1;33m=\u001b[0m \u001b[0mth\u001b[0m\u001b[1;33m.\u001b[0m\u001b[0mload\u001b[0m\u001b[1;33m(\u001b[0m\u001b[1;34m'dcr.pth'\u001b[0m\u001b[1;33m)\u001b[0m\u001b[1;33m\u001b[0m\u001b[1;33m\u001b[0m\u001b[0m\n\u001b[1;32m----> 2\u001b[1;33m \u001b[0mmodel\u001b[0m \u001b[1;33m=\u001b[0m \u001b[0mload_state_dict\u001b[0m\u001b[1;33m(\u001b[0m\u001b[0mstate_dict\u001b[0m\u001b[1;33m)\u001b[0m\u001b[1;33m\u001b[0m\u001b[1;33m\u001b[0m\u001b[0m\n\u001b[0m",
      "\u001b[1;31mNameError\u001b[0m: name 'load_state_dict' is not defined"
     ]
    }
   ],
   "source": [
    "state_dict = th.load('dcr.pth')\n",
    "model = load_state_dict(state_dict)"
   ]
  },
  {
   "cell_type": "code",
   "execution_count": null,
   "metadata": {},
   "outputs": [],
   "source": []
  },
  {
   "cell_type": "code",
   "execution_count": null,
   "metadata": {},
   "outputs": [],
   "source": []
  },
  {
   "cell_type": "code",
   "execution_count": null,
   "metadata": {},
   "outputs": [],
   "source": []
  }
 ],
 "metadata": {
  "kernelspec": {
   "display_name": "Python 3",
   "language": "python",
   "name": "python3"
  },
  "language_info": {
   "codemirror_mode": {
    "name": "ipython",
    "version": 3
   },
   "file_extension": ".py",
   "mimetype": "text/x-python",
   "name": "python",
   "nbconvert_exporter": "python",
   "pygments_lexer": "ipython3",
   "version": "3.6.8"
  },
  "latex_envs": {
   "LaTeX_envs_menu_present": true,
   "autoclose": false,
   "autocomplete": true,
   "bibliofile": "biblio.bib",
   "cite_by": "apalike",
   "current_citInitial": 1,
   "eqLabelWithNumbers": true,
   "eqNumInitial": 1,
   "hotkeys": {
    "equation": "Ctrl-E",
    "itemize": "Ctrl-I"
   },
   "labels_anchors": false,
   "latex_user_defs": false,
   "report_style_numbering": false,
   "user_envs_cfg": false
  },
  "varInspector": {
   "cols": {
    "lenName": 16,
    "lenType": 16,
    "lenVar": 40
   },
   "kernels_config": {
    "python": {
     "delete_cmd_postfix": "",
     "delete_cmd_prefix": "del ",
     "library": "var_list.py",
     "varRefreshCmd": "print(var_dic_list())"
    },
    "r": {
     "delete_cmd_postfix": ") ",
     "delete_cmd_prefix": "rm(",
     "library": "var_list.r",
     "varRefreshCmd": "cat(var_dic_list()) "
    }
   },
   "types_to_exclude": [
    "module",
    "function",
    "builtin_function_or_method",
    "instance",
    "_Feature"
   ],
   "window_display": false
  }
 },
 "nbformat": 4,
 "nbformat_minor": 2
}
