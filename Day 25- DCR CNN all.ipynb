{
 "cells": [
  {
   "cell_type": "markdown",
   "metadata": {},
   "source": [
    ">Now training all characters."
   ]
  },
  {
   "cell_type": "code",
   "execution_count": 1,
   "metadata": {
    "ExecuteTime": {
     "end_time": "2019-07-22T12:08:18.656994Z",
     "start_time": "2019-07-22T12:08:17.108470Z"
    }
   },
   "outputs": [],
   "source": [
    "import numpy as np\n",
    "import matplotlib.pyplot as plt\n",
    "import torch as th\n",
    "import torch.nn.functional as F\n",
    "from torch import nn, optim\n",
    "import torchvision\n",
    "\n",
    "plt.style.use('seaborn-whitegrid')"
   ]
  },
  {
   "cell_type": "code",
   "execution_count": 2,
   "metadata": {
    "ExecuteTime": {
     "end_time": "2019-07-22T12:08:18.670970Z",
     "start_time": "2019-07-22T12:08:18.659976Z"
    }
   },
   "outputs": [],
   "source": [
    "def dataset(file):\n",
    "    current_datafile = open(file, 'r')\n",
    "    current_dataset = current_datafile.readlines()\n",
    "    current_datafile.close()\n",
    "\n",
    "    datasets = np.zeros([len(current_dataset), 1025])\n",
    "    indices = np.linspace(0, len(current_dataset) - 1, len(current_dataset), dtype = np.int64)\n",
    "    np.random.shuffle(indices)\n",
    "    k = 0\n",
    "    for i in indices:\n",
    "        \n",
    "        example = current_dataset[i].split(',')\n",
    "        labels = np.asarray(example[0], dtype = np.float32)\n",
    "        images = np.asarray(example[1:], dtype=np.float32) / 255   \n",
    "        example = np.hstack([labels, images])\n",
    "        \n",
    "        datasets[k] = example\n",
    "        k = k + 1\n",
    "    return datasets\n"
   ]
  },
  {
   "cell_type": "code",
   "execution_count": 3,
   "metadata": {
    "ExecuteTime": {
     "end_time": "2019-07-22T12:08:59.676482Z",
     "start_time": "2019-07-22T12:08:18.673970Z"
    }
   },
   "outputs": [],
   "source": [
    "train_data = dataset('All/train.csv')\n",
    "test_data = dataset('All/test.csv')\n",
    "trainloader = th.utils.data.DataLoader(train_data, shuffle = True, batch_size = 32)\n",
    "testloader = th.utils.data.DataLoader(test_data, shuffle = True, batch_size = 32)"
   ]
  },
  {
   "cell_type": "code",
   "execution_count": 7,
   "metadata": {
    "ExecuteTime": {
     "end_time": "2019-07-22T12:09:33.698772Z",
     "start_time": "2019-07-22T12:09:33.656795Z"
    },
    "scrolled": false
   },
   "outputs": [
    {
     "name": "stderr",
     "output_type": "stream",
     "text": [
      "C:\\ProgramData\\Anaconda3\\lib\\site-packages\\ipykernel_launcher.py:21: UserWarning: Implicit dimension choice for log_softmax has been deprecated. Change the call to include dim=X as an argument.\n"
     ]
    },
    {
     "name": "stdout",
     "output_type": "stream",
     "text": [
      "tensor(26., dtype=torch.float64) tensor([[-3.7253, -3.8883, -3.7124, -4.0348, -3.8782, -3.9187, -3.7761, -3.7887,\n",
      "         -4.0143, -3.8462, -3.7408, -3.7013, -3.7377, -3.5558, -3.7726, -3.7448,\n",
      "         -3.7730, -3.9354, -3.8020, -3.9315, -3.9334, -3.8102, -3.8995, -4.0157,\n",
      "         -3.7015, -3.9917, -3.7759, -3.7644, -3.7975, -3.7561, -4.0097, -3.7613,\n",
      "         -4.0215, -4.0243, -3.6875, -3.7201, -3.8261, -3.8117, -3.8191, -3.8835,\n",
      "         -3.9885, -3.9304, -3.8896, -3.6630, -3.7431, -3.9116]],\n",
      "       grad_fn=<LogSoftmaxBackward>)\n"
     ]
    }
   ],
   "source": [
    "# define the CNN architecture\n",
    "class Net(nn.Module):\n",
    "    def __init__(self):\n",
    "        super(Net, self).__init__()\n",
    "        self.conv1 = nn.Conv2d(1, 32, 3)\n",
    "        self.conv2 = nn.Conv2d(32, 16, 3)\n",
    "        self.conv3 = nn.Conv2d(16, 8, 3)\n",
    "        self.pool = nn.MaxPool2d(2, 2)\n",
    "        self.fc1 = nn.Linear(32, 64)\n",
    "        self.fc2 = nn.Linear(64, 46)\n",
    "#         self.fc1.weight.data = th.ones()\n",
    "        self.drop = nn.Dropout2d(0.2)\n",
    "\n",
    "    def forward(self, x):\n",
    "        x = self.drop(self.pool(F.relu(self.conv1(x))))\n",
    "        x = self.drop(self.pool(F.relu(self.conv2(x))))\n",
    "        x = self.pool(F.relu(self.conv3(x)))\n",
    "#         print(x.shape)\n",
    "        x = x.view(-1, 32)\n",
    "        x = self.fc1(x)\n",
    "        x = F.log_softmax(self.fc2(x))\n",
    "\n",
    "        return x\n",
    "\n",
    "    \n",
    "# Check if model working fine\n",
    "example = next(iter(trainloader))\n",
    "label = example[0][0]\n",
    "example = example[0][1:].float()\n",
    "example = example.reshape(1, 1, 32, 32)\n",
    "    \n",
    "model = Net()\n",
    "\n",
    "print(label, model(example))\n",
    "\n",
    "# print(model.fc1.weight.data, model.fc1.weight.data)\n",
    "\n"
   ]
  },
  {
   "cell_type": "code",
   "execution_count": 8,
   "metadata": {
    "ExecuteTime": {
     "end_time": "2019-07-22T12:09:38.569773Z",
     "start_time": "2019-07-22T12:09:38.565774Z"
    }
   },
   "outputs": [],
   "source": [
    "# optimizer = optim.SGD(model.parameters(), weight_decay=1e-6, lr=0.01, momentum=0.9, nesterov=True)\n",
    "optimizer = optim.Adam(model.parameters(), lr = 0.001)\n",
    "criterion = nn.CrossEntropyLoss()\n"
   ]
  },
  {
   "cell_type": "code",
   "execution_count": 10,
   "metadata": {
    "ExecuteTime": {
     "end_time": "2019-07-22T12:54:05.711893Z",
     "start_time": "2019-07-22T12:11:52.992049Z"
    },
    "scrolled": false
   },
   "outputs": [
    {
     "name": "stderr",
     "output_type": "stream",
     "text": [
      "C:\\ProgramData\\Anaconda3\\lib\\site-packages\\ipykernel_launcher.py:21: UserWarning: Implicit dimension choice for log_softmax has been deprecated. Change the call to include dim=X as an argument.\n"
     ]
    },
    {
     "name": "stdout",
     "output_type": "stream",
     "text": [
      "Epoch: 1/100..  Training Loss: 3.100..  Test Loss: 2.531..  Test Accuracy: 30.324%\n",
      "Epoch: 2/100..  Training Loss: 2.554..  Test Loss: 2.199..  Test Accuracy: 39.352%\n",
      "Epoch: 3/100..  Training Loss: 2.260..  Test Loss: 1.949..  Test Accuracy: 44.444%\n",
      "Epoch: 4/100..  Training Loss: 2.111..  Test Loss: 1.851..  Test Accuracy: 47.685%\n",
      "Epoch: 5/100..  Training Loss: 1.962..  Test Loss: 1.761..  Test Accuracy: 48.148%\n",
      "Epoch: 6/100..  Training Loss: 1.917..  Test Loss: 1.595..  Test Accuracy: 54.861%\n",
      "Epoch: 7/100..  Training Loss: 1.768..  Test Loss: 1.433..  Test Accuracy: 60.185%\n",
      "Epoch: 8/100..  Training Loss: 1.714..  Test Loss: 1.455..  Test Accuracy: 56.019%\n",
      "Epoch: 9/100..  Training Loss: 1.609..  Test Loss: 1.423..  Test Accuracy: 56.481%\n",
      "Epoch: 10/100..  Training Loss: 1.594..  Test Loss: 1.391..  Test Accuracy: 58.565%\n",
      "Epoch: 11/100..  Training Loss: 1.557..  Test Loss: 1.201..  Test Accuracy: 64.815%\n",
      "Epoch: 12/100..  Training Loss: 1.426..  Test Loss: 1.187..  Test Accuracy: 64.815%\n",
      "Epoch: 13/100..  Training Loss: 1.393..  Test Loss: 1.189..  Test Accuracy: 63.426%\n",
      "Epoch: 14/100..  Training Loss: 1.317..  Test Loss: 1.000..  Test Accuracy: 69.444%\n",
      "Epoch: 15/100..  Training Loss: 1.314..  Test Loss: 1.094..  Test Accuracy: 68.056%\n",
      "Epoch: 16/100..  Training Loss: 1.302..  Test Loss: 0.987..  Test Accuracy: 69.907%\n",
      "Epoch: 17/100..  Training Loss: 1.228..  Test Loss: 0.939..  Test Accuracy: 68.981%\n",
      "Epoch: 18/100..  Training Loss: 1.132..  Test Loss: 0.829..  Test Accuracy: 75.463%\n",
      "Epoch: 19/100..  Training Loss: 1.166..  Test Loss: 0.888..  Test Accuracy: 71.528%\n",
      "Epoch: 20/100..  Training Loss: 1.211..  Test Loss: 0.884..  Test Accuracy: 73.843%\n",
      "Epoch: 21/100..  Training Loss: 1.135..  Test Loss: 0.718..  Test Accuracy: 80.787%\n",
      "Epoch: 22/100..  Training Loss: 1.171..  Test Loss: 0.727..  Test Accuracy: 77.546%\n",
      "Epoch: 23/100..  Training Loss: 1.104..  Test Loss: 0.895..  Test Accuracy: 71.528%\n",
      "Epoch: 24/100..  Training Loss: 1.118..  Test Loss: 0.874..  Test Accuracy: 74.769%\n",
      "Epoch: 25/100..  Training Loss: 1.053..  Test Loss: 0.800..  Test Accuracy: 75.463%\n",
      "Epoch: 26/100..  Training Loss: 1.060..  Test Loss: 0.689..  Test Accuracy: 76.620%\n",
      "Epoch: 27/100..  Training Loss: 1.070..  Test Loss: 0.789..  Test Accuracy: 75.463%\n",
      "Epoch: 28/100..  Training Loss: 1.043..  Test Loss: 0.759..  Test Accuracy: 78.241%\n",
      "Epoch: 29/100..  Training Loss: 1.047..  Test Loss: 0.843..  Test Accuracy: 71.991%\n",
      "Epoch: 30/100..  Training Loss: 1.000..  Test Loss: 0.764..  Test Accuracy: 75.231%\n",
      "Epoch: 31/100..  Training Loss: 0.992..  Test Loss: 0.755..  Test Accuracy: 76.852%\n",
      "Epoch: 32/100..  Training Loss: 1.016..  Test Loss: 0.756..  Test Accuracy: 76.389%\n",
      "Epoch: 33/100..  Training Loss: 1.012..  Test Loss: 0.741..  Test Accuracy: 73.611%\n",
      "Epoch: 34/100..  Training Loss: 0.989..  Test Loss: 0.798..  Test Accuracy: 75.926%\n",
      "Epoch: 35/100..  Training Loss: 0.956..  Test Loss: 0.853..  Test Accuracy: 75.231%\n",
      "Epoch: 36/100..  Training Loss: 1.017..  Test Loss: 0.801..  Test Accuracy: 76.157%\n",
      "Epoch: 37/100..  Training Loss: 1.008..  Test Loss: 0.766..  Test Accuracy: 77.083%\n",
      "Epoch: 38/100..  Training Loss: 0.976..  Test Loss: 0.752..  Test Accuracy: 79.167%\n",
      "Epoch: 39/100..  Training Loss: 0.928..  Test Loss: 0.684..  Test Accuracy: 81.713%\n",
      "Epoch: 40/100..  Training Loss: 0.944..  Test Loss: 0.737..  Test Accuracy: 78.009%\n",
      "Epoch: 41/100..  Training Loss: 0.946..  Test Loss: 0.728..  Test Accuracy: 80.324%\n",
      "Epoch: 42/100..  Training Loss: 0.954..  Test Loss: 0.654..  Test Accuracy: 79.398%\n",
      "Epoch: 43/100..  Training Loss: 0.922..  Test Loss: 0.667..  Test Accuracy: 79.167%\n",
      "Epoch: 44/100..  Training Loss: 0.945..  Test Loss: 0.657..  Test Accuracy: 80.324%\n",
      "Epoch: 45/100..  Training Loss: 0.899..  Test Loss: 0.700..  Test Accuracy: 78.241%\n",
      "Epoch: 46/100..  Training Loss: 0.950..  Test Loss: 0.713..  Test Accuracy: 77.315%\n",
      "Epoch: 47/100..  Training Loss: 0.957..  Test Loss: 0.605..  Test Accuracy: 81.944%\n",
      "Epoch: 48/100..  Training Loss: 0.921..  Test Loss: 0.648..  Test Accuracy: 80.787%\n",
      "Epoch: 49/100..  Training Loss: 0.932..  Test Loss: 0.601..  Test Accuracy: 81.713%\n",
      "Epoch: 50/100..  Training Loss: 0.910..  Test Loss: 0.657..  Test Accuracy: 83.333%\n",
      "Epoch: 51/100..  Training Loss: 0.913..  Test Loss: 0.592..  Test Accuracy: 82.407%\n",
      "Epoch: 52/100..  Training Loss: 0.937..  Test Loss: 0.709..  Test Accuracy: 78.704%\n",
      "Epoch: 53/100..  Training Loss: 0.914..  Test Loss: 0.672..  Test Accuracy: 79.167%\n",
      "Epoch: 54/100..  Training Loss: 0.902..  Test Loss: 0.763..  Test Accuracy: 76.852%\n",
      "Epoch: 55/100..  Training Loss: 0.967..  Test Loss: 0.721..  Test Accuracy: 78.935%\n",
      "Epoch: 56/100..  Training Loss: 0.902..  Test Loss: 0.623..  Test Accuracy: 81.713%\n",
      "Epoch: 57/100..  Training Loss: 0.901..  Test Loss: 0.516..  Test Accuracy: 84.259%\n",
      "Epoch: 58/100..  Training Loss: 0.900..  Test Loss: 0.727..  Test Accuracy: 78.472%\n",
      "Epoch: 59/100..  Training Loss: 0.863..  Test Loss: 0.618..  Test Accuracy: 79.861%\n",
      "Epoch: 60/100..  Training Loss: 0.891..  Test Loss: 0.573..  Test Accuracy: 80.093%\n",
      "Epoch: 61/100..  Training Loss: 0.864..  Test Loss: 0.581..  Test Accuracy: 83.796%\n",
      "Epoch: 62/100..  Training Loss: 0.934..  Test Loss: 0.751..  Test Accuracy: 76.157%\n",
      "Epoch: 63/100..  Training Loss: 0.912..  Test Loss: 0.637..  Test Accuracy: 80.324%\n",
      "Epoch: 64/100..  Training Loss: 0.874..  Test Loss: 0.635..  Test Accuracy: 81.250%\n",
      "Epoch: 65/100..  Training Loss: 0.919..  Test Loss: 0.656..  Test Accuracy: 77.778%\n",
      "Epoch: 66/100..  Training Loss: 0.865..  Test Loss: 0.702..  Test Accuracy: 77.778%\n",
      "Epoch: 67/100..  Training Loss: 0.892..  Test Loss: 0.664..  Test Accuracy: 78.704%\n",
      "Epoch: 68/100..  Training Loss: 0.848..  Test Loss: 0.525..  Test Accuracy: 83.565%\n",
      "Epoch: 69/100..  Training Loss: 0.906..  Test Loss: 0.495..  Test Accuracy: 83.333%\n",
      "Epoch: 70/100..  Training Loss: 0.867..  Test Loss: 0.688..  Test Accuracy: 80.093%\n",
      "Epoch: 71/100..  Training Loss: 0.865..  Test Loss: 0.634..  Test Accuracy: 82.639%\n",
      "Epoch: 72/100..  Training Loss: 0.854..  Test Loss: 0.631..  Test Accuracy: 81.250%\n",
      "Epoch: 73/100..  Training Loss: 0.825..  Test Loss: 0.561..  Test Accuracy: 83.102%\n",
      "Epoch: 74/100..  Training Loss: 0.908..  Test Loss: 0.604..  Test Accuracy: 80.787%\n",
      "Epoch: 75/100..  Training Loss: 0.855..  Test Loss: 0.598..  Test Accuracy: 80.556%\n",
      "Epoch: 76/100..  Training Loss: 0.900..  Test Loss: 0.542..  Test Accuracy: 84.722%\n",
      "Epoch: 77/100..  Training Loss: 0.866..  Test Loss: 0.503..  Test Accuracy: 86.806%\n",
      "Epoch: 78/100..  Training Loss: 0.828..  Test Loss: 0.598..  Test Accuracy: 81.019%\n",
      "Epoch: 79/100..  Training Loss: 0.876..  Test Loss: 0.575..  Test Accuracy: 81.019%\n",
      "Epoch: 80/100..  Training Loss: 0.849..  Test Loss: 0.660..  Test Accuracy: 79.630%\n",
      "Epoch: 81/100..  Training Loss: 0.848..  Test Loss: 0.611..  Test Accuracy: 78.935%\n",
      "Epoch: 82/100..  Training Loss: 0.826..  Test Loss: 0.552..  Test Accuracy: 81.481%\n",
      "Epoch: 83/100..  Training Loss: 0.844..  Test Loss: 0.595..  Test Accuracy: 81.713%\n",
      "Epoch: 84/100..  Training Loss: 0.792..  Test Loss: 0.636..  Test Accuracy: 81.481%\n",
      "Epoch: 85/100..  Training Loss: 0.799..  Test Loss: 0.515..  Test Accuracy: 84.259%\n",
      "Epoch: 86/100..  Training Loss: 0.831..  Test Loss: 0.614..  Test Accuracy: 85.185%\n",
      "Epoch: 87/100..  Training Loss: 0.800..  Test Loss: 0.506..  Test Accuracy: 83.102%\n",
      "Epoch: 88/100..  Training Loss: 0.835..  Test Loss: 0.511..  Test Accuracy: 82.639%\n",
      "Epoch: 89/100..  Training Loss: 0.790..  Test Loss: 0.628..  Test Accuracy: 80.787%\n",
      "Epoch: 90/100..  Training Loss: 0.863..  Test Loss: 0.581..  Test Accuracy: 81.944%\n",
      "Epoch: 91/100..  Training Loss: 0.864..  Test Loss: 0.519..  Test Accuracy: 86.111%\n",
      "Epoch: 92/100..  Training Loss: 0.817..  Test Loss: 0.682..  Test Accuracy: 80.556%\n",
      "Epoch: 93/100..  Training Loss: 0.865..  Test Loss: 0.600..  Test Accuracy: 81.944%\n",
      "Epoch: 94/100..  Training Loss: 0.866..  Test Loss: 0.592..  Test Accuracy: 81.250%\n",
      "Epoch: 95/100..  Training Loss: 0.865..  Test Loss: 0.546..  Test Accuracy: 82.407%\n",
      "Epoch: 96/100..  Training Loss: 0.861..  Test Loss: 0.535..  Test Accuracy: 84.954%\n",
      "Epoch: 97/100..  Training Loss: 0.879..  Test Loss: 0.545..  Test Accuracy: 84.722%\n"
     ]
    },
    {
     "name": "stdout",
     "output_type": "stream",
     "text": [
      "Epoch: 98/100..  Training Loss: 0.832..  Test Loss: 0.583..  Test Accuracy: 82.870%\n",
      "Epoch: 99/100..  Training Loss: 0.856..  Test Loss: 0.610..  Test Accuracy: 82.639%\n",
      "Epoch: 100/100..  Training Loss: 0.797..  Test Loss: 0.475..  Test Accuracy: 85.880%\n"
     ]
    }
   ],
   "source": [
    "epochs = 100\n",
    "train_losses, test_losses = [], []\n",
    "train_accuracy = []\n",
    "for epoch in range(epochs):\n",
    "    running_loss = 0\n",
    "    model.train()\n",
    "    for example in trainloader:\n",
    "        optimizer.zero_grad()\n",
    "        \n",
    "#         print(\"1: -->\", model.fc1.weight.data)\n",
    "        label = th.Tensor([example[0][0].float()]).long()\n",
    "        image = th.reshape(example[0][1:].float(), (1, 1, 32, 32))\n",
    "        \n",
    "        logps = model(image).reshape(1, 46)  \n",
    "        loss = criterion(logps, label)\n",
    "        \n",
    "        loss.backward()\n",
    "        optimizer.step()\n",
    "\n",
    "        running_loss += loss.item()\n",
    "#         print(\"2: -->\", model.fc1.weight.data)\n",
    "        \n",
    "    else:\n",
    "        model.eval()\n",
    "        test_loss = 0\n",
    "        accuracy = 0\n",
    "        \n",
    "        with th.no_grad():\n",
    "            for example in testloader:\n",
    "                label = th.Tensor([example[0][0].float()]).long()\n",
    "                image = th.reshape(example[0][1:].float(), (1, 1, 32, 32))\n",
    "                \n",
    "#                 print(\"1: -->\", model.fc1.weight.data, model.fc2.weight.data)\n",
    "                \n",
    "                logps = model(image).reshape(1, 46) \n",
    "                test_loss += criterion(logps, label.long())\n",
    "#                 print(label, logps)\n",
    "                ps = th.exp(logps)\n",
    "                top_p, top_class = ps.topk(1, dim=1)\n",
    "                equals = top_class == label.view(*top_class.shape)\n",
    "                accuracy += th.mean(equals.type(th.FloatTensor))\n",
    "                \n",
    "#                 priant(\"2: -->\", model.fc1.weight.data, model.fc2.weight.data)\n",
    "                \n",
    "            train_losses.append(running_loss/len(trainloader))\n",
    "            test_losses.append(test_loss/len(testloader))\n",
    "            train_accuracy.append(accuracy / len(testloader))\n",
    "            \n",
    "            print(\"Epoch: {}/{}.. \".format(epoch + 1, epochs),\n",
    "                  \"Training Loss: {:.3f}.. \".format(running_loss/len(trainloader)),\n",
    "                  \"Test Loss: {:.3f}.. \".format(test_loss/len(testloader)),\n",
    "                  \"Test Accuracy: {:.3f}%\".format(accuracy/len(testloader) * 100))\n"
   ]
  },
  {
   "cell_type": "code",
   "execution_count": 11,
   "metadata": {
    "ExecuteTime": {
     "end_time": "2019-07-22T13:01:24.517976Z",
     "start_time": "2019-07-22T13:01:23.966921Z"
    }
   },
   "outputs": [
    {
     "data": {
      "image/png": "[encoded data removed]",
      "text/plain": [
       "<Figure size 432x288 with 1 Axes>"
      ]
     },
     "metadata": {
      "needs_background": "light"
     },
     "output_type": "display_data"
    },
    {
     "data": {
      "image/png": "[encoded data removed]",
      "text/plain": [
       "<Figure size 432x288 with 1 Axes>"
      ]
     },
     "metadata": {
      "needs_background": "light"
     },
     "output_type": "display_data"
    }
   ],
   "source": [
    "plt.plot(test_losses)\n",
    "plt.plot(train_losses)\n",
    "\n",
    "plt.ylabel('loss')\n",
    "plt.xlabel('epoch')\n",
    "plt.legend(['train', 'test'], loc='upper left')\n",
    "plt.show()\n",
    "\n",
    "plt.plot(train_accuracy)\n",
    "plt.xlabel('epoch')\n",
    "plt.ylabel('accuracy')\n",
    "plt.show()"
   ]
  },
  {
   "cell_type": "code",
   "execution_count": 12,
   "metadata": {
    "ExecuteTime": {
     "end_time": "2019-07-22T13:01:27.075195Z",
     "start_time": "2019-07-22T13:01:26.051048Z"
    }
   },
   "outputs": [
    {
     "name": "stderr",
     "output_type": "stream",
     "text": [
      "C:\\ProgramData\\Anaconda3\\lib\\site-packages\\ipykernel_launcher.py:21: UserWarning: Implicit dimension choice for log_softmax has been deprecated. Change the call to include dim=X as an argument.\n"
     ]
    },
    {
     "data": {
      "image/png": "[encoded data removed]",
      "text/plain": [
       "<Figure size 432x288 with 1 Axes>"
      ]
     },
     "metadata": {
      "needs_background": "light"
     },
     "output_type": "display_data"
    },
    {
     "data": {
      "image/png": "[encoded data removed]",
      "text/plain": [
       "<Figure size 432x288 with 1 Axes>"
      ]
     },
     "metadata": {
      "needs_background": "light"
     },
     "output_type": "display_data"
    },
    {
     "data": {
      "image/png": "[encoded data removed]",
      "text/plain": [
       "<Figure size 432x288 with 1 Axes>"
      ]
     },
     "metadata": {
      "needs_background": "light"
     },
     "output_type": "display_data"
    },
    {
     "data": {
      "image/png": "[encoded data removed]",
      "text/plain": [
       "<Figure size 432x288 with 1 Axes>"
      ]
     },
     "metadata": {
      "needs_background": "light"
     },
     "output_type": "display_data"
    },
    {
     "data": {
      "image/png": "[encoded data removed]",
      "text/plain": [
       "<Figure size 432x288 with 1 Axes>"
      ]
     },
     "metadata": {
      "needs_background": "light"
     },
     "output_type": "display_data"
    }
   ],
   "source": [
    "for i in range(5):\n",
    "    example = next(iter(testloader))\n",
    "\n",
    "    label = example[0][0]\n",
    "    image = th.reshape(example[0][1:].float(), (1, 1, 32, 32))\n",
    "    # image = image.view(image.shape[0], -1)\n",
    "    prediction = model(image)\n",
    "\n",
    "    pred_label = th.argmax(prediction)\n",
    "\n",
    "    title = f\"Actual: {int(label)} Prediction: {pred_label}\"\n",
    "\n",
    "    plt.imshow(image.reshape(32, 32))\n",
    "    plt.title(title)\n",
    "    plt.show()"
   ]
  },
  {
   "cell_type": "code",
   "execution_count": null,
   "metadata": {
    "ExecuteTime": {
     "end_time": "2019-07-22T12:09:00.262154Z",
     "start_time": "2019-07-22T12:08:17.128Z"
    }
   },
   "outputs": [],
   "source": [
    "th.save(model, 'dcrcnn.ckpt')"
   ]
  },
  {
   "cell_type": "code",
   "execution_count": null,
   "metadata": {
    "ExecuteTime": {
     "end_time": "2019-07-22T12:09:00.265149Z",
     "start_time": "2019-07-22T12:08:17.131Z"
    }
   },
   "outputs": [],
   "source": [
    "\n",
    "model = th.load('dcrcnn.ckpt')"
   ]
  },
  {
   "cell_type": "code",
   "execution_count": null,
   "metadata": {
    "ExecuteTime": {
     "end_time": "2019-07-22T12:09:00.267146Z",
     "start_time": "2019-07-22T12:08:17.135Z"
    }
   },
   "outputs": [],
   "source": [
    "device = th.device(\"cuda\")"
   ]
  },
  {
   "cell_type": "code",
   "execution_count": null,
   "metadata": {},
   "outputs": [],
   "source": []
  },
  {
   "cell_type": "code",
   "execution_count": null,
   "metadata": {},
   "outputs": [],
   "source": []
  }
 ],
 "metadata": {
  "kernelspec": {
   "display_name": "Python 3",
   "language": "python",
   "name": "python3"
  },
  "language_info": {
   "codemirror_mode": {
    "name": "ipython",
    "version": 3
   },
   "file_extension": ".py",
   "mimetype": "text/x-python",
   "name": "python",
   "nbconvert_exporter": "python",
   "pygments_lexer": "ipython3",
   "version": "3.6.8"
  },
  "latex_envs": {
   "LaTeX_envs_menu_present": true,
   "autoclose": false,
   "autocomplete": true,
   "bibliofile": "biblio.bib",
   "cite_by": "apalike",
   "current_citInitial": 1,
   "eqLabelWithNumbers": true,
   "eqNumInitial": 1,
   "hotkeys": {
    "equation": "Ctrl-E",
    "itemize": "Ctrl-I"
   },
   "labels_anchors": false,
   "latex_user_defs": false,
   "report_style_numbering": false,
   "user_envs_cfg": false
  },
  "varInspector": {
   "cols": {
    "lenName": 16,
    "lenType": 16,
    "lenVar": 40
   },
   "kernels_config": {
    "python": {
     "delete_cmd_postfix": "",
     "delete_cmd_prefix": "del ",
     "library": "var_list.py",
     "varRefreshCmd": "print(var_dic_list())"
    },
    "r": {
     "delete_cmd_postfix": ") ",
     "delete_cmd_prefix": "rm(",
     "library": "var_list.r",
     "varRefreshCmd": "cat(var_dic_list()) "
    }
   },
   "types_to_exclude": [
    "module",
    "function",
    "builtin_function_or_method",
    "instance",
    "_Feature"
   ],
   "window_display": false
  }
 },
 "nbformat": 4,
 "nbformat_minor": 2
}
