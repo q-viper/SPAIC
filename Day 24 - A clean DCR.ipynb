{
 "cells": [
  {
   "cell_type": "code",
   "execution_count": 1,
   "metadata": {
    "ExecuteTime": {
     "end_time": "2019-07-22T09:53:18.303700Z",
     "start_time": "2019-07-22T09:53:17.221303Z"
    }
   },
   "outputs": [],
   "source": [
    "import numpy as np\n",
    "import torch as th\n",
    "import torch.nn.functional as F\n",
    "from torchvision import transforms\n",
    "import matplotlib.pyplot as plt\n",
    "from torch import nn, optim\n",
    "import torchvision\n"
   ]
  },
  {
   "cell_type": "code",
   "execution_count": null,
   "metadata": {},
   "outputs": [],
   "source": []
  },
  {
   "cell_type": "raw",
   "metadata": {
    "ExecuteTime": {
     "end_time": "2019-07-21T01:33:00.201875Z",
     "start_time": "2019-07-21T01:32:54.526350Z"
    }
   },
   "source": [
    "styles = plt.style.available\n",
    "for style in styles:\n",
    "    plt.style.use(style)\n",
    "    x = np.arange(1, 10)\n",
    "    y = 2 * x\n",
    "    plt.plot(x, y)\n",
    "    plt.title(style)\n",
    "    plt.show()"
   ]
  },
  {
   "cell_type": "code",
   "execution_count": null,
   "metadata": {
    "ExecuteTime": {
     "end_time": "2019-07-21T04:43:21.487592Z",
     "start_time": "2019-07-21T04:43:21.401641Z"
    }
   },
   "outputs": [],
   "source": [
    "plt.style.use('seaborn-poster')"
   ]
  },
  {
   "cell_type": "code",
   "execution_count": null,
   "metadata": {
    "ExecuteTime": {
     "end_time": "2019-07-21T04:43:21.586533Z",
     "start_time": "2019-07-21T04:43:21.490589Z"
    }
   },
   "outputs": [],
   "source": [
    "trainsforms = transforms.Compose([transforms.ToTensor(),\n",
    "                                transforms.Normalize((0.5,), (0.5,))])"
   ]
  },
  {
   "cell_type": "code",
   "execution_count": null,
   "metadata": {
    "ExecuteTime": {
     "end_time": "2019-07-21T04:43:21.686477Z",
     "start_time": "2019-07-21T04:43:21.590532Z"
    }
   },
   "outputs": [],
   "source": [
    "def dataset(file):\n",
    "    current_datafile = open(file, 'r')\n",
    "    current_dataset = current_datafile.readlines()\n",
    "    current_datafile.close()\n",
    "\n",
    "    datasets = np.zeros([len(current_dataset), 1025])\n",
    "    indices = np.linspace(0, len(current_dataset) - 1, len(current_dataset), dtype = np.int64)\n",
    "    np.random.shuffle(indices)\n",
    "    k = 0\n",
    "    for i in indices:\n",
    "        \n",
    "        example = current_dataset[i].split(',')\n",
    "        labels = np.asarray(example[0], dtype = np.float32)\n",
    "        images = np.asarray(example[1:], dtype=np.float32) / 255   \n",
    "        example = np.hstack([labels, images])\n",
    "        \n",
    "        datasets[k] = example\n",
    "        k = k + 1\n",
    "    return datasets"
   ]
  },
  {
   "cell_type": "code",
   "execution_count": null,
   "metadata": {
    "ExecuteTime": {
     "end_time": "2019-07-21T04:43:29.145788Z",
     "start_time": "2019-07-21T04:43:21.689474Z"
    }
   },
   "outputs": [],
   "source": [
    "train_data = dataset('train.csv')\n",
    "test_data = dataset('test.csv')\n",
    "trainloader = th.utils.data.DataLoader(train_data, shuffle = False)\n",
    "testloader = th.utils.data.DataLoader(test_data, shuffle = True)"
   ]
  },
  {
   "cell_type": "code",
   "execution_count": null,
   "metadata": {
    "ExecuteTime": {
     "end_time": "2019-07-21T04:43:29.165777Z",
     "start_time": "2019-07-21T04:43:29.148772Z"
    }
   },
   "outputs": [],
   "source": [
    "class FNN(nn.Module):\n",
    "    def __init__(self):\n",
    "        super(FNN, self).__init__()\n",
    "        self.fc1 = nn.Linear(1024, 512)\n",
    "#         self.fc2 = nn.Linear(512, 256)\n",
    "        self.fc3 = nn.Linear(512, 128)\n",
    "        self.fc4 = nn.Linear(128, 10)\n",
    "        \n",
    "        self.drop = nn.Dropout(0.2)\n",
    "        \n",
    "    def forward(self, x):\n",
    "        x = self.drop(F.relu(self.fc1(x)))\n",
    "#         x = self.drop(F.relu(self.fc2(x)))\n",
    "        x = self.drop(F.relu(self.fc3(x)))\n",
    "        x = F.softmax(self.fc4(x))\n",
    "        \n",
    "        return x\n",
    "    \n",
    "model = FNN()\n",
    "\n",
    "    \n"
   ]
  },
  {
   "cell_type": "code",
   "execution_count": null,
   "metadata": {
    "ExecuteTime": {
     "end_time": "2019-07-21T04:43:29.338080Z",
     "start_time": "2019-07-21T04:43:29.167762Z"
    }
   },
   "outputs": [],
   "source": [
    "# Check if model working fine\n",
    "example = next(iter(trainloader))\n",
    "label = example[0][0]\n",
    "example = example[0][1:].float()\n",
    "# example = example.reshape(1, 1, 32, 32)\n",
    "\n",
    "model(example)\n",
    "# print(model.fc1.weight.data, model.fc3.weight.data)"
   ]
  },
  {
   "cell_type": "code",
   "execution_count": null,
   "metadata": {
    "ExecuteTime": {
     "end_time": "2019-07-21T04:43:29.424031Z",
     "start_time": "2019-07-21T04:43:29.341080Z"
    }
   },
   "outputs": [],
   "source": [
    "optimizer = optim.SGD(model.parameters(), lr = 0.1)\n",
    "criterion = nn.CrossEntropyLoss()\n"
   ]
  },
  {
   "cell_type": "code",
   "execution_count": null,
   "metadata": {
    "ExecuteTime": {
     "end_time": "2019-07-21T04:44:46.699506Z",
     "start_time": "2019-07-21T04:43:29.431028Z"
    },
    "scrolled": false
   },
   "outputs": [],
   "source": [
    "epochs = 2\n",
    "for epoch in range(epochs):\n",
    "    running_loss = 0\n",
    "    for example in trainloader:\n",
    "    #     example = example.reshape(1025).float()\n",
    "        label = th.Tensor([example[0][0].float()]).long()\n",
    "        image = example[0][1:].float()\n",
    "                \n",
    "        print(\"1: -->\", model.fc1.weight.data, model.fc3.weight.data)\n",
    "        \n",
    "        optimizer.zero_grad()\n",
    "        \n",
    "        logps = model(image).reshape(1, 10)\n",
    "        loss = criterion(logps, label)\n",
    "#         print(logps, label)\n",
    "        \n",
    "        loss.backward()\n",
    "        optimizer.step()\n",
    "        \n",
    "        print(\"2: -->\", model.fc1.weight.data, model.fc3.weight.data)\n",
    "        running_loss += loss.item()\n",
    "\n",
    "    else:\n",
    "        accuracy = 0\n",
    "        \n",
    "        print(f\"Loss: {running_loss / len(trainloader)}\")"
   ]
  },
  {
   "cell_type": "code",
   "execution_count": null,
   "metadata": {
    "ExecuteTime": {
     "end_time": "2019-07-21T04:00:07.052898Z",
     "start_time": "2019-07-21T04:00:07.041905Z"
    }
   },
   "outputs": [],
   "source": []
  },
  {
   "cell_type": "code",
   "execution_count": null,
   "metadata": {
    "ExecuteTime": {
     "end_time": "2019-07-21T04:44:46.719496Z",
     "start_time": "2019-07-21T04:43:21.773Z"
    }
   },
   "outputs": [],
   "source": [
    "example = next(iter(testloader))\n",
    "\n",
    "label = example[0][0]\n",
    "image = th.reshape(example[0][1:].float(), (1, 1024))\n",
    "# image = image.view(image.shape[0], -1)\n",
    "prediction = model(image)\n",
    "\n",
    "pred_label = th.argmax(prediction)\n",
    "\n",
    "title = f\"Actual: {int(label)} Prediction: {pred_label}\"\n",
    "\n",
    "plt.imshow(image.reshape(32, 32))\n",
    "plt.title(title)\n",
    "plt.show()"
   ]
  },
  {
   "cell_type": "code",
   "execution_count": null,
   "metadata": {},
   "outputs": [],
   "source": []
  },
  {
   "cell_type": "code",
   "execution_count": null,
   "metadata": {},
   "outputs": [],
   "source": []
  },
  {
   "cell_type": "code",
   "execution_count": null,
   "metadata": {},
   "outputs": [],
   "source": []
  },
  {
   "cell_type": "code",
   "execution_count": null,
   "metadata": {},
   "outputs": [],
   "source": []
  },
  {
   "cell_type": "code",
   "execution_count": null,
   "metadata": {},
   "outputs": [],
   "source": []
  }
 ],
 "metadata": {
  "kernelspec": {
   "display_name": "Python 3",
   "language": "python",
   "name": "python3"
  },
  "language_info": {
   "codemirror_mode": {
    "name": "ipython",
    "version": 3
   },
   "file_extension": ".py",
   "mimetype": "text/x-python",
   "name": "python",
   "nbconvert_exporter": "python",
   "pygments_lexer": "ipython3",
   "version": "3.6.8"
  },
  "latex_envs": {
   "LaTeX_envs_menu_present": true,
   "autoclose": false,
   "autocomplete": true,
   "bibliofile": "biblio.bib",
   "cite_by": "apalike",
   "current_citInitial": 1,
   "eqLabelWithNumbers": true,
   "eqNumInitial": 1,
   "hotkeys": {
    "equation": "Ctrl-E",
    "itemize": "Ctrl-I"
   },
   "labels_anchors": false,
   "latex_user_defs": false,
   "report_style_numbering": false,
   "user_envs_cfg": false
  },
  "varInspector": {
   "cols": {
    "lenName": 16,
    "lenType": 16,
    "lenVar": 40
   },
   "kernels_config": {
    "python": {
     "delete_cmd_postfix": "",
     "delete_cmd_prefix": "del ",
     "library": "var_list.py",
     "varRefreshCmd": "print(var_dic_list())"
    },
    "r": {
     "delete_cmd_postfix": ") ",
     "delete_cmd_prefix": "rm(",
     "library": "var_list.r",
     "varRefreshCmd": "cat(var_dic_list()) "
    }
   },
   "types_to_exclude": [
    "module",
    "function",
    "builtin_function_or_method",
    "instance",
    "_Feature"
   ],
   "window_display": false
  }
 },
 "nbformat": 4,
 "nbformat_minor": 2
}
