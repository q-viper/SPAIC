{
 "cells": [
  {
   "cell_type": "code",
   "execution_count": 1,
   "metadata": {
    "ExecuteTime": {
     "end_time": "2019-07-12T17:00:42.642846Z",
     "start_time": "2019-07-12T17:00:41.779431Z"
    }
   },
   "outputs": [],
   "source": [
    "import torch as th\n",
    "from torch import optim, nn"
   ]
  },
  {
   "cell_type": "code",
   "execution_count": 33,
   "metadata": {
    "ExecuteTime": {
     "end_time": "2019-07-12T17:15:06.676363Z",
     "start_time": "2019-07-12T17:15:06.670372Z"
    }
   },
   "outputs": [],
   "source": [
    "# toy dataset\n",
    "data = th.tensor([[1., 1], [0, 1], [1, 0], [0, 0]], requires_grad=True)\n",
    "target = th.tensor([[1.], [1], [0], [0]], requires_grad=True)"
   ]
  },
  {
   "cell_type": "code",
   "execution_count": 34,
   "metadata": {
    "ExecuteTime": {
     "end_time": "2019-07-12T17:15:07.063243Z",
     "start_time": "2019-07-12T17:15:07.058246Z"
    }
   },
   "outputs": [],
   "source": [
    "#Simple linear model\n",
    "model = nn.Linear(2, 1)"
   ]
  },
  {
   "cell_type": "code",
   "execution_count": 35,
   "metadata": {
    "ExecuteTime": {
     "end_time": "2019-07-12T17:15:07.428471Z",
     "start_time": "2019-07-12T17:15:07.420478Z"
    }
   },
   "outputs": [],
   "source": [
    "#create optimizer\n",
    "\n",
    "opt = optim.SGD(params=model.parameters(), lr = 0.01)"
   ]
  },
  {
   "cell_type": "code",
   "execution_count": 36,
   "metadata": {
    "ExecuteTime": {
     "end_time": "2019-07-12T17:15:07.768880Z",
     "start_time": "2019-07-12T17:15:07.764883Z"
    }
   },
   "outputs": [],
   "source": [
    "opt.zero_grad()"
   ]
  },
  {
   "cell_type": "code",
   "execution_count": 37,
   "metadata": {
    "ExecuteTime": {
     "end_time": "2019-07-12T17:15:08.133952Z",
     "start_time": "2019-07-12T17:15:08.128955Z"
    }
   },
   "outputs": [],
   "source": [
    "pred = model(data)"
   ]
  },
  {
   "cell_type": "code",
   "execution_count": 38,
   "metadata": {
    "ExecuteTime": {
     "end_time": "2019-07-12T17:15:08.483946Z",
     "start_time": "2019-07-12T17:15:08.477956Z"
    }
   },
   "outputs": [],
   "source": [
    "loss = ((pred - target) ** 2).sum()"
   ]
  },
  {
   "cell_type": "code",
   "execution_count": 39,
   "metadata": {
    "ExecuteTime": {
     "end_time": "2019-07-12T17:15:08.855642Z",
     "start_time": "2019-07-12T17:15:08.850644Z"
    }
   },
   "outputs": [],
   "source": [
    "loss.backward()"
   ]
  },
  {
   "cell_type": "code",
   "execution_count": 40,
   "metadata": {
    "ExecuteTime": {
     "end_time": "2019-07-12T17:15:09.269161Z",
     "start_time": "2019-07-12T17:15:09.265166Z"
    }
   },
   "outputs": [],
   "source": [
    "opt.step()"
   ]
  },
  {
   "cell_type": "code",
   "execution_count": 41,
   "metadata": {
    "ExecuteTime": {
     "end_time": "2019-07-12T17:15:09.636433Z",
     "start_time": "2019-07-12T17:15:09.628418Z"
    }
   },
   "outputs": [
    {
     "data": {
      "text/plain": [
       "tensor(4.8921)"
      ]
     },
     "execution_count": 41,
     "metadata": {},
     "output_type": "execute_result"
    }
   ],
   "source": [
    "loss.data"
   ]
  },
  {
   "cell_type": "code",
   "execution_count": 42,
   "metadata": {
    "ExecuteTime": {
     "end_time": "2019-07-12T17:15:10.005376Z",
     "start_time": "2019-07-12T17:15:09.999378Z"
    }
   },
   "outputs": [],
   "source": [
    "#create method to learn the model\n",
    "\n",
    "def train(iteration = 20):\n",
    "    for i in range(iteration):\n",
    "        opt.zero_grad()\n",
    "        pred = model(data)\n",
    "        loss = ((pred - target) ** 2).sum()\n",
    "        loss.backward()\n",
    "        opt.step()\n",
    "        print(\"In %i loss:\"%i, \"%f\" %loss.data)\n",
    "        "
   ]
  },
  {
   "cell_type": "code",
   "execution_count": 43,
   "metadata": {
    "ExecuteTime": {
     "end_time": "2019-07-12T17:15:11.614854Z",
     "start_time": "2019-07-12T17:15:11.458946Z"
    }
   },
   "outputs": [
    {
     "name": "stdout",
     "output_type": "stream",
     "text": [
      "In 0 loss: 3.795036\n",
      "In 1 loss: 2.957207\n",
      "In 2 loss: 2.316843\n",
      "In 3 loss: 1.826911\n",
      "In 4 loss: 1.451601\n",
      "In 5 loss: 1.163645\n",
      "In 6 loss: 0.942279\n",
      "In 7 loss: 0.771690\n",
      "In 8 loss: 0.639838\n",
      "In 9 loss: 0.537552\n",
      "In 10 loss: 0.457847\n",
      "In 11 loss: 0.395402\n",
      "In 12 loss: 0.346165\n",
      "In 13 loss: 0.307045\n",
      "In 14 loss: 0.275690\n",
      "In 15 loss: 0.250305\n",
      "In 16 loss: 0.229521\n",
      "In 17 loss: 0.212295\n",
      "In 18 loss: 0.197829\n",
      "In 19 loss: 0.185514\n"
     ]
    }
   ],
   "source": [
    "train()"
   ]
  },
  {
   "cell_type": "code",
   "execution_count": 45,
   "metadata": {
    "ExecuteTime": {
     "end_time": "2019-07-12T17:18:40.861394Z",
     "start_time": "2019-07-12T17:18:31.704127Z"
    }
   },
   "outputs": [
    {
     "name": "stderr",
     "output_type": "stream",
     "text": [
      "WARNING:tf_encrypted:Falling back to insecure randomness since the required custom op could not be found for the installed version of TensorFlow. Fix this by compiling custom ops. Missing file was 'C:\\ProgramData\\Anaconda3\\lib\\site-packages\\tf_encrypted-0.5.6-py3.6.egg\\tf_encrypted/operations/secure_random/secure_random_module_tf_1.12.0.so'\n",
      "WARNING:root:Falling back to using int100 tensors due to lack of int64 support. Performance may be improved by installing a version of TensorFlow supporting this (1.13+ or custom build).\n"
     ]
    }
   ],
   "source": [
    "# Use two virtual workers and send half datasets to each\n",
    "import syft as sy\n",
    "\n",
    "hook = sy.TorchHook(th)\n",
    "viper = sy.VirtualWorker(hook, id = \"viper\")\n",
    "quassi = sy.VirtualWorker(hook, id = \"quassi\")"
   ]
  },
  {
   "cell_type": "code",
   "execution_count": 46,
   "metadata": {
    "ExecuteTime": {
     "end_time": "2019-07-12T17:20:14.157984Z",
     "start_time": "2019-07-12T17:20:14.086108Z"
    }
   },
   "outputs": [],
   "source": [
    "data_viper = data[:2].send(viper)\n",
    "target_viper = target[:2].send(viper)\n",
    "\n",
    "data_quassi = data[2:].send(quassi)\n",
    "target_quassi = target[2:].send(quassi)"
   ]
  },
  {
   "cell_type": "code",
   "execution_count": 47,
   "metadata": {
    "ExecuteTime": {
     "end_time": "2019-07-12T17:21:01.707442Z",
     "start_time": "2019-07-12T17:21:01.702447Z"
    }
   },
   "outputs": [],
   "source": [
    "datasets = [(data_viper, target_viper), (data_quassi, target_quassi)]"
   ]
  },
  {
   "cell_type": "code",
   "execution_count": 48,
   "metadata": {
    "ExecuteTime": {
     "end_time": "2019-07-12T17:21:25.181171Z",
     "start_time": "2019-07-12T17:21:25.175176Z"
    }
   },
   "outputs": [],
   "source": [
    "model = nn.Linear(2, 1)"
   ]
  },
  {
   "cell_type": "code",
   "execution_count": 49,
   "metadata": {
    "ExecuteTime": {
     "end_time": "2019-07-12T17:22:13.485126Z",
     "start_time": "2019-07-12T17:22:13.481128Z"
    }
   },
   "outputs": [],
   "source": [
    "opt = optim.SGD(params = model.parameters(), lr = 0.01)"
   ]
  },
  {
   "cell_type": "code",
   "execution_count": 50,
   "metadata": {
    "ExecuteTime": {
     "end_time": "2019-07-12T17:25:38.124882Z",
     "start_time": "2019-07-12T17:25:37.905656Z"
    }
   },
   "outputs": [],
   "source": [
    "_data, _target = datasets[0]\n",
    "model = model.send(_data.location)"
   ]
  },
  {
   "cell_type": "code",
   "execution_count": 51,
   "metadata": {
    "ExecuteTime": {
     "end_time": "2019-07-12T17:26:54.513378Z",
     "start_time": "2019-07-12T17:26:54.507382Z"
    }
   },
   "outputs": [],
   "source": [
    "def train(iterations=20):\n",
    "\n",
    "    model = nn.Linear(2,1)\n",
    "    opt = optim.SGD(params=model.parameters(), lr=0.1)\n",
    "    \n",
    "    for iter in range(iterations):\n",
    "\n",
    "        for _data, _target in datasets:\n",
    "\n",
    "            # send model to the data\n",
    "            model = model.send(_data.location)\n",
    "\n",
    "            # do normal training\n",
    "            opt.zero_grad()\n",
    "            pred = model(_data)\n",
    "            loss = ((pred - _target)**2).sum()\n",
    "            loss.backward()\n",
    "            opt.step()\n",
    "\n",
    "            # get smarter model back\n",
    "            model = model.get()\n",
    "\n",
    "            print(loss.get())"
   ]
  },
  {
   "cell_type": "code",
   "execution_count": 53,
   "metadata": {
    "ExecuteTime": {
     "end_time": "2019-07-12T17:27:05.810480Z",
     "start_time": "2019-07-12T17:27:04.689124Z"
    }
   },
   "outputs": [
    {
     "name": "stdout",
     "output_type": "stream",
     "text": [
      "tensor(7.7274, requires_grad=True)\n",
      "tensor(0.2678, requires_grad=True)\n",
      "tensor(0.2860, requires_grad=True)\n",
      "tensor(0.2533, requires_grad=True)\n",
      "tensor(0.1066, requires_grad=True)\n",
      "tensor(0.1542, requires_grad=True)\n",
      "tensor(0.0598, requires_grad=True)\n",
      "tensor(0.0917, requires_grad=True)\n",
      "tensor(0.0347, requires_grad=True)\n",
      "tensor(0.0546, requires_grad=True)\n",
      "tensor(0.0203, requires_grad=True)\n",
      "tensor(0.0327, requires_grad=True)\n",
      "tensor(0.0119, requires_grad=True)\n",
      "tensor(0.0197, requires_grad=True)\n",
      "tensor(0.0070, requires_grad=True)\n",
      "tensor(0.0119, requires_grad=True)\n",
      "tensor(0.0041, requires_grad=True)\n",
      "tensor(0.0073, requires_grad=True)\n",
      "tensor(0.0025, requires_grad=True)\n",
      "tensor(0.0045, requires_grad=True)\n",
      "tensor(0.0015, requires_grad=True)\n",
      "tensor(0.0028, requires_grad=True)\n",
      "tensor(0.0009, requires_grad=True)\n",
      "tensor(0.0017, requires_grad=True)\n",
      "tensor(0.0006, requires_grad=True)\n",
      "tensor(0.0011, requires_grad=True)\n",
      "tensor(0.0004, requires_grad=True)\n",
      "tensor(0.0007, requires_grad=True)\n",
      "tensor(0.0002, requires_grad=True)\n",
      "tensor(0.0005, requires_grad=True)\n",
      "tensor(0.0002, requires_grad=True)\n",
      "tensor(0.0003, requires_grad=True)\n",
      "tensor(0.0001, requires_grad=True)\n",
      "tensor(0.0002, requires_grad=True)\n",
      "tensor(6.9098e-05, requires_grad=True)\n",
      "tensor(0.0001, requires_grad=True)\n",
      "tensor(4.7921e-05, requires_grad=True)\n",
      "tensor(9.3261e-05, requires_grad=True)\n",
      "tensor(3.3760e-05, requires_grad=True)\n",
      "tensor(6.4389e-05, requires_grad=True)\n"
     ]
    }
   ],
   "source": [
    "train()"
   ]
  },
  {
   "cell_type": "code",
   "execution_count": null,
   "metadata": {},
   "outputs": [],
   "source": []
  }
 ],
 "metadata": {
  "kernelspec": {
   "display_name": "Python 3",
   "language": "python",
   "name": "python3"
  },
  "language_info": {
   "codemirror_mode": {
    "name": "ipython",
    "version": 3
   },
   "file_extension": ".py",
   "mimetype": "text/x-python",
   "name": "python",
   "nbconvert_exporter": "python",
   "pygments_lexer": "ipython3",
   "version": "3.6.8"
  },
  "varInspector": {
   "cols": {
    "lenName": 16,
    "lenType": 16,
    "lenVar": 40
   },
   "kernels_config": {
    "python": {
     "delete_cmd_postfix": "",
     "delete_cmd_prefix": "del ",
     "library": "var_list.py",
     "varRefreshCmd": "print(var_dic_list())"
    },
    "r": {
     "delete_cmd_postfix": ") ",
     "delete_cmd_prefix": "rm(",
     "library": "var_list.r",
     "varRefreshCmd": "cat(var_dic_list()) "
    }
   },
   "types_to_exclude": [
    "module",
    "function",
    "builtin_function_or_method",
    "instance",
    "_Feature"
   ],
   "window_display": false
  }
 },
 "nbformat": 4,
 "nbformat_minor": 2
}
